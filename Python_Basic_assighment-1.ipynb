{
  "nbformat": 4,
  "nbformat_minor": 0,
  "metadata": {
    "colab": {
      "provenance": []
    },
    "kernelspec": {
      "name": "python3",
      "display_name": "Python 3"
    },
    "language_info": {
      "name": "python"
    }
  },
  "cells": [
    {
      "cell_type": "markdown",
      "source": [
        "# **Python Basic Questions**\n",
        "\n",
        "---\n",
        "\n",
        "\n"
      ],
      "metadata": {
        "id": "9Gr9Xy7y4XQF"
      }
    },
    {
      "cell_type": "markdown",
      "source": [
        "1. What is Python, and why is it popular?\n",
        "   - Python is a versatile, high-level programming language known for its clear, readable syntax and extensive capabilities.\n",
        "    - Simplicity and Readability:- Python's syntax is designed for clarity and ease of understanding, resembling natural language. It emphasizes code readability through the use of indentation, making it easier to learn and use, especially for beginners.\n",
        "\n",
        "     - Versatility:- Python is a general-purpose language with applications across numerous domains, including web development, data analysis, scientific computing, artificial intelligence, and more. Frameworks like Django and Flask are popular for web development, while libraries like Pandas, NumPy, and Matplotlib are vital for data science.\n",
        "\n",
        "     - Extensive Libraries and Frameworks:- Python boasts a rich ecosystem of libraries and frameworks that simplify development. Examples include NumPy and Pandas for data analysis, Matplotlib for data visualization, Flask and Django for web development, and TensorFlow and PyTorch for machine learning.\n",
        "\n",
        "     - Active and Supportive Community:- Python has a large and active community of developers who contribute to the language, create resources, and offer support through online forums and platforms. This strong community helps ensure the language's continued growth and provides resources for learners at all levels.\n",
        "\n",
        "     - Cross-Platform Compatibility:- Python code can run on various operating systems like Windows, macOS, and Linux without modification, according to NxtWave | CCBP 4.0 Certification Programs. This portability simplifies development and deployment across different environments.\n",
        "\n",
        "     - Rapid Development and Prototyping:- Python's simplicity and extensive library support allow for quick development and prototyping. This is especially useful for quickly testing ideas and bringing products to market faster.\n",
        "\n",
        "     - Strong Corporate and Institutional Backing:- Tech giants like Google, Netflix, and Facebook use Python extensively in their infrastructure. Python is also widely adopted in scientific and academic fields. This backing ensures the language's ongoing development and relevance.\n",
        "\n",
        "     In essence, Python's combination of simplicity, versatility, and robust community support makes it a highly attractive and practical choice for both beginners and experienced developers working on a wide range of projects and applications."
      ],
      "metadata": {
        "id": "DG7lRn0Q4nXp"
      }
    },
    {
      "cell_type": "markdown",
      "source": [
        "2. What is an interpreter in Python?\n",
        "   - A Python interpreter is a program that reads and executes Python code line by line. It acts as a translator between the high-level Python code you write (which humans can understand) and the low-level instructions that the computer can directly execute."
      ],
      "metadata": {
        "id": "rAwuihCE6GR-"
      }
    },
    {
      "cell_type": "markdown",
      "source": [
        "3. What are pre-defined keywords in Python?\n",
        "   - Pre-defined keywords in Python are special, reserved words that have specific meanings and purposes within the language. They form the fundamental vocabulary and rules that the Python interpreter understands to execute your code correctly.\n",
        "\n",
        "    Here's a breakdown of what that means:\n",
        "\n",
        "     - Reserved Words:- Keywords are set aside by the language itself and cannot be used for other purposes, such as naming your own variables, functions, or classes. For instance, you can't have a variable named if or a function named while.\n",
        "\n",
        "     - Special Meanings: Each keyword performs a particular task or signifies a specific element within the program's structure. For example, the if keyword indicates the beginning of a conditional statement, allowing your program to make decisions based on certain conditions.\n",
        "\n",
        "     - Defining the Language's Syntax and Structure: Keywords are crucial for defining the structure and logic of your Python code, helping to create functions, classes, loops, and conditional statements.\n",
        "\n",
        "     Why are keywords important?\n",
        "\n",
        "     - Clarity and Readability: Keywords enhance code readability by clearly indicating the programmer's intent. They provide structure and make the code easier to understand for both yourself and other developers.\n",
        "\n",
        "    - Consistency and Standardization: Keywords ensure consistency and standardization across Python codebases, making it easier to write and maintain programs.\n",
        "\n",
        "     - Error Prevention: Misusing keywords by using them as identifiers will lead to syntax errors, which are mistakes in the program's structure or syntax.\n",
        "\n",
        "     Examples of common keywords and their uses\n",
        "\n",
        "     Python includes keywords for various purposes, such as:\n",
        "\n",
        "     - Conditional statements: if, else, elif\n",
        "     - Loops: for, while\n",
        "     - Defining functions and classes: def, class\n",
        "     - Importing modules: import, from, as\n",
        "     - Boolean values and null: True, False, None\n",
        "     - Logical operations: and, or, not\n",
        "     - Exception handling: try, except, finally\n",
        "\n",
        "     Note that Python keywords are case-sensitive. Except for True, False, and None, all keywords are in lowercase.\n",
        "\n",
        "     In conclusion\n",
        "\n",
        "     - Keywords are foundational to Python programming, acting as the building blocks for code. Understanding their specific meanings and usage rules is crucial for writing clean, efficient, and maintainable code."
      ],
      "metadata": {
        "id": "JJH32v1i6ZoL"
      }
    },
    {
      "cell_type": "markdown",
      "source": [
        "4. Can keywords be used as variable names?\n",
        "   - No, Python's pre-defined keywords cannot be used as variable names. Keywords are reserved words that have special meanings to the Python interpreter and are essential for defining the language's syntax and structure"
      ],
      "metadata": {
        "id": "VYzmCsYz8bBD"
      }
    },
    {
      "cell_type": "markdown",
      "source": [
        "5. What is mutability in Python ?\n",
        "   - Mutability in Python: Understanding changeable and unchangeable objects\n",
        "\n",
        "     - In Python, the terms mutable and immutable refer to whether the state or content of an object can be changed after it's created. Understanding this distinction is crucial for writing efficient and bug-free code, impacting aspects like memory management, performance, and how data is handled within your programs.\n",
        "\n",
        "     Mutable objects:-\n",
        "\n",
        "     - Mutable objects are data types whose values can be modified in place after they are created. You can add, remove, or change elements of a mutable object without creating a new object in memory.\n",
        "\n",
        "      Mutable objects can be modified directly, retain the same memory address, and changes affect all references. Examples include lists, dictionaries, sets, and byte arrays.\n",
        "\n",
        "      Immutable objects cannot be changed after creation; modifications result in a new object. They are efficient, can be used as dictionary keys or in sets, and are thread-safe. Examples include strings, tuples, integers, and frozensets.\n",
        "\n",
        "      Choose mutable types for frequent changes or dynamic collections, and immutable types for data integrity or hash-based collections. Understanding mutability is key for reliable and efficient Python code"
      ],
      "metadata": {
        "id": "Prtig3gl9DSD"
      }
    },
    {
      "cell_type": "markdown",
      "source": [
        "6. Why are lists mutable, but tuples are immutable ?\n",
        "   - The fundamental difference between lists and tuples in Python lies in their mutability: lists are mutable, meaning their contents can be modified after creation, while tuples are immutable, and their contents cannot be changed once defined. This design choice is not arbitrary; it's a deliberate part of Python's design philosophy, serving to provide different types of data structures optimized for specific use cases.\n",
        "\n",
        "     Reasons for lists being mutable:-\n",
        "\n",
        "     - Lists are designed to be flexible for dynamic data that changes frequently, such as user input or data streams. They offer convenient methods like append(), remove(), and sort() for easy modification. Their mutability makes them efficient for tasks requiring frequent updates, like adding items or changing dictionary keys.\n",
        "\n",
        "     Reasons for tuples being immutable:-\n",
        "\n",
        "     - Tuples are used for data that should remain constant, like configuration settings or database records. Their immutability ensures thread safety by eliminating the need for complex locking mechanisms in multi-threaded applications. Because they are immutable and their hash value is constant, tuples can be used as keys in dictionaries and elements in sets, which lists cannot. Python can also optimize immutable objects, potentially saving memory and allowing for faster access. Using tuples for unchanging data leads to more predictable code behavior and helps avoid unintended side effects.\n",
        "\n",
        "      In summary, choose a list if you need a collection that can be modified, and a tuple for a fixed, unchangeable collection. Understanding these differences helps in selecting the appropriate data structure for efficient and robust code."
      ],
      "metadata": {
        "id": "ay-cswDi9yJm"
      }
    },
    {
      "cell_type": "markdown",
      "source": [
        "7. What is the difference between “==” and “is” operators in Python ?\n",
        "- Equality Operator:-\n",
        "\n",
        "     - Compares the values of two objects.\n",
        "\n",
        "     - Checks whether the contents of the objects are the same.\n",
        "\n",
        "     - Internally, it uses the __eq__() method of the object.\n",
        "\n",
        "- Identity Operator:-\n",
        "\n",
        "     - Compares the identities of two objects.\n",
        "\n",
        "     - Checks whether both variables point to the same object in memory.\n",
        "\n",
        "     - Internally, it compares the memory addresses (object IDs) using id().\n",
        "\n"
      ],
      "metadata": {
        "id": "x_ID5uza-bnd"
      }
    },
    {
      "cell_type": "markdown",
      "source": [
        "8. What are logical operators in Python?\n",
        "  - Logical operators are used to combine multiple conditions (expressions that evaluate to True or False) and return a Boolean result."
      ],
      "metadata": {
        "id": "pZ9IL9T8_yxz"
      }
    },
    {
      "cell_type": "markdown",
      "source": [
        "9. What is type casting in Python?\n",
        "  - Type casting means converting one data type into another — for example, turning a string into an integer, or a float into a string."
      ],
      "metadata": {
        "id": "ENUAiu5HAHGJ"
      }
    },
    {
      "cell_type": "markdown",
      "source": [
        "10. What is the difference between implicit and explicit type casting?\n",
        "   - Implicit Type Casting:-\n",
        "\n",
        "     - Also called type coercion.\n",
        "\n",
        "     - It is an automatic conversion of one data type to another by the Python interpreter.\n",
        "\n",
        "     - Happens without programmer intervention during evaluation of expressions.\n",
        "\n",
        "     - Ensures safe conversion between compatible types to avoid data loss.\n",
        "\n",
        "     - Example: When an int is combined with a float, the int is automatically converted to float.\n",
        "\n",
        "  - Explicit Type Casting:-\n",
        "\n",
        "     - Also called type conversion.\n",
        "\n",
        "     - It is a manual conversion where the programmer explicitly converts one data type to another.\n",
        "\n",
        "     - Requires the use of type casting functions such as int(), float(), str(), etc.\n",
        "\n",
        "     - Allows conversion between compatible and sometimes incompatible types (though incompatible conversions may raise errors).\n",
        "\n",
        "     - Gives the programmer full control over the conversion process."
      ],
      "metadata": {
        "id": "27_2gjNkATbw"
      }
    },
    {
      "cell_type": "markdown",
      "source": [
        "11.  What is the purpose of conditional statements in Python?\n",
        "     - Conditional statements in Python are fundamental tools that empower your programs to make decisions and execute specific blocks of code based on whether certain conditions are met. They enable your code to respond dynamically to different inputs, data, or situations, making your programs more flexible, adaptable, and intelligent."
      ],
      "metadata": {
        "id": "n2uysoQXBkDh"
      }
    },
    {
      "cell_type": "markdown",
      "source": [
        "12. How does the elif statement work ?\n",
        "    - The elif statement in Python is short for \"else if\" and is a core component of conditional statements (along with if and else). It allows you to check multiple conditions sequentially and execute a specific block of code as soon as a true condition is found.\n",
        "\n",
        "     Here's a breakdown of how the elif statement works:-\n",
        "\n",
        "     - Starts after an if statement: An elif statement cannot exist on its own; it must always follow an if statement within the same code block.\n",
        "\n",
        "     - Sequential evaluation: The elif conditions are evaluated only if the preceding if condition (or previous elif conditions) are found to be false.\n",
        "\n",
        "     - Executes the first true condition's block: Once the interpreter encounters an elif condition that evaluates to True, it executes the code block associated with that elif statement.\n",
        "\n",
        "     - Skips the rest: After executing the code block for the first true elif condition, the interpreter skips all subsequent elif and else statements within that if-elif-else chain.\n",
        "\n",
        "     - Optional else statement: You can have an optional else statement at the end of the if-elif chain. The else block is executed only if none of the preceding if or elif conditions evaluate to True.\n",
        "\n",
        "     - Multiple elif statements: You can include multiple elif statements within a single if-elif-else structure, allowing you to check numerous conditions."
      ],
      "metadata": {
        "id": "dZN1CLS0B0pI"
      }
    },
    {
      "cell_type": "markdown",
      "source": [
        "13. What is the difference between for and while loops?\n",
        "  - Here’s a clear theoretical difference between for and while loops in Python:-\n",
        "\n",
        "     For Loop:-\n",
        "\n",
        "     - Used to iterate over a sequence (like a list, tuple, string, or range).\n",
        "     - The number of iterations is usually known or fixed beforehand.\n",
        "      - Syntax involves specifying the items to loop over directly.\n",
        "\n",
        "     While Loop:-\n",
        "\n",
        "     - Used to repeat code as long as a condition is true.\n",
        "     - The number of iterations is not necessarily known in advance.\n",
        "     - You control the loop by a condition that’s checked before each iteration."
      ],
      "metadata": {
        "id": "o3H1fCU_CeS6"
      }
    },
    {
      "cell_type": "markdown",
      "source": [
        "14. Describe a scenario where a while loop is more suitable than a for loop?\n",
        " - Scenario: User Input Validation\n",
        "\n",
        "     Imagine you want to repeatedly ask a user to enter a correct password. You don’t know in advance how many attempts the user will take, so you need to keep asking until they get it right.\n",
        "\n",
        "    \n",
        "\n",
        "```\n",
        "#correct_password = \"secret123\"\n",
        "user_input = \"\"\n",
        "\n",
        "while user_input != correct_password:\n",
        "    user_input = input(\"Enter the password: \")\n",
        "    if user_input != correct_password:\n",
        "        print(\"Wrong password, try again.\")\n",
        "\n",
        "print(\"Access granted!\")\n",
        "\n",
        "```\n",
        "\n",
        "\n",
        "- Why while is better:-\n",
        "    - The number of attempts is unknown beforehand.\n",
        "\n",
        "    - You want to keep looping until a condition is met (correct password entered).\n",
        "\n",
        "    - A for loop is not ideal because it expects a fixed number of iterations or a sequence to iterate over.\n",
        "\n",
        "\n"
      ],
      "metadata": {
        "id": "C7CEWUmiDrvZ"
      }
    },
    {
      "cell_type": "markdown",
      "source": [
        "# Practical Questions\n",
        "\n",
        "---\n",
        "\n"
      ],
      "metadata": {
        "id": "VSTfxOCAHtmF"
      }
    },
    {
      "cell_type": "markdown",
      "source": [
        "1. Write a Python program to print \"Hello, World!\"?\n",
        "  - print(\"Hello, World!\")\n"
      ],
      "metadata": {
        "id": "JCXYC9i_IFR7"
      }
    },
    {
      "cell_type": "markdown",
      "source": [
        "2. Write a Python program that displays your name and age?\n",
        "   -\n",
        "\n",
        "```\n",
        "\n",
        "name = \"Alice\"\n",
        "age = 25\n",
        "\n",
        "print(\"My name is\", name)\n",
        "print(\"I am\", age, \"years old\")\n",
        "\n",
        "```\n",
        "\n"
      ],
      "metadata": {
        "id": "sImoYYEZIUJa"
      }
    },
    {
      "cell_type": "markdown",
      "source": [
        "3. Write code to print all the pre-defined keywords in Python using the keyword library?\n",
        "   -\n",
        "\n",
        "```\n",
        "import keyword\n",
        "\n",
        "# Get the list of all keywords\n",
        "keywords_list = keyword.kwlist\n",
        "\n",
        "# Print them\n",
        "print(\"Python Keywords:\")\n",
        "for kw in keywords_list:\n",
        "    print(kw)\n",
        "\n",
        "```\n",
        "\n"
      ],
      "metadata": {
        "id": "xhcP-GPMIjgT"
      }
    },
    {
      "cell_type": "markdown",
      "source": [
        "4. Write a program that checks if a given word is a Python keyword?\n",
        "   -\n",
        "\n",
        "```\n",
        "import keyword\n",
        "\n",
        "# Ask the user for input\n",
        "word = input(\"Enter a word: \")\n",
        "\n",
        "# Check if it's a Python keyword\n",
        "if keyword.iskeyword(word):\n",
        "    print(f\"'{word}' is a Python keyword.\")\n",
        "else:\n",
        "    print(f\"'{word}' is NOT a Python keyword.\")\n",
        "\n",
        "```\n",
        "\n"
      ],
      "metadata": {
        "id": "dD-bgM7mKJs1"
      }
    },
    {
      "cell_type": "markdown",
      "source": [
        "5. Create a list and tuple in Python, and demonstrate how attempting to change an element works differently\n",
        "for each?\n",
        "  -\n",
        "\n",
        "```\n",
        "# A list (mutable)\n",
        "my_list = [10, 20, 30]\n",
        "\n",
        "# A tuple (immutable)\n",
        "my_tuple = (10, 20, 30)\n",
        "\n",
        "my_list[0]=100\n",
        "print(my_list)\n",
        "my_tuple[0]=100\n",
        "print(my_tuple)\n",
        "```\n",
        "~~~\n",
        "[100, 20, 30]\n",
        "---------------------------------------------------------------------------\n",
        "TypeError                                 Traceback (most recent call last)\n",
        "Cell In[15], line 9\n",
        "      7 my_list[0]=100\n",
        "      8 print(my_list)\n",
        "----> 9 my_tuple[0]=100\n",
        "     10 print(my_tuple)\n",
        "\n",
        "TypeError: 'tuple' object does not support item assignment\n",
        "~~~\n"
      ],
      "metadata": {
        "id": "b6IxBf1APJxD"
      }
    },
    {
      "cell_type": "markdown",
      "source": [
        "6. Write a function to demonstrate the behavior of mutable and immutable arguments?\n",
        "   -\n",
        "\n",
        "```\n",
        "def change_values(a, b):\n",
        "    a = a + 1         # 'a' is an int (immutable)\n",
        "    b.append(4)       # 'b' is a list (mutable)\n",
        "    print(\"Inside function:\")\n",
        "    print(\"a =\", a)\n",
        "    print(\"b =\", b)\n",
        "\n",
        "x = 10\n",
        "y = [1, 2, 3]\n",
        "\n",
        "change_values(x, y)\n",
        "\n",
        "print(\"\\nOutside function:\")\n",
        "print(\"x =\", x)       # Not changed\n",
        "print(\"y =\", y)       # Changed\n",
        "\n",
        "```\n",
        "Inside function:\n",
        "a = 11\n",
        "b = [1, 2, 3, 4]\n",
        "\n",
        "Outside function:\n",
        "x = 10\n",
        "y = [1, 2, 3, 4]\n"
      ],
      "metadata": {
        "id": "RZOAZiahQMY2"
      }
    },
    {
      "cell_type": "markdown",
      "source": [
        "7. Write a program that performs basic arithmetic operations on two user-input numbers?\n",
        "  -\n",
        "\n",
        "```\n",
        "# Get input from the user\n",
        "num1 = float(input(\"Enter first number: \"))\n",
        "num2 = float(input(\"Enter second number: \"))\n",
        "\n",
        "# Perform operations\n",
        "addition = num1 + num2\n",
        "subtraction = num1 - num2\n",
        "multiplication = num1 * num2\n",
        "division = num1 / num2\n",
        "\n",
        "\n",
        "# Display results\n",
        "print(\"Addition:\", addition)\n",
        "print(\"Subtraction:\", subtraction)\n",
        "print(\"Multiplication:\", multiplication)\n",
        "print(\"Division:\", division)\n",
        "\n",
        "```\n",
        "\n"
      ],
      "metadata": {
        "id": "xG4PuSEge7DP"
      }
    },
    {
      "cell_type": "markdown",
      "source": [
        "8. Write a program to demonstrate the use of logical operators?\n",
        "  -\n",
        "\n",
        "```\n",
        "# Take input from user\n",
        "num1 = int(input(\"Enter first number: \"))\n",
        "num2 = int(input(\"Enter second number: \"))\n",
        "\n",
        "# Check if both numbers are positive\n",
        "print(\"Both numbers are positive:\", num1 > 0 and num2 > 0)\n",
        "\n",
        "# Check if at least one number is positive\n",
        "print(\"At least one number is positive:\", num1 > 0 or num2 > 0)\n",
        "\n",
        "# Check if neither number is negative\n",
        "print(\"Neither number is negative:\", not (num1 < 0 or num2 < 0))\n",
        "\n",
        "```\n",
        "Result:-\n",
        "\n",
        "Enter first number: 5\n",
        "\n",
        "Enter second number: -3\n",
        "\n",
        "Both numbers are positive: False\n",
        "\n",
        "At least one number is positive: True\n",
        "\n",
        "Neither number is negative: False\n",
        "\n"
      ],
      "metadata": {
        "id": "o0XPwX8jfnAA"
      }
    },
    {
      "cell_type": "markdown",
      "source": [
        "9.  Write a Python program to convert user input from string to integer, float, and boolean types?\n",
        "   -\n",
        "\n",
        "```\n",
        "# Get input from the user\n",
        "value = input(\"Enter a number: \")\n",
        "\n",
        "# Convert the input\n",
        "int_value = int(value)\n",
        "float_value = float(value)\n",
        "bool_value = bool(int_value)  # or bool(float_value)\n",
        "\n",
        "# Display the results\n",
        "print(\"Integer:\", int_value)\n",
        "print(\"Float:\", float_value)\n",
        "print(\"Boolean:\", bool_value)\n",
        "\n",
        "```\n",
        "\n"
      ],
      "metadata": {
        "id": "CtPHflO9gzQr"
      }
    },
    {
      "cell_type": "markdown",
      "source": [
        "10. Write code to demonstrate type casting with list elements?\n",
        "    -\n",
        "\n",
        "```\n",
        "# List of integers\n",
        "numbers = [1, 2, 3]\n",
        "\n",
        "# Convert each number to string\n",
        "str_list = [str(num) for num in numbers]\n",
        "print(\"String list:\", str_list)\n",
        "\n",
        "int_list = [int(num) for num in str_list]\n",
        "print(\"Integer list:\", int_list)\n",
        "\n",
        "# Convert back to float\n",
        "float_list = [float(num) for num in str_list]\n",
        "print(\"Float list:\", float_list)\n",
        "\n",
        "```\n",
        "\n"
      ],
      "metadata": {
        "id": "0Cy8TIcLh5zj"
      }
    },
    {
      "cell_type": "markdown",
      "source": [
        "11. Write a program that checks if a number is positive, negative, or zero?\n",
        "   -\n",
        "\n",
        "\n",
        "```\n",
        "num = int(input(\"Enter a number: \"))\n",
        "\n",
        "if num > 0:\n",
        "    print(\"Positive\")\n",
        "elif num < 0:\n",
        "    print(\"Negative\")\n",
        "else:\n",
        "    print(\"Zero\")\n",
        "\n",
        "```\n",
        "\n"
      ],
      "metadata": {
        "id": "9mNT-iCbi_uA"
      }
    },
    {
      "cell_type": "markdown",
      "source": [
        "12. Write a for loop to print numbers from 1 to 10?\n",
        "   -\n",
        "\n",
        "\n",
        "```\n",
        "a=0\n",
        "for i in range(1, 11):\n",
        "  \n",
        "    print(i)    \n",
        "    i+=1\n",
        "```\n",
        "\n"
      ],
      "metadata": {
        "id": "77ufMFwpjj4a"
      }
    },
    {
      "cell_type": "markdown",
      "source": [
        "13.  Write a Python program to find the sum of all even numbers between 1 and 50?\n",
        "   -\n",
        "\n",
        "```\n",
        "# Initialize sum\n",
        "total = 0\n",
        "\n",
        "# Loop through numbers 1 to 50\n",
        "for i in range(1, 51):\n",
        "    if i % 2 == 0:\n",
        "        total += i\n",
        "\n",
        "# Print the result\n",
        "print(\"Sum of even numbers from 1 to 50 is:\", total)\n",
        "\n",
        "```\n",
        "\n"
      ],
      "metadata": {
        "id": "TWAflBl1kXTb"
      }
    },
    {
      "cell_type": "markdown",
      "source": [
        "14.  Write a program to reverse a string using a while loop?\n",
        "  -\n",
        "\n",
        "\n",
        "```\n",
        "# Get input string from user\n",
        "input_str = input(\"Enter a string to reverse: \")\n",
        "\n",
        "# Initialize variables\n",
        "reversed_str = \"\"\n",
        "index = len(input_str) - 1\n",
        "\n",
        "\n",
        "# Reverse the string using a while loop\n",
        "while index >= 0:\n",
        "    reversed_str += input_str[index]\n",
        "    index -= 1\n",
        "   \n",
        "\n",
        "print(\"Reversed string:\", reversed_str)\n",
        "```\n",
        "\n"
      ],
      "metadata": {
        "id": "r9t7X2Kplo_4"
      }
    },
    {
      "cell_type": "markdown",
      "source": [
        "15. Write a Python program to calculate the factorial of a number provided by the user using a while loop?\n",
        " -\n",
        "\n",
        "```\n",
        "num = int(input(\"Enter a number: \"))\n",
        "fact = 1\n",
        "i = 1\n",
        "\n",
        "while i <= num:\n",
        "    fact = fact * i\n",
        "    i = i + 1\n",
        "\n",
        "print(\"Factorial is:\", fact)\n",
        "\n",
        "```\n",
        "\n"
      ],
      "metadata": {
        "id": "mx3eIX51nHeN"
      }
    }
  ]
}