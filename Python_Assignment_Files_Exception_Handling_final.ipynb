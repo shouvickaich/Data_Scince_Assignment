{
  "cells": [
    {
      "cell_type": "markdown",
      "source": [
        "### Files, Exceptional Handling, Logging and Memory Management — Assignment\n",
        "\n",
        "\n",
        "\n",
        "---\n",
        "\n"
      ],
      "metadata": {
        "id": "MpUDi-_Vaaml"
      },
      "id": "MpUDi-_Vaaml"
    },
    {
      "cell_type": "markdown",
      "id": "46b7f3f7",
      "metadata": {
        "id": "46b7f3f7"
      },
      "source": [
        "### Question: What is the difference between interpreted and compiled languages\n",
        "\n",
        "**Answer:**\n",
        "\n",
        "Compiled languages (e.g., C, C++) are transformed by a compiler into machine code ahead of execution. This machine code is then executed directly by the CPU. Advantages include faster runtime performance and optimizations done at compile time. Disadvantages include platform-specific binaries and longer edit-compile-run cycles.\n",
        "\n",
        "Interpreted languages (e.g., Python, JavaScript) are executed by an interpreter that reads and performs the code line-by-line or compiles to bytecode which is executed by a virtual machine. Advantages include portability, fast edit-run cycle, and interactive debugging. Disadvantages generally include slower execution speed compared to optimized compiled code.\n",
        "\n",
        "Note: Modern implementations blur the line (e.g., JIT compilation, bytecode compilation)."
      ]
    },
    {
      "cell_type": "markdown",
      "id": "53829ad3",
      "metadata": {
        "id": "53829ad3"
      },
      "source": [
        "### Question: What is exception handling in Python\n",
        "\n",
        "**Answer:**\n",
        "\n",
        "Exception handling is a mechanism to catch and manage runtime errors (exceptions) so the program can continue or fail gracefully. Python uses `try`, `except`, `else`, and `finally` blocks to handle exceptions. Raising exceptions manually with `raise` allows user-defined error flow."
      ]
    },
    {
      "cell_type": "markdown",
      "id": "4af4c82d",
      "metadata": {
        "id": "4af4c82d"
      },
      "source": [
        "### Question: What is the purpose of the finally block in exception handling\n",
        "\n",
        "**Answer:**\n",
        "\n",
        "The `finally` block contains code that must run whether an exception occurred or not (e.g., releasing resources, closing files or network connections). It runs after `try` and any `except` blocks, and before the function returns."
      ]
    },
    {
      "cell_type": "markdown",
      "id": "cd3bd5d2",
      "metadata": {
        "id": "cd3bd5d2"
      },
      "source": [
        "### Question: What is logging in Python\n",
        "\n",
        "**Answer:**\n",
        "\n",
        "Logging is a way to record events occurring during program execution. Python's `logging` module provides configurable logging levels, handlers (console, file, rotating files), and formatters. Logging replaces ad-hoc `print` statements for better control, filtering, and persistence of runtime information."
      ]
    },
    {
      "cell_type": "markdown",
      "id": "ce0c35de",
      "metadata": {
        "id": "ce0c35de"
      },
      "source": [
        "### Question: What is the significance of the _ _ del _ _ method in Python\n",
        "\n",
        "**Answer:**\n",
        "\n",
        "`__del__` is a destructor method called when an object is about to be destroyed (garbage collected). It's not guaranteed to run immediately or at all in some circumstances (circular references, interpreter shutdown). Use context managers (`with`) or explicit cleanup methods instead of relying on `__del__`."
      ]
    },
    {
      "cell_type": "markdown",
      "id": "31d9488f",
      "metadata": {
        "id": "31d9488f"
      },
      "source": [
        "### Question: What is the difference between import and from ... import in Python\n",
        "\n",
        "**Answer:**\n",
        "\n",
        "`import module` imports the whole module and requires attribute access (e.g., `module.func`). `from module import name` imports specific names directly into the current namespace (e.g., `func`). `from module import *` imports everything (not recommended due to namespace pollution)."
      ]
    },
    {
      "cell_type": "markdown",
      "id": "01e7e187",
      "metadata": {
        "id": "01e7e187"
      },
      "source": [
        "### Question: How can you handle multiple exceptions in Python\n",
        "\n",
        "**Answer:**\n",
        "\n",
        "Use multiple `except` blocks or a tuple in a single `except` to catch multiple exception types:\n",
        "\n",
        "```python\n",
        "try:\n",
        "    ...\n",
        "except (TypeError, ValueError) as e:\n",
        "    handle(e)\n",
        "except KeyError:\n",
        "    handle_key()\n",
        "```"
      ]
    },
    {
      "cell_type": "markdown",
      "id": "c4157040",
      "metadata": {
        "id": "c4157040"
      },
      "source": [
        "### Question: What is the purpose of the with statement when handling files in Python\n",
        "\n",
        "**Answer:**\n",
        "\n",
        "The `with` statement (context manager) ensures resources are properly acquired and released. For files, `with open(...) as f:` automatically closes the file when the block ends, even if exceptions occur."
      ]
    },
    {
      "cell_type": "markdown",
      "id": "0fee2374",
      "metadata": {
        "id": "0fee2374"
      },
      "source": [
        "### Question: What is the difference between multithreading and multiprocessing\n",
        "\n",
        "**Answer:**\n",
        "\n",
        "Multithreading uses multiple threads within the same process sharing memory space; threads are useful for I/O-bound tasks. Multiprocessing uses multiple processes with separate memory spaces; it avoids the Global Interpreter Lock (GIL) in CPython and is better for CPU-bound tasks. Processes have higher overhead but better parallel CPU utilization."
      ]
    },
    {
      "cell_type": "markdown",
      "id": "7d21a87a",
      "metadata": {
        "id": "7d21a87a"
      },
      "source": [
        "### Question: What are the advantages of using logging in a program\n",
        "\n",
        "**Answer:**\n",
        "\n",
        "- Persistent record of events for debugging and auditing.\n",
        "- Configurable verbosity via levels (DEBUG, INFO, WARNING, ERROR, CRITICAL).\n",
        "- Multiple handlers (console, file, remote) and formats.\n",
        "- Can be toggled without changing code logic (configuration-based)."
      ]
    },
    {
      "cell_type": "markdown",
      "id": "34f996b9",
      "metadata": {
        "id": "34f996b9"
      },
      "source": [
        "### Question: What is memory management in Python\n",
        "\n",
        "**Answer:**\n",
        "\n",
        "Memory management is how Python allocates, tracks, and frees memory for objects. CPython uses reference counting plus a cyclic garbage collector to reclaim cyclic references. The interpreter also has allocators for small objects."
      ]
    },
    {
      "cell_type": "markdown",
      "id": "e75e55c4",
      "metadata": {
        "id": "e75e55c4"
      },
      "source": [
        "### Question: What are the basic steps involved in exception handling in Python\n",
        "\n",
        "**Answer:**\n",
        "\n",
        "1. Identify code that may raise an exception and wrap in `try`.\n",
        "2. Add one or more `except` blocks to handle expected exceptions.\n",
        "3. Optionally use `else` for code that runs if no exception occurred.\n",
        "4. Use `finally` for cleanup code that always runs."
      ]
    },
    {
      "cell_type": "markdown",
      "id": "e352b627",
      "metadata": {
        "id": "e352b627"
      },
      "source": [
        "### Question: Why is memory management important in Python\n",
        "\n",
        "**Answer:**\n",
        "\n",
        "Poor memory management leads to leaks, high memory usage, and slowdowns. Efficient memory usage improves performance and reduces risk of crashes. It's especially critical in long-running processes and data-intensive applications."
      ]
    },
    {
      "cell_type": "markdown",
      "id": "e728d833",
      "metadata": {
        "id": "e728d833"
      },
      "source": [
        "### Question: What is the role of try and except in exception handling\n",
        "\n",
        "**Answer:**\n",
        "\n",
        "`try` encloses code that might raise exceptions. `except` blocks catch and handle specific exceptions, preventing crashes and allowing graceful recovery."
      ]
    },
    {
      "cell_type": "markdown",
      "id": "6ba532cc",
      "metadata": {
        "id": "6ba532cc"
      },
      "source": [
        "### Question: How does Python's garbage collection system work\n",
        "\n",
        "**Answer:**\n",
        "\n",
        "CPython primarily uses reference counting: each object tracks number of references; when it hits zero the object is deallocated. To handle reference cycles, CPython also runs a cyclic GC that periodically identifies and collects unreachable cyclic garbage. The `gc` module allows inspection and control."
      ]
    },
    {
      "cell_type": "markdown",
      "id": "46a01b5a",
      "metadata": {
        "id": "46a01b5a"
      },
      "source": [
        "### Question: What is the purpose of the else block in exception handling\n",
        "\n",
        "**Answer:**\n",
        "\n",
        "`else` runs only when the `try` block does not raise an exception. It is useful to separate success-path code from exception-handling logic."
      ]
    },
    {
      "cell_type": "markdown",
      "id": "fa27f16a",
      "metadata": {
        "id": "fa27f16a"
      },
      "source": [
        "### Question: What are the common logging levels in Python\n",
        "\n",
        "**Answer:**\n",
        "\n",
        "Common levels: `DEBUG`, `INFO`, `WARNING`, `ERROR`, `CRITICAL`. They indicate severity and help filter messages."
      ]
    },
    {
      "cell_type": "markdown",
      "id": "c7e5f195",
      "metadata": {
        "id": "c7e5f195"
      },
      "source": [
        "### Question: What is the difference between os.fork() and multiprocessing in Python\n",
        "\n",
        "**Answer:**\n",
        "\n",
        "`os.fork()` (Unix-only) clones the current process (creates child with copied memory). `multiprocessing` is a cross-platform Python module that creates new processes and manages interprocess communication; it provides a higher-level API and works on Windows too. `fork()` is low-level and platform-specific."
      ]
    },
    {
      "cell_type": "markdown",
      "id": "31a8f4aa",
      "metadata": {
        "id": "31a8f4aa"
      },
      "source": [
        "### Question: What is the importance of closing a file in Python\n",
        "\n",
        "**Answer:**\n",
        "\n",
        "Closing files releases system resources and ensures buffered data is flushed to disk. `with` statements automate closing even when exceptions occur."
      ]
    },
    {
      "cell_type": "markdown",
      "id": "38b2bea8",
      "metadata": {
        "id": "38b2bea8"
      },
      "source": [
        "### Question: What is the difference between file.read() and file.readline() in Python\n",
        "\n",
        "**Answer:**\n",
        "\n",
        "`file.read()` reads the entire file (or a specified number of bytes). `file.readline()` reads one line at a time. Use `readlines()` to get a list of all lines or iterate the file object for memory-efficient line-by-line processing."
      ]
    },
    {
      "cell_type": "markdown",
      "id": "1b2235a5",
      "metadata": {
        "id": "1b2235a5"
      },
      "source": [
        "### Question: What is the logging module in Python used for\n",
        "\n",
        "**Answer:**\n",
        "\n",
        "The `logging` module is used to record messages during program execution with severity levels, multiple handlers, formatters, and configuration options."
      ]
    },
    {
      "cell_type": "markdown",
      "id": "38c93c53",
      "metadata": {
        "id": "38c93c53"
      },
      "source": [
        "### Question: What is the os module in Python used for in file handling\n",
        "\n",
        "**Answer:**\n",
        "\n",
        "`os` provides functions for interacting with the operating system: path manipulation (`os.path`), file removal (`os.remove`), checking existence (`os.path.exists`), directory operations, permissions, and `os.walk` for traversing directories."
      ]
    },
    {
      "cell_type": "markdown",
      "id": "dcdfb709",
      "metadata": {
        "id": "dcdfb709"
      },
      "source": [
        "### Question: What are the challenges associated with memory management in Python\n",
        "\n",
        "**Answer:**\n",
        "\n",
        "- Memory leaks due to lingering references or caches.\n",
        "- Large data structures causing high memory usage.\n",
        "- Managing memory in long-running processes.\n",
        "- Tuning GC thresholds for performance."
      ]
    },
    {
      "cell_type": "markdown",
      "id": "84ebf347",
      "metadata": {
        "id": "84ebf347"
      },
      "source": [
        "### Question: How do you raise an exception manually in Python\n",
        "\n",
        "**Answer:**\n",
        "\n",
        "Use the `raise` statement with an exception instance or class, e.g., `raise ValueError('bad')`."
      ]
    },
    {
      "cell_type": "markdown",
      "id": "9171a6c7",
      "metadata": {
        "id": "9171a6c7"
      },
      "source": [
        "### Question: Why is it important to use multithreading in certain applications?\n",
        "\n",
        "**Answer:**\n",
        "\n",
        "Multithreading is useful for I/O-bound tasks (network requests, file I/O) because while one thread waits for I/O, others can run. It can improve responsiveness (GUIs, servers) and throughput for I/O-heavy workloads."
      ]
    },
    {
      "cell_type": "markdown",
      "source": [
        "##Practical Quesrtions\n",
        "\n",
        "---\n",
        "\n"
      ],
      "metadata": {
        "id": "T4vzABvZa_3x"
      },
      "id": "T4vzABvZa_3x"
    },
    {
      "cell_type": "markdown",
      "id": "b2032475",
      "metadata": {
        "id": "b2032475"
      },
      "source": [
        "### Question: How can you open a file for writing in Python and write a string to it\n",
        "\n",
        "Answer + Code:\n",
        "Use `with open('filename', 'w') as f:` and `f.write()`.\n"
      ]
    },
    {
      "cell_type": "code",
      "execution_count": null,
      "id": "9f6eb341",
      "metadata": {
        "id": "9f6eb341"
      },
      "outputs": [],
      "source": [
        "# Open a file for writing and write a string to it\n",
        "with open('/mnt/data/example_write.txt', 'w') as f:\n",
        "    f.write('Hello, this is a sample string written to the file.\\n')\n",
        "print('Wrote to /mnt/data/example_write.txt')"
      ]
    },
    {
      "cell_type": "markdown",
      "id": "e4fee94a",
      "metadata": {
        "id": "e4fee94a"
      },
      "source": [
        "### Question: Write a Python program to read the contents of a file and print each line\n",
        "\n",
        "Answer + Code:\n",
        "Use `with open(..., 'r')` and iterate the file object.\n"
      ]
    },
    {
      "cell_type": "code",
      "execution_count": 6,
      "id": "cca307e0",
      "metadata": {
        "colab": {
          "base_uri": "https://localhost:8080/",
          "height": 211
        },
        "id": "cca307e0",
        "outputId": "996d70a8-eac2-451b-fceb-f0a049e5263d"
      },
      "outputs": [
        {
          "output_type": "error",
          "ename": "FileNotFoundError",
          "evalue": "[Errno 2] No such file or directory: '/mnt/data/example_read.txt'",
          "traceback": [
            "\u001b[0;31m---------------------------------------------------------------------------\u001b[0m",
            "\u001b[0;31mFileNotFoundError\u001b[0m                         Traceback (most recent call last)",
            "\u001b[0;32m/tmp/ipython-input-956453368.py\u001b[0m in \u001b[0;36m<cell line: 0>\u001b[0;34m()\u001b[0m\n\u001b[1;32m      2\u001b[0m \u001b[0;31m# First ensure the file exists by writing a sample file\u001b[0m\u001b[0;34m\u001b[0m\u001b[0;34m\u001b[0m\u001b[0m\n\u001b[1;32m      3\u001b[0m \u001b[0msample_path\u001b[0m \u001b[0;34m=\u001b[0m \u001b[0;34m'/mnt/data/example_read.txt'\u001b[0m\u001b[0;34m\u001b[0m\u001b[0;34m\u001b[0m\u001b[0m\n\u001b[0;32m----> 4\u001b[0;31m \u001b[0;32mwith\u001b[0m \u001b[0mopen\u001b[0m\u001b[0;34m(\u001b[0m\u001b[0msample_path\u001b[0m\u001b[0;34m,\u001b[0m \u001b[0;34m'w'\u001b[0m\u001b[0;34m)\u001b[0m \u001b[0;32mas\u001b[0m \u001b[0mf\u001b[0m\u001b[0;34m:\u001b[0m\u001b[0;34m\u001b[0m\u001b[0;34m\u001b[0m\u001b[0m\n\u001b[0m\u001b[1;32m      5\u001b[0m     \u001b[0mf\u001b[0m\u001b[0;34m.\u001b[0m\u001b[0mwrite\u001b[0m\u001b[0;34m(\u001b[0m\u001b[0;34m'Line 1\\nLine 2\\nLine 3\\n'\u001b[0m\u001b[0;34m)\u001b[0m\u001b[0;34m\u001b[0m\u001b[0;34m\u001b[0m\u001b[0m\n\u001b[1;32m      6\u001b[0m \u001b[0;34m\u001b[0m\u001b[0m\n",
            "\u001b[0;31mFileNotFoundError\u001b[0m: [Errno 2] No such file or directory: '/mnt/data/example_read.txt'"
          ]
        }
      ],
      "source": [
        "# Read contents of a file and print each line\n",
        "# First ensure the file exists by writing a sample file\n",
        "sample_path = '/mnt/data/example_read.txt'\n",
        "with open(sample_path, 'w') as f:\n",
        "    f.write('Line 1\\nLine 2\\nLine 3\\n')\n",
        "\n",
        "with open(sample_path, 'r') as f:\n",
        "    for i, line in enumerate(f, 1):\n",
        "        print(f'Line {i}:', line.rstrip())"
      ]
    },
    {
      "cell_type": "markdown",
      "id": "904a467d",
      "metadata": {
        "id": "904a467d"
      },
      "source": [
        "### Question: How would you handle a case where the file doesn't exist while trying to open it for reading\n",
        "\n",
        "Answer + Code:\n",
        "Catch `FileNotFoundError` and handle it gracefully (create file, show message, or rethrow).\n"
      ]
    },
    {
      "cell_type": "code",
      "execution_count": 5,
      "id": "4e9d80b8",
      "metadata": {
        "colab": {
          "base_uri": "https://localhost:8080/",
          "height": 401
        },
        "id": "4e9d80b8",
        "outputId": "284c6a19-4f34-424b-9bea-02deea943d21"
      },
      "outputs": [
        {
          "output_type": "stream",
          "name": "stdout",
          "text": [
            "File not found: /mnt/data/nonexistent_file.txt — handling the error (creating a sample file).\n"
          ]
        },
        {
          "output_type": "error",
          "ename": "FileNotFoundError",
          "evalue": "[Errno 2] No such file or directory: '/mnt/data/nonexistent_file.txt'",
          "traceback": [
            "\u001b[0;31m---------------------------------------------------------------------------\u001b[0m",
            "\u001b[0;31mFileNotFoundError\u001b[0m                         Traceback (most recent call last)",
            "\u001b[0;32m/tmp/ipython-input-516720229.py\u001b[0m in \u001b[0;36m<cell line: 0>\u001b[0;34m()\u001b[0m\n\u001b[1;32m      3\u001b[0m \u001b[0;32mtry\u001b[0m\u001b[0;34m:\u001b[0m\u001b[0;34m\u001b[0m\u001b[0;34m\u001b[0m\u001b[0m\n\u001b[0;32m----> 4\u001b[0;31m     \u001b[0;32mwith\u001b[0m \u001b[0mopen\u001b[0m\u001b[0;34m(\u001b[0m\u001b[0mpath\u001b[0m\u001b[0;34m,\u001b[0m \u001b[0;34m'r'\u001b[0m\u001b[0;34m)\u001b[0m \u001b[0;32mas\u001b[0m \u001b[0mf\u001b[0m\u001b[0;34m:\u001b[0m\u001b[0;34m\u001b[0m\u001b[0;34m\u001b[0m\u001b[0m\n\u001b[0m\u001b[1;32m      5\u001b[0m         \u001b[0mprint\u001b[0m\u001b[0;34m(\u001b[0m\u001b[0mf\u001b[0m\u001b[0;34m.\u001b[0m\u001b[0mread\u001b[0m\u001b[0;34m(\u001b[0m\u001b[0;34m)\u001b[0m\u001b[0;34m)\u001b[0m\u001b[0;34m\u001b[0m\u001b[0;34m\u001b[0m\u001b[0m\n",
            "\u001b[0;31mFileNotFoundError\u001b[0m: [Errno 2] No such file or directory: '/mnt/data/nonexistent_file.txt'",
            "\nDuring handling of the above exception, another exception occurred:\n",
            "\u001b[0;31mFileNotFoundError\u001b[0m                         Traceback (most recent call last)",
            "\u001b[0;32m/tmp/ipython-input-516720229.py\u001b[0m in \u001b[0;36m<cell line: 0>\u001b[0;34m()\u001b[0m\n\u001b[1;32m      6\u001b[0m \u001b[0;32mexcept\u001b[0m \u001b[0mFileNotFoundError\u001b[0m\u001b[0;34m:\u001b[0m\u001b[0;34m\u001b[0m\u001b[0;34m\u001b[0m\u001b[0m\n\u001b[1;32m      7\u001b[0m     \u001b[0mprint\u001b[0m\u001b[0;34m(\u001b[0m\u001b[0;34mf'File not found: {path} — handling the error (creating a sample file).'\u001b[0m\u001b[0;34m)\u001b[0m\u001b[0;34m\u001b[0m\u001b[0;34m\u001b[0m\u001b[0m\n\u001b[0;32m----> 8\u001b[0;31m     \u001b[0;32mwith\u001b[0m \u001b[0mopen\u001b[0m\u001b[0;34m(\u001b[0m\u001b[0mpath\u001b[0m\u001b[0;34m,\u001b[0m \u001b[0;34m'w'\u001b[0m\u001b[0;34m)\u001b[0m \u001b[0;32mas\u001b[0m \u001b[0mf\u001b[0m\u001b[0;34m:\u001b[0m\u001b[0;34m\u001b[0m\u001b[0;34m\u001b[0m\u001b[0m\n\u001b[0m\u001b[1;32m      9\u001b[0m         \u001b[0mf\u001b[0m\u001b[0;34m.\u001b[0m\u001b[0mwrite\u001b[0m\u001b[0;34m(\u001b[0m\u001b[0;34m'This file was created because it was missing.\\n'\u001b[0m\u001b[0;34m)\u001b[0m\u001b[0;34m\u001b[0m\u001b[0;34m\u001b[0m\u001b[0m\n\u001b[1;32m     10\u001b[0m     \u001b[0mprint\u001b[0m\u001b[0;34m(\u001b[0m\u001b[0;34m'Sample file created.'\u001b[0m\u001b[0;34m)\u001b[0m\u001b[0;34m\u001b[0m\u001b[0;34m\u001b[0m\u001b[0m\n",
            "\u001b[0;31mFileNotFoundError\u001b[0m: [Errno 2] No such file or directory: '/mnt/data/nonexistent_file.txt'"
          ]
        }
      ],
      "source": [
        "# Handle missing file with try-except\n",
        "path = '/mnt/data/nonexistent_file.txt'\n",
        "try:\n",
        "    with open(path, 'r') as f:\n",
        "        print(f.read())\n",
        "except FileNotFoundError:\n",
        "    print(f'File not found: {path} — handling the error (creating a sample file).')\n",
        "    with open(path, 'w') as f:\n",
        "        f.write('This file was created because it was missing.\\n')\n",
        "    print('Sample file created.')"
      ]
    },
    {
      "cell_type": "markdown",
      "id": "605181dc",
      "metadata": {
        "id": "605181dc"
      },
      "source": [
        "### Question: Write a Python script that reads from one file and writes its content to another file\n",
        "\n",
        "Answer + Code:\n",
        "Open source file for reading and destination for writing; copy line by line or use shutil.copyfile.\n"
      ]
    },
    {
      "cell_type": "code",
      "execution_count": 4,
      "id": "f11d05a2",
      "metadata": {
        "colab": {
          "base_uri": "https://localhost:8080/",
          "height": 211
        },
        "collapsed": true,
        "id": "f11d05a2",
        "outputId": "da8f5edf-af21-4504-c3e0-3485bfdd4e59"
      },
      "outputs": [
        {
          "output_type": "error",
          "ename": "FileNotFoundError",
          "evalue": "[Errno 2] No such file or directory: '/mnt/data/example_read.txt'",
          "traceback": [
            "\u001b[0;31m---------------------------------------------------------------------------\u001b[0m",
            "\u001b[0;31mFileNotFoundError\u001b[0m                         Traceback (most recent call last)",
            "\u001b[0;32m/tmp/ipython-input-2899677791.py\u001b[0m in \u001b[0;36m<cell line: 0>\u001b[0;34m()\u001b[0m\n\u001b[1;32m      2\u001b[0m \u001b[0msrc\u001b[0m \u001b[0;34m=\u001b[0m \u001b[0;34m'/mnt/data/example_read.txt'\u001b[0m\u001b[0;34m\u001b[0m\u001b[0;34m\u001b[0m\u001b[0m\n\u001b[1;32m      3\u001b[0m \u001b[0mdst\u001b[0m \u001b[0;34m=\u001b[0m \u001b[0;34m'/mnt/data/example_copy.txt'\u001b[0m\u001b[0;34m\u001b[0m\u001b[0;34m\u001b[0m\u001b[0m\n\u001b[0;32m----> 4\u001b[0;31m \u001b[0;32mwith\u001b[0m \u001b[0mopen\u001b[0m\u001b[0;34m(\u001b[0m\u001b[0msrc\u001b[0m\u001b[0;34m,\u001b[0m \u001b[0;34m'r'\u001b[0m\u001b[0;34m)\u001b[0m \u001b[0;32mas\u001b[0m \u001b[0mf_src\u001b[0m\u001b[0;34m,\u001b[0m \u001b[0mopen\u001b[0m\u001b[0;34m(\u001b[0m\u001b[0mdst\u001b[0m\u001b[0;34m,\u001b[0m \u001b[0;34m'w'\u001b[0m\u001b[0;34m)\u001b[0m \u001b[0;32mas\u001b[0m \u001b[0mf_dst\u001b[0m\u001b[0;34m:\u001b[0m\u001b[0;34m\u001b[0m\u001b[0;34m\u001b[0m\u001b[0m\n\u001b[0m\u001b[1;32m      5\u001b[0m     \u001b[0;32mfor\u001b[0m \u001b[0mline\u001b[0m \u001b[0;32min\u001b[0m \u001b[0mf_src\u001b[0m\u001b[0;34m:\u001b[0m\u001b[0;34m\u001b[0m\u001b[0;34m\u001b[0m\u001b[0m\n\u001b[1;32m      6\u001b[0m         \u001b[0mf_dst\u001b[0m\u001b[0;34m.\u001b[0m\u001b[0mwrite\u001b[0m\u001b[0;34m(\u001b[0m\u001b[0mline\u001b[0m\u001b[0;34m)\u001b[0m\u001b[0;34m\u001b[0m\u001b[0;34m\u001b[0m\u001b[0m\n",
            "\u001b[0;31mFileNotFoundError\u001b[0m: [Errno 2] No such file or directory: '/mnt/data/example_read.txt'"
          ]
        }
      ],
      "source": [
        "# Copy contents from one file to another\n",
        "src = '/mnt/data/example_read.txt'\n",
        "dst = '/mnt/data/example_copy.txt'\n",
        "with open(src, 'r') as f_src, open(dst, 'w') as f_dst:\n",
        "    for line in f_src:\n",
        "        f_dst.write(line)\n",
        "print('Copied', src, 'to', dst)"
      ]
    },
    {
      "cell_type": "markdown",
      "id": "f1ebcec6",
      "metadata": {
        "id": "f1ebcec6"
      },
      "source": [
        "### Question: How would you catch and handle division by zero error in Python\n",
        "\n",
        "Answer + Code:\n",
        "Catch `ZeroDivisionError` in try-except.\n"
      ]
    },
    {
      "cell_type": "code",
      "execution_count": 3,
      "id": "a1e6ed95",
      "metadata": {
        "colab": {
          "base_uri": "https://localhost:8080/"
        },
        "id": "a1e6ed95",
        "outputId": "9e10a551-5238-486c-d1f0-ea0e96bf1ef2"
      },
      "outputs": [
        {
          "output_type": "stream",
          "name": "stdout",
          "text": [
            "10 / 2 = 5.0\n",
            "Error: Division by zero: division by zero\n",
            "10 / 0 = None\n"
          ]
        }
      ],
      "source": [
        "# Division by zero handling\n",
        "def safe_div(a, b):\n",
        "    try:\n",
        "        return a / b\n",
        "    except ZeroDivisionError as e:\n",
        "        print('Error: Division by zero:', e)\n",
        "        return None\n",
        "\n",
        "print('10 / 2 =', safe_div(10, 2))\n",
        "print('10 / 0 =', safe_div(10, 0))"
      ]
    },
    {
      "cell_type": "markdown",
      "id": "0bb28c8e",
      "metadata": {
        "id": "0bb28c8e"
      },
      "source": [
        "### Question: Write a Python program that logs an error message to a log file when a division by zero exception occurs\n",
        "\n",
        "Answer + Code:\n",
        "Use `logging` module and in except, call `logger.error`.\n"
      ]
    },
    {
      "cell_type": "code",
      "execution_count": 7,
      "id": "40236393",
      "metadata": {
        "colab": {
          "base_uri": "https://localhost:8080/",
          "height": 356
        },
        "id": "40236393",
        "outputId": "6f7214ea-74d9-4787-a94f-fbcab10d82f4"
      },
      "outputs": [
        {
          "output_type": "error",
          "ename": "FileNotFoundError",
          "evalue": "[Errno 2] No such file or directory: '/mnt/data/division_errors.log'",
          "traceback": [
            "\u001b[0;31m---------------------------------------------------------------------------\u001b[0m",
            "\u001b[0;31mFileNotFoundError\u001b[0m                         Traceback (most recent call last)",
            "\u001b[0;32m/tmp/ipython-input-174130313.py\u001b[0m in \u001b[0;36m<cell line: 0>\u001b[0;34m()\u001b[0m\n\u001b[1;32m      2\u001b[0m \u001b[0mlogger\u001b[0m \u001b[0;34m=\u001b[0m \u001b[0mlogging\u001b[0m\u001b[0;34m.\u001b[0m\u001b[0mgetLogger\u001b[0m\u001b[0;34m(\u001b[0m\u001b[0;34m'div_logger'\u001b[0m\u001b[0;34m)\u001b[0m\u001b[0;34m\u001b[0m\u001b[0;34m\u001b[0m\u001b[0m\n\u001b[1;32m      3\u001b[0m \u001b[0mlogger\u001b[0m\u001b[0;34m.\u001b[0m\u001b[0msetLevel\u001b[0m\u001b[0;34m(\u001b[0m\u001b[0mlogging\u001b[0m\u001b[0;34m.\u001b[0m\u001b[0mDEBUG\u001b[0m\u001b[0;34m)\u001b[0m\u001b[0;34m\u001b[0m\u001b[0;34m\u001b[0m\u001b[0m\n\u001b[0;32m----> 4\u001b[0;31m \u001b[0mfh\u001b[0m \u001b[0;34m=\u001b[0m \u001b[0mlogging\u001b[0m\u001b[0;34m.\u001b[0m\u001b[0mFileHandler\u001b[0m\u001b[0;34m(\u001b[0m\u001b[0;34m'/mnt/data/division_errors.log'\u001b[0m\u001b[0;34m)\u001b[0m\u001b[0;34m\u001b[0m\u001b[0;34m\u001b[0m\u001b[0m\n\u001b[0m\u001b[1;32m      5\u001b[0m \u001b[0mformatter\u001b[0m \u001b[0;34m=\u001b[0m \u001b[0mlogging\u001b[0m\u001b[0;34m.\u001b[0m\u001b[0mFormatter\u001b[0m\u001b[0;34m(\u001b[0m\u001b[0;34m'%(asctime)s - %(levelname)s - %(message)s'\u001b[0m\u001b[0;34m)\u001b[0m\u001b[0;34m\u001b[0m\u001b[0;34m\u001b[0m\u001b[0m\n\u001b[1;32m      6\u001b[0m \u001b[0mfh\u001b[0m\u001b[0;34m.\u001b[0m\u001b[0msetFormatter\u001b[0m\u001b[0;34m(\u001b[0m\u001b[0mformatter\u001b[0m\u001b[0;34m)\u001b[0m\u001b[0;34m\u001b[0m\u001b[0;34m\u001b[0m\u001b[0m\n",
            "\u001b[0;32m/usr/lib/python3.12/logging/__init__.py\u001b[0m in \u001b[0;36m__init__\u001b[0;34m(self, filename, mode, encoding, delay, errors)\u001b[0m\n\u001b[1;32m   1229\u001b[0m             \u001b[0mself\u001b[0m\u001b[0;34m.\u001b[0m\u001b[0mstream\u001b[0m \u001b[0;34m=\u001b[0m \u001b[0;32mNone\u001b[0m\u001b[0;34m\u001b[0m\u001b[0;34m\u001b[0m\u001b[0m\n\u001b[1;32m   1230\u001b[0m         \u001b[0;32melse\u001b[0m\u001b[0;34m:\u001b[0m\u001b[0;34m\u001b[0m\u001b[0;34m\u001b[0m\u001b[0m\n\u001b[0;32m-> 1231\u001b[0;31m             \u001b[0mStreamHandler\u001b[0m\u001b[0;34m.\u001b[0m\u001b[0m__init__\u001b[0m\u001b[0;34m(\u001b[0m\u001b[0mself\u001b[0m\u001b[0;34m,\u001b[0m \u001b[0mself\u001b[0m\u001b[0;34m.\u001b[0m\u001b[0m_open\u001b[0m\u001b[0;34m(\u001b[0m\u001b[0;34m)\u001b[0m\u001b[0;34m)\u001b[0m\u001b[0;34m\u001b[0m\u001b[0;34m\u001b[0m\u001b[0m\n\u001b[0m\u001b[1;32m   1232\u001b[0m \u001b[0;34m\u001b[0m\u001b[0m\n\u001b[1;32m   1233\u001b[0m     \u001b[0;32mdef\u001b[0m \u001b[0mclose\u001b[0m\u001b[0;34m(\u001b[0m\u001b[0mself\u001b[0m\u001b[0;34m)\u001b[0m\u001b[0;34m:\u001b[0m\u001b[0;34m\u001b[0m\u001b[0;34m\u001b[0m\u001b[0m\n",
            "\u001b[0;32m/usr/lib/python3.12/logging/__init__.py\u001b[0m in \u001b[0;36m_open\u001b[0;34m(self)\u001b[0m\n\u001b[1;32m   1261\u001b[0m         \"\"\"\n\u001b[1;32m   1262\u001b[0m         \u001b[0mopen_func\u001b[0m \u001b[0;34m=\u001b[0m \u001b[0mself\u001b[0m\u001b[0;34m.\u001b[0m\u001b[0m_builtin_open\u001b[0m\u001b[0;34m\u001b[0m\u001b[0;34m\u001b[0m\u001b[0m\n\u001b[0;32m-> 1263\u001b[0;31m         return open_func(self.baseFilename, self.mode,\n\u001b[0m\u001b[1;32m   1264\u001b[0m                          encoding=self.encoding, errors=self.errors)\n\u001b[1;32m   1265\u001b[0m \u001b[0;34m\u001b[0m\u001b[0m\n",
            "\u001b[0;31mFileNotFoundError\u001b[0m: [Errno 2] No such file or directory: '/mnt/data/division_errors.log'"
          ]
        }
      ],
      "source": [
        "import logging\n",
        "logger = logging.getLogger('div_logger')\n",
        "logger.setLevel(logging.DEBUG)\n",
        "fh = logging.FileHandler('/mnt/data/division_errors.log')\n",
        "formatter = logging.Formatter('%(asctime)s - %(levelname)s - %(message)s')\n",
        "fh.setFormatter(formatter)\n",
        "logger.addHandler(fh)\n",
        "\n",
        "def safe_div_log(a, b):\n",
        "    try:\n",
        "        return a / b\n",
        "    except ZeroDivisionError as e:\n",
        "        logger.error('Division by zero when dividing %s by %s: %s', a, b, e)\n",
        "        return None\n",
        "\n",
        "# Trigger an error\n",
        "safe_div_log(5, 0)\n",
        "print('Check /mnt/data/division_errors.log for logged error.')"
      ]
    },
    {
      "cell_type": "markdown",
      "id": "cebf9179",
      "metadata": {
        "id": "cebf9179"
      },
      "source": [
        "### Question: How do you log information at different levels (INFO, ERROR, WARNING) in Python using the logging module\n",
        "\n",
        "Answer + Code:\n",
        "Use logger.info(), logger.warning(), logger.error(), logger.debug(), logger.critical().\n"
      ]
    },
    {
      "cell_type": "code",
      "execution_count": 8,
      "id": "c36c56fe",
      "metadata": {
        "colab": {
          "base_uri": "https://localhost:8080/",
          "height": 356
        },
        "id": "c36c56fe",
        "outputId": "39dea003-794d-45ec-aedd-b9106c91f6e8"
      },
      "outputs": [
        {
          "output_type": "error",
          "ename": "FileNotFoundError",
          "evalue": "[Errno 2] No such file or directory: '/mnt/data/log_levels_demo.log'",
          "traceback": [
            "\u001b[0;31m---------------------------------------------------------------------------\u001b[0m",
            "\u001b[0;31mFileNotFoundError\u001b[0m                         Traceback (most recent call last)",
            "\u001b[0;32m/tmp/ipython-input-728608470.py\u001b[0m in \u001b[0;36m<cell line: 0>\u001b[0;34m()\u001b[0m\n\u001b[1;32m      2\u001b[0m \u001b[0mlogger\u001b[0m \u001b[0;34m=\u001b[0m \u001b[0mlogging\u001b[0m\u001b[0;34m.\u001b[0m\u001b[0mgetLogger\u001b[0m\u001b[0;34m(\u001b[0m\u001b[0;34m'levels_demo'\u001b[0m\u001b[0;34m)\u001b[0m\u001b[0;34m\u001b[0m\u001b[0;34m\u001b[0m\u001b[0m\n\u001b[1;32m      3\u001b[0m \u001b[0mlogger\u001b[0m\u001b[0;34m.\u001b[0m\u001b[0msetLevel\u001b[0m\u001b[0;34m(\u001b[0m\u001b[0mlogging\u001b[0m\u001b[0;34m.\u001b[0m\u001b[0mDEBUG\u001b[0m\u001b[0;34m)\u001b[0m\u001b[0;34m\u001b[0m\u001b[0;34m\u001b[0m\u001b[0m\n\u001b[0;32m----> 4\u001b[0;31m \u001b[0mfh\u001b[0m \u001b[0;34m=\u001b[0m \u001b[0mlogging\u001b[0m\u001b[0;34m.\u001b[0m\u001b[0mFileHandler\u001b[0m\u001b[0;34m(\u001b[0m\u001b[0;34m'/mnt/data/log_levels_demo.log'\u001b[0m\u001b[0;34m)\u001b[0m\u001b[0;34m\u001b[0m\u001b[0;34m\u001b[0m\u001b[0m\n\u001b[0m\u001b[1;32m      5\u001b[0m \u001b[0mfh\u001b[0m\u001b[0;34m.\u001b[0m\u001b[0msetFormatter\u001b[0m\u001b[0;34m(\u001b[0m\u001b[0mlogging\u001b[0m\u001b[0;34m.\u001b[0m\u001b[0mFormatter\u001b[0m\u001b[0;34m(\u001b[0m\u001b[0;34m'%(levelname)s:%(message)s'\u001b[0m\u001b[0;34m)\u001b[0m\u001b[0;34m)\u001b[0m\u001b[0;34m\u001b[0m\u001b[0;34m\u001b[0m\u001b[0m\n\u001b[1;32m      6\u001b[0m \u001b[0mlogger\u001b[0m\u001b[0;34m.\u001b[0m\u001b[0maddHandler\u001b[0m\u001b[0;34m(\u001b[0m\u001b[0mfh\u001b[0m\u001b[0;34m)\u001b[0m\u001b[0;34m\u001b[0m\u001b[0;34m\u001b[0m\u001b[0m\n",
            "\u001b[0;32m/usr/lib/python3.12/logging/__init__.py\u001b[0m in \u001b[0;36m__init__\u001b[0;34m(self, filename, mode, encoding, delay, errors)\u001b[0m\n\u001b[1;32m   1229\u001b[0m             \u001b[0mself\u001b[0m\u001b[0;34m.\u001b[0m\u001b[0mstream\u001b[0m \u001b[0;34m=\u001b[0m \u001b[0;32mNone\u001b[0m\u001b[0;34m\u001b[0m\u001b[0;34m\u001b[0m\u001b[0m\n\u001b[1;32m   1230\u001b[0m         \u001b[0;32melse\u001b[0m\u001b[0;34m:\u001b[0m\u001b[0;34m\u001b[0m\u001b[0;34m\u001b[0m\u001b[0m\n\u001b[0;32m-> 1231\u001b[0;31m             \u001b[0mStreamHandler\u001b[0m\u001b[0;34m.\u001b[0m\u001b[0m__init__\u001b[0m\u001b[0;34m(\u001b[0m\u001b[0mself\u001b[0m\u001b[0;34m,\u001b[0m \u001b[0mself\u001b[0m\u001b[0;34m.\u001b[0m\u001b[0m_open\u001b[0m\u001b[0;34m(\u001b[0m\u001b[0;34m)\u001b[0m\u001b[0;34m)\u001b[0m\u001b[0;34m\u001b[0m\u001b[0;34m\u001b[0m\u001b[0m\n\u001b[0m\u001b[1;32m   1232\u001b[0m \u001b[0;34m\u001b[0m\u001b[0m\n\u001b[1;32m   1233\u001b[0m     \u001b[0;32mdef\u001b[0m \u001b[0mclose\u001b[0m\u001b[0;34m(\u001b[0m\u001b[0mself\u001b[0m\u001b[0;34m)\u001b[0m\u001b[0;34m:\u001b[0m\u001b[0;34m\u001b[0m\u001b[0;34m\u001b[0m\u001b[0m\n",
            "\u001b[0;32m/usr/lib/python3.12/logging/__init__.py\u001b[0m in \u001b[0;36m_open\u001b[0;34m(self)\u001b[0m\n\u001b[1;32m   1261\u001b[0m         \"\"\"\n\u001b[1;32m   1262\u001b[0m         \u001b[0mopen_func\u001b[0m \u001b[0;34m=\u001b[0m \u001b[0mself\u001b[0m\u001b[0;34m.\u001b[0m\u001b[0m_builtin_open\u001b[0m\u001b[0;34m\u001b[0m\u001b[0;34m\u001b[0m\u001b[0m\n\u001b[0;32m-> 1263\u001b[0;31m         return open_func(self.baseFilename, self.mode,\n\u001b[0m\u001b[1;32m   1264\u001b[0m                          encoding=self.encoding, errors=self.errors)\n\u001b[1;32m   1265\u001b[0m \u001b[0;34m\u001b[0m\u001b[0m\n",
            "\u001b[0;31mFileNotFoundError\u001b[0m: [Errno 2] No such file or directory: '/mnt/data/log_levels_demo.log'"
          ]
        }
      ],
      "source": [
        "import logging\n",
        "logger = logging.getLogger('levels_demo')\n",
        "logger.setLevel(logging.DEBUG)\n",
        "fh = logging.FileHandler('/mnt/data/log_levels_demo.log')\n",
        "fh.setFormatter(logging.Formatter('%(levelname)s:%(message)s'))\n",
        "logger.addHandler(fh)\n",
        "\n",
        "logger.debug('This is DEBUG')\n",
        "logger.info('This is INFO')\n",
        "logger.warning('This is WARNING')\n",
        "logger.error('This is ERROR')\n",
        "logger.critical('This is CRITICAL')\n",
        "\n",
        "print('Wrote different level logs to /mnt/data/log_levels_demo.log')"
      ]
    },
    {
      "cell_type": "markdown",
      "id": "25ec2f6a",
      "metadata": {
        "id": "25ec2f6a"
      },
      "source": [
        "### Question: Write a program to handle a file opening error using exception handling\n",
        "\n",
        "Answer + Code:\n",
        "Wrap open in try-except and handle exceptions such as FileNotFoundError and PermissionError.\n"
      ]
    },
    {
      "cell_type": "code",
      "execution_count": 9,
      "id": "accff34c",
      "metadata": {
        "colab": {
          "base_uri": "https://localhost:8080/"
        },
        "id": "accff34c",
        "outputId": "e418a714-fcda-4bef-8447-ef670b018e66"
      },
      "outputs": [
        {
          "output_type": "stream",
          "name": "stdout",
          "text": [
            "File not found: /mnt/data/protected_file.txt\n"
          ]
        }
      ],
      "source": [
        "# File opening error handling\n",
        "path = '/mnt/data/protected_file.txt'\n",
        "try:\n",
        "    with open(path, 'r') as f:\n",
        "        print(f.read())\n",
        "except FileNotFoundError:\n",
        "    print('File not found:', path)\n",
        "except PermissionError:\n",
        "    print('Permission denied when opening:', path)\n",
        "except Exception as e:\n",
        "    print('Some other error:', type(e).__name__, e)"
      ]
    },
    {
      "cell_type": "markdown",
      "id": "5a98e0ff",
      "metadata": {
        "id": "5a98e0ff"
      },
      "source": [
        "### Question: How can you read a file line by line and store its content in a list in Python\n",
        "\n",
        "Answer + Code:\n",
        "Use list(f) or [line.rstrip() for line in f] inside a with block.\n"
      ]
    },
    {
      "cell_type": "code",
      "execution_count": 10,
      "id": "f00909d3",
      "metadata": {
        "colab": {
          "base_uri": "https://localhost:8080/",
          "height": 211
        },
        "id": "f00909d3",
        "outputId": "5ae5d905-e69e-420c-df90-ec6e2ec6c38d"
      },
      "outputs": [
        {
          "output_type": "error",
          "ename": "FileNotFoundError",
          "evalue": "[Errno 2] No such file or directory: '/mnt/data/example_read.txt'",
          "traceback": [
            "\u001b[0;31m---------------------------------------------------------------------------\u001b[0m",
            "\u001b[0;31mFileNotFoundError\u001b[0m                         Traceback (most recent call last)",
            "\u001b[0;32m/tmp/ipython-input-3293620309.py\u001b[0m in \u001b[0;36m<cell line: 0>\u001b[0;34m()\u001b[0m\n\u001b[1;32m      1\u001b[0m \u001b[0;31m# Read file into list\u001b[0m\u001b[0;34m\u001b[0m\u001b[0;34m\u001b[0m\u001b[0m\n\u001b[1;32m      2\u001b[0m \u001b[0mpath\u001b[0m \u001b[0;34m=\u001b[0m \u001b[0;34m'/mnt/data/example_read.txt'\u001b[0m\u001b[0;34m\u001b[0m\u001b[0;34m\u001b[0m\u001b[0m\n\u001b[0;32m----> 3\u001b[0;31m \u001b[0;32mwith\u001b[0m \u001b[0mopen\u001b[0m\u001b[0;34m(\u001b[0m\u001b[0mpath\u001b[0m\u001b[0;34m,\u001b[0m \u001b[0;34m'r'\u001b[0m\u001b[0;34m)\u001b[0m \u001b[0;32mas\u001b[0m \u001b[0mf\u001b[0m\u001b[0;34m:\u001b[0m\u001b[0;34m\u001b[0m\u001b[0;34m\u001b[0m\u001b[0m\n\u001b[0m\u001b[1;32m      4\u001b[0m     \u001b[0mlines\u001b[0m \u001b[0;34m=\u001b[0m \u001b[0;34m[\u001b[0m\u001b[0mline\u001b[0m\u001b[0;34m.\u001b[0m\u001b[0mrstrip\u001b[0m\u001b[0;34m(\u001b[0m\u001b[0;34m'\\n'\u001b[0m\u001b[0;34m)\u001b[0m \u001b[0;32mfor\u001b[0m \u001b[0mline\u001b[0m \u001b[0;32min\u001b[0m \u001b[0mf\u001b[0m\u001b[0;34m]\u001b[0m\u001b[0;34m\u001b[0m\u001b[0;34m\u001b[0m\u001b[0m\n\u001b[1;32m      5\u001b[0m \u001b[0mprint\u001b[0m\u001b[0;34m(\u001b[0m\u001b[0;34m'Lines list:'\u001b[0m\u001b[0;34m,\u001b[0m \u001b[0mlines\u001b[0m\u001b[0;34m)\u001b[0m\u001b[0;34m\u001b[0m\u001b[0;34m\u001b[0m\u001b[0m\n",
            "\u001b[0;31mFileNotFoundError\u001b[0m: [Errno 2] No such file or directory: '/mnt/data/example_read.txt'"
          ]
        }
      ],
      "source": [
        "# Read file into list\n",
        "path = '/mnt/data/example_read.txt'\n",
        "with open(path, 'r') as f:\n",
        "    lines = [line.rstrip('\\n') for line in f]\n",
        "print('Lines list:', lines)"
      ]
    },
    {
      "cell_type": "markdown",
      "id": "bc3f2ad1",
      "metadata": {
        "id": "bc3f2ad1"
      },
      "source": [
        "### Question: How can you append data to an existing file in Python\n",
        "\n",
        "Answer + Code:\n",
        "Open file with mode 'a' and use write().\n"
      ]
    },
    {
      "cell_type": "code",
      "execution_count": 11,
      "id": "206ba20e",
      "metadata": {
        "colab": {
          "base_uri": "https://localhost:8080/",
          "height": 211
        },
        "id": "206ba20e",
        "outputId": "2a4664d1-0af7-4dc9-dbde-1d907e48ecfc"
      },
      "outputs": [
        {
          "output_type": "error",
          "ename": "FileNotFoundError",
          "evalue": "[Errno 2] No such file or directory: '/mnt/data/example_append.txt'",
          "traceback": [
            "\u001b[0;31m---------------------------------------------------------------------------\u001b[0m",
            "\u001b[0;31mFileNotFoundError\u001b[0m                         Traceback (most recent call last)",
            "\u001b[0;32m/tmp/ipython-input-2802914460.py\u001b[0m in \u001b[0;36m<cell line: 0>\u001b[0;34m()\u001b[0m\n\u001b[1;32m      1\u001b[0m \u001b[0;31m# Append data to an existing file\u001b[0m\u001b[0;34m\u001b[0m\u001b[0;34m\u001b[0m\u001b[0m\n\u001b[1;32m      2\u001b[0m \u001b[0mpath\u001b[0m \u001b[0;34m=\u001b[0m \u001b[0;34m'/mnt/data/example_append.txt'\u001b[0m\u001b[0;34m\u001b[0m\u001b[0;34m\u001b[0m\u001b[0m\n\u001b[0;32m----> 3\u001b[0;31m \u001b[0;32mwith\u001b[0m \u001b[0mopen\u001b[0m\u001b[0;34m(\u001b[0m\u001b[0mpath\u001b[0m\u001b[0;34m,\u001b[0m \u001b[0;34m'w'\u001b[0m\u001b[0;34m)\u001b[0m \u001b[0;32mas\u001b[0m \u001b[0mf\u001b[0m\u001b[0;34m:\u001b[0m\u001b[0;34m\u001b[0m\u001b[0;34m\u001b[0m\u001b[0m\n\u001b[0m\u001b[1;32m      4\u001b[0m     \u001b[0mf\u001b[0m\u001b[0;34m.\u001b[0m\u001b[0mwrite\u001b[0m\u001b[0;34m(\u001b[0m\u001b[0;34m'Initial line\\n'\u001b[0m\u001b[0;34m)\u001b[0m\u001b[0;34m\u001b[0m\u001b[0;34m\u001b[0m\u001b[0m\n\u001b[1;32m      5\u001b[0m \u001b[0;34m\u001b[0m\u001b[0m\n",
            "\u001b[0;31mFileNotFoundError\u001b[0m: [Errno 2] No such file or directory: '/mnt/data/example_append.txt'"
          ]
        }
      ],
      "source": [
        "# Append data to an existing file\n",
        "path = '/mnt/data/example_append.txt'\n",
        "with open(path, 'w') as f:\n",
        "    f.write('Initial line\\n')\n",
        "\n",
        "with open(path, 'a') as f:\n",
        "    f.write('Appended line\\n')\n",
        "\n",
        "with open(path, 'r') as f:\n",
        "    print(f.read())"
      ]
    },
    {
      "cell_type": "markdown",
      "id": "4314c56d",
      "metadata": {
        "id": "4314c56d"
      },
      "source": [
        "### Question: Write a Python program that uses a try-except block to handle an error when attempting to access a dictionary key that doesn't exist\n",
        "\n",
        "Answer + Code:\n",
        "Catch `KeyError` or use `dict.get()` for safe access.\n"
      ]
    },
    {
      "cell_type": "code",
      "execution_count": 12,
      "id": "53a82d23",
      "metadata": {
        "colab": {
          "base_uri": "https://localhost:8080/"
        },
        "id": "53a82d23",
        "outputId": "0deeb010-d433-4a2a-c9f7-a826db9a8ef9"
      },
      "outputs": [
        {
          "output_type": "stream",
          "name": "stdout",
          "text": [
            "Key c not found; handling gracefully. Using get(): None\n"
          ]
        }
      ],
      "source": [
        "# Handle missing dictionary key\n",
        "d = {'a': 1, 'b': 2}\n",
        "try:\n",
        "    print('Value for c:', d['c'])\n",
        "except KeyError:\n",
        "    print('Key c not found; handling gracefully. Using get():', d.get('c'))"
      ]
    },
    {
      "cell_type": "markdown",
      "id": "3810ba77",
      "metadata": {
        "id": "3810ba77"
      },
      "source": [
        "### Question: Write a program that demonstrates using multiple except blocks to handle different types of exceptions\n",
        "\n",
        "Answer + Code:\n",
        "Show different except blocks for ValueError, TypeError, ZeroDivisionError, etc.\n"
      ]
    },
    {
      "cell_type": "code",
      "execution_count": 13,
      "id": "d0b2476f",
      "metadata": {
        "colab": {
          "base_uri": "https://localhost:8080/"
        },
        "id": "d0b2476f",
        "outputId": "246791b4-cb4e-4817-b5da-a3a72c6f5907"
      },
      "outputs": [
        {
          "output_type": "stream",
          "name": "stdout",
          "text": [
            "2.0\n",
            "ZeroDivisionError: division by zero\n",
            "ValueError: invalid literal for int()\n"
          ]
        }
      ],
      "source": [
        "# Multiple except blocks demo\n",
        "def func(x):\n",
        "    try:\n",
        "        # possible TypeError or ValueError or ZeroDivisionError\n",
        "        num = int(x)\n",
        "        result = 10 / num\n",
        "        return result\n",
        "    except ValueError:\n",
        "        return 'ValueError: invalid literal for int()'\n",
        "    except ZeroDivisionError:\n",
        "        return 'ZeroDivisionError: division by zero'\n",
        "    except Exception as e:\n",
        "        return f'Unexpected error: {type(e).__name__}'\n",
        "\n",
        "print(func('5'))\n",
        "print(func('0'))\n",
        "print(func('abc'))"
      ]
    },
    {
      "cell_type": "markdown",
      "id": "28ef80ae",
      "metadata": {
        "id": "28ef80ae"
      },
      "source": [
        "### Question: How would you check if a file exists before attempting to read it in Python\n",
        "\n",
        "Answer + Code:\n",
        "Use `os.path.exists()` or `pathlib.Path.exists()`.\n"
      ]
    },
    {
      "cell_type": "code",
      "execution_count": 14,
      "id": "baae6035",
      "metadata": {
        "colab": {
          "base_uri": "https://localhost:8080/"
        },
        "id": "baae6035",
        "outputId": "51f924f4-e28c-477b-ea3a-5f772b376ffb"
      },
      "outputs": [
        {
          "output_type": "stream",
          "name": "stdout",
          "text": [
            "File does not exist: /mnt/data/example_read.txt\n"
          ]
        }
      ],
      "source": [
        "import os\n",
        "path = '/mnt/data/example_read.txt'\n",
        "if os.path.exists(path):\n",
        "    print('File exists:', path)\n",
        "else:\n",
        "    print('File does not exist:', path)"
      ]
    },
    {
      "cell_type": "markdown",
      "id": "0b62b5b3",
      "metadata": {
        "id": "0b62b5b3"
      },
      "source": [
        "### Question: Write a program that uses the logging module to log both informational and error messages\n",
        "\n",
        "Answer + Code:\n",
        "Configure logger and then call logger.info and logger.error where applicable.\n"
      ]
    },
    {
      "cell_type": "code",
      "execution_count": 15,
      "id": "7ee206b3",
      "metadata": {
        "colab": {
          "base_uri": "https://localhost:8080/",
          "height": 356
        },
        "id": "7ee206b3",
        "outputId": "5222a989-1e6c-4b60-9db3-57a7523408f3"
      },
      "outputs": [
        {
          "output_type": "error",
          "ename": "FileNotFoundError",
          "evalue": "[Errno 2] No such file or directory: '/mnt/data/info_error.log'",
          "traceback": [
            "\u001b[0;31m---------------------------------------------------------------------------\u001b[0m",
            "\u001b[0;31mFileNotFoundError\u001b[0m                         Traceback (most recent call last)",
            "\u001b[0;32m/tmp/ipython-input-1984879561.py\u001b[0m in \u001b[0;36m<cell line: 0>\u001b[0;34m()\u001b[0m\n\u001b[1;32m      2\u001b[0m \u001b[0mlogger\u001b[0m \u001b[0;34m=\u001b[0m \u001b[0mlogging\u001b[0m\u001b[0;34m.\u001b[0m\u001b[0mgetLogger\u001b[0m\u001b[0;34m(\u001b[0m\u001b[0;34m'info_error_example'\u001b[0m\u001b[0;34m)\u001b[0m\u001b[0;34m\u001b[0m\u001b[0;34m\u001b[0m\u001b[0m\n\u001b[1;32m      3\u001b[0m \u001b[0mlogger\u001b[0m\u001b[0;34m.\u001b[0m\u001b[0msetLevel\u001b[0m\u001b[0;34m(\u001b[0m\u001b[0mlogging\u001b[0m\u001b[0;34m.\u001b[0m\u001b[0mINFO\u001b[0m\u001b[0;34m)\u001b[0m\u001b[0;34m\u001b[0m\u001b[0;34m\u001b[0m\u001b[0m\n\u001b[0;32m----> 4\u001b[0;31m \u001b[0mfh\u001b[0m \u001b[0;34m=\u001b[0m \u001b[0mlogging\u001b[0m\u001b[0;34m.\u001b[0m\u001b[0mFileHandler\u001b[0m\u001b[0;34m(\u001b[0m\u001b[0;34m'/mnt/data/info_error.log'\u001b[0m\u001b[0;34m)\u001b[0m\u001b[0;34m\u001b[0m\u001b[0;34m\u001b[0m\u001b[0m\n\u001b[0m\u001b[1;32m      5\u001b[0m \u001b[0mfh\u001b[0m\u001b[0;34m.\u001b[0m\u001b[0msetFormatter\u001b[0m\u001b[0;34m(\u001b[0m\u001b[0mlogging\u001b[0m\u001b[0;34m.\u001b[0m\u001b[0mFormatter\u001b[0m\u001b[0;34m(\u001b[0m\u001b[0;34m'%(asctime)s - %(levelname)s - %(message)s'\u001b[0m\u001b[0;34m)\u001b[0m\u001b[0;34m)\u001b[0m\u001b[0;34m\u001b[0m\u001b[0;34m\u001b[0m\u001b[0m\n\u001b[1;32m      6\u001b[0m \u001b[0mlogger\u001b[0m\u001b[0;34m.\u001b[0m\u001b[0maddHandler\u001b[0m\u001b[0;34m(\u001b[0m\u001b[0mfh\u001b[0m\u001b[0;34m)\u001b[0m\u001b[0;34m\u001b[0m\u001b[0;34m\u001b[0m\u001b[0m\n",
            "\u001b[0;32m/usr/lib/python3.12/logging/__init__.py\u001b[0m in \u001b[0;36m__init__\u001b[0;34m(self, filename, mode, encoding, delay, errors)\u001b[0m\n\u001b[1;32m   1229\u001b[0m             \u001b[0mself\u001b[0m\u001b[0;34m.\u001b[0m\u001b[0mstream\u001b[0m \u001b[0;34m=\u001b[0m \u001b[0;32mNone\u001b[0m\u001b[0;34m\u001b[0m\u001b[0;34m\u001b[0m\u001b[0m\n\u001b[1;32m   1230\u001b[0m         \u001b[0;32melse\u001b[0m\u001b[0;34m:\u001b[0m\u001b[0;34m\u001b[0m\u001b[0;34m\u001b[0m\u001b[0m\n\u001b[0;32m-> 1231\u001b[0;31m             \u001b[0mStreamHandler\u001b[0m\u001b[0;34m.\u001b[0m\u001b[0m__init__\u001b[0m\u001b[0;34m(\u001b[0m\u001b[0mself\u001b[0m\u001b[0;34m,\u001b[0m \u001b[0mself\u001b[0m\u001b[0;34m.\u001b[0m\u001b[0m_open\u001b[0m\u001b[0;34m(\u001b[0m\u001b[0;34m)\u001b[0m\u001b[0;34m)\u001b[0m\u001b[0;34m\u001b[0m\u001b[0;34m\u001b[0m\u001b[0m\n\u001b[0m\u001b[1;32m   1232\u001b[0m \u001b[0;34m\u001b[0m\u001b[0m\n\u001b[1;32m   1233\u001b[0m     \u001b[0;32mdef\u001b[0m \u001b[0mclose\u001b[0m\u001b[0;34m(\u001b[0m\u001b[0mself\u001b[0m\u001b[0;34m)\u001b[0m\u001b[0;34m:\u001b[0m\u001b[0;34m\u001b[0m\u001b[0;34m\u001b[0m\u001b[0m\n",
            "\u001b[0;32m/usr/lib/python3.12/logging/__init__.py\u001b[0m in \u001b[0;36m_open\u001b[0;34m(self)\u001b[0m\n\u001b[1;32m   1261\u001b[0m         \"\"\"\n\u001b[1;32m   1262\u001b[0m         \u001b[0mopen_func\u001b[0m \u001b[0;34m=\u001b[0m \u001b[0mself\u001b[0m\u001b[0;34m.\u001b[0m\u001b[0m_builtin_open\u001b[0m\u001b[0;34m\u001b[0m\u001b[0;34m\u001b[0m\u001b[0m\n\u001b[0;32m-> 1263\u001b[0;31m         return open_func(self.baseFilename, self.mode,\n\u001b[0m\u001b[1;32m   1264\u001b[0m                          encoding=self.encoding, errors=self.errors)\n\u001b[1;32m   1265\u001b[0m \u001b[0;34m\u001b[0m\u001b[0m\n",
            "\u001b[0;31mFileNotFoundError\u001b[0m: [Errno 2] No such file or directory: '/mnt/data/info_error.log'"
          ]
        }
      ],
      "source": [
        "import logging\n",
        "logger = logging.getLogger('info_error_example')\n",
        "logger.setLevel(logging.INFO)\n",
        "fh = logging.FileHandler('/mnt/data/info_error.log')\n",
        "fh.setFormatter(logging.Formatter('%(asctime)s - %(levelname)s - %(message)s'))\n",
        "logger.addHandler(fh)\n",
        "\n",
        "logger.info('This is an informational message.')\n",
        "try:\n",
        "    1/0\n",
        "except ZeroDivisionError:\n",
        "    logger.error('An error occurred: division by zero')"
      ]
    },
    {
      "cell_type": "markdown",
      "id": "8a42dfd0",
      "metadata": {
        "id": "8a42dfd0"
      },
      "source": [
        "### Question: Write a Python program that prints the content of a file and handles the case when the file is empty\n",
        "\n",
        "Answer + Code:\n",
        "Check for empty content by reading and testing truthiness.\n"
      ]
    },
    {
      "cell_type": "code",
      "execution_count": 16,
      "id": "71713255",
      "metadata": {
        "colab": {
          "base_uri": "https://localhost:8080/",
          "height": 211
        },
        "id": "71713255",
        "outputId": "5bf0c265-a107-43f1-a70c-5e018d0589a2"
      },
      "outputs": [
        {
          "output_type": "error",
          "ename": "FileNotFoundError",
          "evalue": "[Errno 2] No such file or directory: '/mnt/data/empty_check.txt'",
          "traceback": [
            "\u001b[0;31m---------------------------------------------------------------------------\u001b[0m",
            "\u001b[0;31mFileNotFoundError\u001b[0m                         Traceback (most recent call last)",
            "\u001b[0;32m/tmp/ipython-input-2742167577.py\u001b[0m in \u001b[0;36m<cell line: 0>\u001b[0;34m()\u001b[0m\n\u001b[1;32m      2\u001b[0m \u001b[0mpath\u001b[0m \u001b[0;34m=\u001b[0m \u001b[0;34m'/mnt/data/empty_check.txt'\u001b[0m\u001b[0;34m\u001b[0m\u001b[0;34m\u001b[0m\u001b[0m\n\u001b[1;32m      3\u001b[0m \u001b[0;31m# create file (empty)\u001b[0m\u001b[0;34m\u001b[0m\u001b[0;34m\u001b[0m\u001b[0m\n\u001b[0;32m----> 4\u001b[0;31m \u001b[0mopen\u001b[0m\u001b[0;34m(\u001b[0m\u001b[0mpath\u001b[0m\u001b[0;34m,\u001b[0m \u001b[0;34m'w'\u001b[0m\u001b[0;34m)\u001b[0m\u001b[0;34m.\u001b[0m\u001b[0mclose\u001b[0m\u001b[0;34m(\u001b[0m\u001b[0;34m)\u001b[0m\u001b[0;34m\u001b[0m\u001b[0;34m\u001b[0m\u001b[0m\n\u001b[0m\u001b[1;32m      5\u001b[0m \u001b[0;34m\u001b[0m\u001b[0m\n\u001b[1;32m      6\u001b[0m \u001b[0;32mwith\u001b[0m \u001b[0mopen\u001b[0m\u001b[0;34m(\u001b[0m\u001b[0mpath\u001b[0m\u001b[0;34m,\u001b[0m \u001b[0;34m'r'\u001b[0m\u001b[0;34m)\u001b[0m \u001b[0;32mas\u001b[0m \u001b[0mf\u001b[0m\u001b[0;34m:\u001b[0m\u001b[0;34m\u001b[0m\u001b[0;34m\u001b[0m\u001b[0m\n",
            "\u001b[0;31mFileNotFoundError\u001b[0m: [Errno 2] No such file or directory: '/mnt/data/empty_check.txt'"
          ]
        }
      ],
      "source": [
        "# Print file content, handle empty file\n",
        "path = '/mnt/data/empty_check.txt'\n",
        "# create file (empty)\n",
        "open(path, 'w').close()\n",
        "\n",
        "with open(path, 'r') as f:\n",
        "    content = f.read()\n",
        "    if not content:\n",
        "        print('File is empty.')\n",
        "    else:\n",
        "        print(content)"
      ]
    },
    {
      "cell_type": "markdown",
      "id": "90fd77c6",
      "metadata": {
        "id": "90fd77c6"
      },
      "source": [
        "### Question: Demonstrate how to use memory profiling to check the memory usage of a small program\n",
        "\n",
        "Answer + Code:\n",
        "We can use `tracemalloc` (built-in) or external packages such as `memory_profiler`. Here we use `tracemalloc` to show snapshot differences.\n"
      ]
    },
    {
      "cell_type": "code",
      "execution_count": 17,
      "id": "f08af87f",
      "metadata": {
        "colab": {
          "base_uri": "https://localhost:8080/"
        },
        "id": "f08af87f",
        "outputId": "4a918625-87f0-4a2f-8db4-438efe8ab8bc"
      },
      "outputs": [
        {
          "output_type": "stream",
          "name": "stdout",
          "text": [
            "Top memory differences (first 5):\n",
            "/tmp/ipython-input-3104877870.py:4: size=11.5 MiB (+7828 KiB), count=299488 (+199744), average=40 B\n",
            "/usr/lib/python3.12/tracemalloc.py:560: size=312 B (+312 B), count=2 (+2), average=156 B\n",
            "/usr/lib/python3.12/tracemalloc.py:423: size=312 B (+312 B), count=2 (+2), average=156 B\n",
            "/usr/lib/python3.12/codeop.py:126: size=166 B (+48 B), count=3 (+1), average=55 B\n",
            "/usr/lib/python3.12/tracemalloc.py:313: size=48 B (+48 B), count=1 (+1), average=48 B\n"
          ]
        }
      ],
      "source": [
        "import tracemalloc\n",
        "\n",
        "def create_list(n):\n",
        "    return [i for i in range(n)]\n",
        "\n",
        "tracemalloc.start()\n",
        "a = create_list(100000)\n",
        "snapshot1 = tracemalloc.take_snapshot()\n",
        "b = create_list(200000)\n",
        "snapshot2 = tracemalloc.take_snapshot()\n",
        "top_stats = snapshot2.compare_to(snapshot1, 'lineno')\n",
        "print('Top memory differences (first 5):')\n",
        "for stat in top_stats[:5]:\n",
        "    print(stat)"
      ]
    },
    {
      "cell_type": "markdown",
      "id": "6e996587",
      "metadata": {
        "id": "6e996587"
      },
      "source": [
        "### Question: Write a Python program to create and write a list of numbers to a file, one number per line\n",
        "\n",
        "Answer + Code:\n",
        "Open file in write mode and iterate numbers writing each on a new line.\n"
      ]
    },
    {
      "cell_type": "code",
      "execution_count": 18,
      "id": "7deb838f",
      "metadata": {
        "colab": {
          "base_uri": "https://localhost:8080/",
          "height": 211
        },
        "id": "7deb838f",
        "outputId": "c19b9ea3-1db7-4c04-975b-6a28f67154d7"
      },
      "outputs": [
        {
          "output_type": "error",
          "ename": "FileNotFoundError",
          "evalue": "[Errno 2] No such file or directory: '/mnt/data/numbers.txt'",
          "traceback": [
            "\u001b[0;31m---------------------------------------------------------------------------\u001b[0m",
            "\u001b[0;31mFileNotFoundError\u001b[0m                         Traceback (most recent call last)",
            "\u001b[0;32m/tmp/ipython-input-1397011144.py\u001b[0m in \u001b[0;36m<cell line: 0>\u001b[0;34m()\u001b[0m\n\u001b[1;32m      1\u001b[0m \u001b[0mnumbers\u001b[0m \u001b[0;34m=\u001b[0m \u001b[0mlist\u001b[0m\u001b[0;34m(\u001b[0m\u001b[0mrange\u001b[0m\u001b[0;34m(\u001b[0m\u001b[0;36m1\u001b[0m\u001b[0;34m,\u001b[0m \u001b[0;36m11\u001b[0m\u001b[0;34m)\u001b[0m\u001b[0;34m)\u001b[0m\u001b[0;34m\u001b[0m\u001b[0;34m\u001b[0m\u001b[0m\n\u001b[1;32m      2\u001b[0m \u001b[0mpath\u001b[0m \u001b[0;34m=\u001b[0m \u001b[0;34m'/mnt/data/numbers.txt'\u001b[0m\u001b[0;34m\u001b[0m\u001b[0;34m\u001b[0m\u001b[0m\n\u001b[0;32m----> 3\u001b[0;31m \u001b[0;32mwith\u001b[0m \u001b[0mopen\u001b[0m\u001b[0;34m(\u001b[0m\u001b[0mpath\u001b[0m\u001b[0;34m,\u001b[0m \u001b[0;34m'w'\u001b[0m\u001b[0;34m)\u001b[0m \u001b[0;32mas\u001b[0m \u001b[0mf\u001b[0m\u001b[0;34m:\u001b[0m\u001b[0;34m\u001b[0m\u001b[0;34m\u001b[0m\u001b[0m\n\u001b[0m\u001b[1;32m      4\u001b[0m     \u001b[0;32mfor\u001b[0m \u001b[0mnum\u001b[0m \u001b[0;32min\u001b[0m \u001b[0mnumbers\u001b[0m\u001b[0;34m:\u001b[0m\u001b[0;34m\u001b[0m\u001b[0;34m\u001b[0m\u001b[0m\n\u001b[1;32m      5\u001b[0m         \u001b[0mf\u001b[0m\u001b[0;34m.\u001b[0m\u001b[0mwrite\u001b[0m\u001b[0;34m(\u001b[0m\u001b[0;34mf'{num}\\n'\u001b[0m\u001b[0;34m)\u001b[0m\u001b[0;34m\u001b[0m\u001b[0;34m\u001b[0m\u001b[0m\n",
            "\u001b[0;31mFileNotFoundError\u001b[0m: [Errno 2] No such file or directory: '/mnt/data/numbers.txt'"
          ]
        }
      ],
      "source": [
        "numbers = list(range(1, 11))\n",
        "path = '/mnt/data/numbers.txt'\n",
        "with open(path, 'w') as f:\n",
        "    for num in numbers:\n",
        "        f.write(f'{num}\\n')\n",
        "\n",
        "print('Wrote numbers to', path)"
      ]
    },
    {
      "cell_type": "markdown",
      "id": "458a7718",
      "metadata": {
        "id": "458a7718"
      },
      "source": [
        "### Question: How would you implement a basic logging setup that logs to a file with rotation after 1MB\n",
        "\n",
        "Answer + Code:\n",
        "Use `logging.handlers.RotatingFileHandler` with `maxBytes=1_000_000`.\n"
      ]
    },
    {
      "cell_type": "code",
      "execution_count": 19,
      "id": "a889a14b",
      "metadata": {
        "colab": {
          "base_uri": "https://localhost:8080/",
          "height": 356
        },
        "id": "a889a14b",
        "outputId": "01071eb3-9d15-4b7a-eedf-f1c405e56e2f"
      },
      "outputs": [
        {
          "output_type": "error",
          "ename": "FileNotFoundError",
          "evalue": "[Errno 2] No such file or directory: '/mnt/data/rotating.log'",
          "traceback": [
            "\u001b[0;31m---------------------------------------------------------------------------\u001b[0m",
            "\u001b[0;31mFileNotFoundError\u001b[0m                         Traceback (most recent call last)",
            "\u001b[0;32m/tmp/ipython-input-2272515096.py\u001b[0m in \u001b[0;36m<cell line: 0>\u001b[0;34m()\u001b[0m\n\u001b[1;32m      4\u001b[0m \u001b[0mlogger\u001b[0m \u001b[0;34m=\u001b[0m \u001b[0mlogging\u001b[0m\u001b[0;34m.\u001b[0m\u001b[0mgetLogger\u001b[0m\u001b[0;34m(\u001b[0m\u001b[0;34m'rotating_example'\u001b[0m\u001b[0;34m)\u001b[0m\u001b[0;34m\u001b[0m\u001b[0;34m\u001b[0m\u001b[0m\n\u001b[1;32m      5\u001b[0m \u001b[0mlogger\u001b[0m\u001b[0;34m.\u001b[0m\u001b[0msetLevel\u001b[0m\u001b[0;34m(\u001b[0m\u001b[0mlogging\u001b[0m\u001b[0;34m.\u001b[0m\u001b[0mINFO\u001b[0m\u001b[0;34m)\u001b[0m\u001b[0;34m\u001b[0m\u001b[0;34m\u001b[0m\u001b[0m\n\u001b[0;32m----> 6\u001b[0;31m \u001b[0mhandler\u001b[0m \u001b[0;34m=\u001b[0m \u001b[0mRotatingFileHandler\u001b[0m\u001b[0;34m(\u001b[0m\u001b[0;34m'/mnt/data/rotating.log'\u001b[0m\u001b[0;34m,\u001b[0m \u001b[0mmaxBytes\u001b[0m\u001b[0;34m=\u001b[0m\u001b[0;36m1_000_000\u001b[0m\u001b[0;34m,\u001b[0m \u001b[0mbackupCount\u001b[0m\u001b[0;34m=\u001b[0m\u001b[0;36m3\u001b[0m\u001b[0;34m)\u001b[0m\u001b[0;34m\u001b[0m\u001b[0;34m\u001b[0m\u001b[0m\n\u001b[0m\u001b[1;32m      7\u001b[0m \u001b[0mhandler\u001b[0m\u001b[0;34m.\u001b[0m\u001b[0msetFormatter\u001b[0m\u001b[0;34m(\u001b[0m\u001b[0mlogging\u001b[0m\u001b[0;34m.\u001b[0m\u001b[0mFormatter\u001b[0m\u001b[0;34m(\u001b[0m\u001b[0;34m'%(asctime)s - %(levelname)s - %(message)s'\u001b[0m\u001b[0;34m)\u001b[0m\u001b[0;34m)\u001b[0m\u001b[0;34m\u001b[0m\u001b[0;34m\u001b[0m\u001b[0m\n\u001b[1;32m      8\u001b[0m \u001b[0mlogger\u001b[0m\u001b[0;34m.\u001b[0m\u001b[0maddHandler\u001b[0m\u001b[0;34m(\u001b[0m\u001b[0mhandler\u001b[0m\u001b[0;34m)\u001b[0m\u001b[0;34m\u001b[0m\u001b[0;34m\u001b[0m\u001b[0m\n",
            "\u001b[0;32m/usr/lib/python3.12/logging/handlers.py\u001b[0m in \u001b[0;36m__init__\u001b[0;34m(self, filename, mode, maxBytes, backupCount, encoding, delay, errors)\u001b[0m\n\u001b[1;32m    153\u001b[0m         \u001b[0;32mif\u001b[0m \u001b[0;34m\"b\"\u001b[0m \u001b[0;32mnot\u001b[0m \u001b[0;32min\u001b[0m \u001b[0mmode\u001b[0m\u001b[0;34m:\u001b[0m\u001b[0;34m\u001b[0m\u001b[0;34m\u001b[0m\u001b[0m\n\u001b[1;32m    154\u001b[0m             \u001b[0mencoding\u001b[0m \u001b[0;34m=\u001b[0m \u001b[0mio\u001b[0m\u001b[0;34m.\u001b[0m\u001b[0mtext_encoding\u001b[0m\u001b[0;34m(\u001b[0m\u001b[0mencoding\u001b[0m\u001b[0;34m)\u001b[0m\u001b[0;34m\u001b[0m\u001b[0;34m\u001b[0m\u001b[0m\n\u001b[0;32m--> 155\u001b[0;31m         BaseRotatingHandler.__init__(self, filename, mode, encoding=encoding,\n\u001b[0m\u001b[1;32m    156\u001b[0m                                      delay=delay, errors=errors)\n\u001b[1;32m    157\u001b[0m         \u001b[0mself\u001b[0m\u001b[0;34m.\u001b[0m\u001b[0mmaxBytes\u001b[0m \u001b[0;34m=\u001b[0m \u001b[0mmaxBytes\u001b[0m\u001b[0;34m\u001b[0m\u001b[0;34m\u001b[0m\u001b[0m\n",
            "\u001b[0;32m/usr/lib/python3.12/logging/handlers.py\u001b[0m in \u001b[0;36m__init__\u001b[0;34m(self, filename, mode, encoding, delay, errors)\u001b[0m\n\u001b[1;32m     56\u001b[0m         \u001b[0mUse\u001b[0m \u001b[0mthe\u001b[0m \u001b[0mspecified\u001b[0m \u001b[0mfilename\u001b[0m \u001b[0;32mfor\u001b[0m \u001b[0mstreamed\u001b[0m \u001b[0mlogging\u001b[0m\u001b[0;34m\u001b[0m\u001b[0;34m\u001b[0m\u001b[0m\n\u001b[1;32m     57\u001b[0m         \"\"\"\n\u001b[0;32m---> 58\u001b[0;31m         logging.FileHandler.__init__(self, filename, mode=mode,\n\u001b[0m\u001b[1;32m     59\u001b[0m                                      \u001b[0mencoding\u001b[0m\u001b[0;34m=\u001b[0m\u001b[0mencoding\u001b[0m\u001b[0;34m,\u001b[0m \u001b[0mdelay\u001b[0m\u001b[0;34m=\u001b[0m\u001b[0mdelay\u001b[0m\u001b[0;34m,\u001b[0m\u001b[0;34m\u001b[0m\u001b[0;34m\u001b[0m\u001b[0m\n\u001b[1;32m     60\u001b[0m                                      errors=errors)\n",
            "\u001b[0;32m/usr/lib/python3.12/logging/__init__.py\u001b[0m in \u001b[0;36m__init__\u001b[0;34m(self, filename, mode, encoding, delay, errors)\u001b[0m\n\u001b[1;32m   1229\u001b[0m             \u001b[0mself\u001b[0m\u001b[0;34m.\u001b[0m\u001b[0mstream\u001b[0m \u001b[0;34m=\u001b[0m \u001b[0;32mNone\u001b[0m\u001b[0;34m\u001b[0m\u001b[0;34m\u001b[0m\u001b[0m\n\u001b[1;32m   1230\u001b[0m         \u001b[0;32melse\u001b[0m\u001b[0;34m:\u001b[0m\u001b[0;34m\u001b[0m\u001b[0;34m\u001b[0m\u001b[0m\n\u001b[0;32m-> 1231\u001b[0;31m             \u001b[0mStreamHandler\u001b[0m\u001b[0;34m.\u001b[0m\u001b[0m__init__\u001b[0m\u001b[0;34m(\u001b[0m\u001b[0mself\u001b[0m\u001b[0;34m,\u001b[0m \u001b[0mself\u001b[0m\u001b[0;34m.\u001b[0m\u001b[0m_open\u001b[0m\u001b[0;34m(\u001b[0m\u001b[0;34m)\u001b[0m\u001b[0;34m)\u001b[0m\u001b[0;34m\u001b[0m\u001b[0;34m\u001b[0m\u001b[0m\n\u001b[0m\u001b[1;32m   1232\u001b[0m \u001b[0;34m\u001b[0m\u001b[0m\n\u001b[1;32m   1233\u001b[0m     \u001b[0;32mdef\u001b[0m \u001b[0mclose\u001b[0m\u001b[0;34m(\u001b[0m\u001b[0mself\u001b[0m\u001b[0;34m)\u001b[0m\u001b[0;34m:\u001b[0m\u001b[0;34m\u001b[0m\u001b[0;34m\u001b[0m\u001b[0m\n",
            "\u001b[0;32m/usr/lib/python3.12/logging/__init__.py\u001b[0m in \u001b[0;36m_open\u001b[0;34m(self)\u001b[0m\n\u001b[1;32m   1261\u001b[0m         \"\"\"\n\u001b[1;32m   1262\u001b[0m         \u001b[0mopen_func\u001b[0m \u001b[0;34m=\u001b[0m \u001b[0mself\u001b[0m\u001b[0;34m.\u001b[0m\u001b[0m_builtin_open\u001b[0m\u001b[0;34m\u001b[0m\u001b[0;34m\u001b[0m\u001b[0m\n\u001b[0;32m-> 1263\u001b[0;31m         return open_func(self.baseFilename, self.mode,\n\u001b[0m\u001b[1;32m   1264\u001b[0m                          encoding=self.encoding, errors=self.errors)\n\u001b[1;32m   1265\u001b[0m \u001b[0;34m\u001b[0m\u001b[0m\n",
            "\u001b[0;31mFileNotFoundError\u001b[0m: [Errno 2] No such file or directory: '/mnt/data/rotating.log'"
          ]
        }
      ],
      "source": [
        "import logging\n",
        "from logging.handlers import RotatingFileHandler\n",
        "\n",
        "logger = logging.getLogger('rotating_example')\n",
        "logger.setLevel(logging.INFO)\n",
        "handler = RotatingFileHandler('/mnt/data/rotating.log', maxBytes=1_000_000, backupCount=3)\n",
        "handler.setFormatter(logging.Formatter('%(asctime)s - %(levelname)s - %(message)s'))\n",
        "logger.addHandler(handler)\n",
        "\n",
        "for i in range(5000):\n",
        "    logger.info('Log line %d', i)\n",
        "print('Generated many log lines to demonstrate rotation (check /mnt/data/rotating.log)')"
      ]
    },
    {
      "cell_type": "markdown",
      "id": "9836e75d",
      "metadata": {
        "id": "9836e75d"
      },
      "source": [
        "### Question: Write a program that handles both IndexError and KeyError using a try-except block\n",
        "\n",
        "Answer + Code:\n",
        "Show handling for both exceptions.\n"
      ]
    },
    {
      "cell_type": "code",
      "execution_count": 20,
      "id": "436f44e9",
      "metadata": {
        "colab": {
          "base_uri": "https://localhost:8080/"
        },
        "id": "436f44e9",
        "outputId": "ab71f9a5-d1c2-4699-9764-1819e4d4b578"
      },
      "outputs": [
        {
          "output_type": "stream",
          "name": "stdout",
          "text": [
            "Caught IndexError: list index out of range\n"
          ]
        }
      ],
      "source": [
        "# Handle IndexError and KeyError\n",
        "lst = [1,2,3]\n",
        "d = {'x': 10}\n",
        "try:\n",
        "    print(lst[10])\n",
        "    print(d['y'])\n",
        "except IndexError:\n",
        "    print('Caught IndexError: list index out of range')\n",
        "except KeyError:\n",
        "    print('Caught KeyError: key missing in dict')"
      ]
    },
    {
      "cell_type": "markdown",
      "id": "dc89f694",
      "metadata": {
        "id": "dc89f694"
      },
      "source": [
        "### Question: How would you open a file and read its contents using a context manager in Python\n",
        "\n",
        "Answer + Code:\n",
        "Use `with open(...) as f: content = f.read()`.\",\n"
      ]
    },
    {
      "cell_type": "code",
      "execution_count": 21,
      "id": "34ec1559",
      "metadata": {
        "colab": {
          "base_uri": "https://localhost:8080/",
          "height": 211
        },
        "id": "34ec1559",
        "outputId": "07f9ccce-0d61-41e3-c315-864e70142514"
      },
      "outputs": [
        {
          "output_type": "error",
          "ename": "FileNotFoundError",
          "evalue": "[Errno 2] No such file or directory: '/mnt/data/example_read.txt'",
          "traceback": [
            "\u001b[0;31m---------------------------------------------------------------------------\u001b[0m",
            "\u001b[0;31mFileNotFoundError\u001b[0m                         Traceback (most recent call last)",
            "\u001b[0;32m/tmp/ipython-input-1178423520.py\u001b[0m in \u001b[0;36m<cell line: 0>\u001b[0;34m()\u001b[0m\n\u001b[1;32m      1\u001b[0m \u001b[0;31m# Using context manager to read file\u001b[0m\u001b[0;34m\u001b[0m\u001b[0;34m\u001b[0m\u001b[0m\n\u001b[1;32m      2\u001b[0m \u001b[0mpath\u001b[0m \u001b[0;34m=\u001b[0m \u001b[0;34m'/mnt/data/example_read.txt'\u001b[0m\u001b[0;34m\u001b[0m\u001b[0;34m\u001b[0m\u001b[0m\n\u001b[0;32m----> 3\u001b[0;31m \u001b[0;32mwith\u001b[0m \u001b[0mopen\u001b[0m\u001b[0;34m(\u001b[0m\u001b[0mpath\u001b[0m\u001b[0;34m,\u001b[0m \u001b[0;34m'r'\u001b[0m\u001b[0;34m)\u001b[0m \u001b[0;32mas\u001b[0m \u001b[0mf\u001b[0m\u001b[0;34m:\u001b[0m\u001b[0;34m\u001b[0m\u001b[0;34m\u001b[0m\u001b[0m\n\u001b[0m\u001b[1;32m      4\u001b[0m     \u001b[0mcontent\u001b[0m \u001b[0;34m=\u001b[0m \u001b[0mf\u001b[0m\u001b[0;34m.\u001b[0m\u001b[0mread\u001b[0m\u001b[0;34m(\u001b[0m\u001b[0;34m)\u001b[0m\u001b[0;34m\u001b[0m\u001b[0;34m\u001b[0m\u001b[0m\n\u001b[1;32m      5\u001b[0m \u001b[0mprint\u001b[0m\u001b[0;34m(\u001b[0m\u001b[0;34m'Read content length:'\u001b[0m\u001b[0;34m,\u001b[0m \u001b[0mlen\u001b[0m\u001b[0;34m(\u001b[0m\u001b[0mcontent\u001b[0m\u001b[0;34m)\u001b[0m\u001b[0;34m)\u001b[0m\u001b[0;34m\u001b[0m\u001b[0;34m\u001b[0m\u001b[0m\n",
            "\u001b[0;31mFileNotFoundError\u001b[0m: [Errno 2] No such file or directory: '/mnt/data/example_read.txt'"
          ]
        }
      ],
      "source": [
        "# Using context manager to read file\n",
        "path = '/mnt/data/example_read.txt'\n",
        "with open(path, 'r') as f:\n",
        "    content = f.read()\n",
        "print('Read content length:', len(content))"
      ]
    },
    {
      "cell_type": "markdown",
      "id": "63db6755",
      "metadata": {
        "id": "63db6755"
      },
      "source": [
        "### Question: Write a Python program that reads a file and prints the number of occurrences of a specific word\n",
        "\n",
        "Answer + Code:\n",
        "Read file, normalize text, split, and count occurrences.\n"
      ]
    },
    {
      "cell_type": "code",
      "execution_count": 22,
      "id": "f1a10972",
      "metadata": {
        "colab": {
          "base_uri": "https://localhost:8080/",
          "height": 211
        },
        "id": "f1a10972",
        "outputId": "b5855597-df77-4607-fb24-5e5966e12f3b"
      },
      "outputs": [
        {
          "output_type": "error",
          "ename": "FileNotFoundError",
          "evalue": "[Errno 2] No such file or directory: '/mnt/data/word_count.txt'",
          "traceback": [
            "\u001b[0;31m---------------------------------------------------------------------------\u001b[0m",
            "\u001b[0;31mFileNotFoundError\u001b[0m                         Traceback (most recent call last)",
            "\u001b[0;32m/tmp/ipython-input-1705222232.py\u001b[0m in \u001b[0;36m<cell line: 0>\u001b[0;34m()\u001b[0m\n\u001b[1;32m      1\u001b[0m \u001b[0mpath\u001b[0m \u001b[0;34m=\u001b[0m \u001b[0;34m'/mnt/data/word_count.txt'\u001b[0m\u001b[0;34m\u001b[0m\u001b[0;34m\u001b[0m\u001b[0m\n\u001b[0;32m----> 2\u001b[0;31m \u001b[0;32mwith\u001b[0m \u001b[0mopen\u001b[0m\u001b[0;34m(\u001b[0m\u001b[0mpath\u001b[0m\u001b[0;34m,\u001b[0m \u001b[0;34m'w'\u001b[0m\u001b[0;34m)\u001b[0m \u001b[0;32mas\u001b[0m \u001b[0mf\u001b[0m\u001b[0;34m:\u001b[0m\u001b[0;34m\u001b[0m\u001b[0;34m\u001b[0m\u001b[0m\n\u001b[0m\u001b[1;32m      3\u001b[0m     \u001b[0mf\u001b[0m\u001b[0;34m.\u001b[0m\u001b[0mwrite\u001b[0m\u001b[0;34m(\u001b[0m\u001b[0;34m'apple banana Apple apple orange apple\\n'\u001b[0m\u001b[0;34m)\u001b[0m\u001b[0;34m\u001b[0m\u001b[0;34m\u001b[0m\u001b[0m\n\u001b[1;32m      4\u001b[0m \u001b[0;34m\u001b[0m\u001b[0m\n\u001b[1;32m      5\u001b[0m \u001b[0mtarget\u001b[0m \u001b[0;34m=\u001b[0m \u001b[0;34m'apple'\u001b[0m\u001b[0;34m\u001b[0m\u001b[0;34m\u001b[0m\u001b[0m\n",
            "\u001b[0;31mFileNotFoundError\u001b[0m: [Errno 2] No such file or directory: '/mnt/data/word_count.txt'"
          ]
        }
      ],
      "source": [
        "path = '/mnt/data/word_count.txt'\n",
        "with open(path, 'w') as f:\n",
        "    f.write('apple banana Apple apple orange apple\\n')\n",
        "\n",
        "target = 'apple'\n",
        "with open(path, 'r') as f:\n",
        "    text = f.read().lower()\n",
        "count = text.split().count(target.lower())\n",
        "print(f\"Occurrences of '{target}':\", count)"
      ]
    },
    {
      "cell_type": "markdown",
      "id": "46f69905",
      "metadata": {
        "id": "46f69905"
      },
      "source": [
        "### Question: How can you check if a file is empty before attempting to read its contents\n",
        "\n",
        "Answer + Code:\n",
        "Check file size with `os.path.getsize()` or read and test truthiness.\n"
      ]
    },
    {
      "cell_type": "code",
      "execution_count": 23,
      "id": "48e99ed1",
      "metadata": {
        "colab": {
          "base_uri": "https://localhost:8080/",
          "height": 245
        },
        "id": "48e99ed1",
        "outputId": "e2a7fafd-9c5f-47a3-80ec-1d1c0f01da05"
      },
      "outputs": [
        {
          "output_type": "error",
          "ename": "FileNotFoundError",
          "evalue": "[Errno 2] No such file or directory: '/mnt/data/empty_check.txt'",
          "traceback": [
            "\u001b[0;31m---------------------------------------------------------------------------\u001b[0m",
            "\u001b[0;31mFileNotFoundError\u001b[0m                         Traceback (most recent call last)",
            "\u001b[0;32m/tmp/ipython-input-1601133946.py\u001b[0m in \u001b[0;36m<cell line: 0>\u001b[0;34m()\u001b[0m\n\u001b[1;32m      1\u001b[0m \u001b[0;32mimport\u001b[0m \u001b[0mos\u001b[0m\u001b[0;34m\u001b[0m\u001b[0;34m\u001b[0m\u001b[0m\n\u001b[1;32m      2\u001b[0m \u001b[0mpath\u001b[0m \u001b[0;34m=\u001b[0m \u001b[0;34m'/mnt/data/empty_check.txt'\u001b[0m\u001b[0;34m\u001b[0m\u001b[0;34m\u001b[0m\u001b[0m\n\u001b[0;32m----> 3\u001b[0;31m \u001b[0msize\u001b[0m \u001b[0;34m=\u001b[0m \u001b[0mos\u001b[0m\u001b[0;34m.\u001b[0m\u001b[0mpath\u001b[0m\u001b[0;34m.\u001b[0m\u001b[0mgetsize\u001b[0m\u001b[0;34m(\u001b[0m\u001b[0mpath\u001b[0m\u001b[0;34m)\u001b[0m\u001b[0;34m\u001b[0m\u001b[0;34m\u001b[0m\u001b[0m\n\u001b[0m\u001b[1;32m      4\u001b[0m \u001b[0mprint\u001b[0m\u001b[0;34m(\u001b[0m\u001b[0;34m'Size in bytes:'\u001b[0m\u001b[0;34m,\u001b[0m \u001b[0msize\u001b[0m\u001b[0;34m)\u001b[0m\u001b[0;34m\u001b[0m\u001b[0;34m\u001b[0m\u001b[0m\n\u001b[1;32m      5\u001b[0m \u001b[0;32mif\u001b[0m \u001b[0msize\u001b[0m \u001b[0;34m==\u001b[0m \u001b[0;36m0\u001b[0m\u001b[0;34m:\u001b[0m\u001b[0;34m\u001b[0m\u001b[0;34m\u001b[0m\u001b[0m\n",
            "\u001b[0;32m/usr/lib/python3.12/genericpath.py\u001b[0m in \u001b[0;36mgetsize\u001b[0;34m(filename)\u001b[0m\n",
            "\u001b[0;31mFileNotFoundError\u001b[0m: [Errno 2] No such file or directory: '/mnt/data/empty_check.txt'"
          ]
        }
      ],
      "source": [
        "import os\n",
        "path = '/mnt/data/empty_check.txt'\n",
        "size = os.path.getsize(path)\n",
        "print('Size in bytes:', size)\n",
        "if size == 0:\n",
        "    print('File is empty (by size).')"
      ]
    },
    {
      "cell_type": "markdown",
      "id": "7746ea38",
      "metadata": {
        "id": "7746ea38"
      },
      "source": [
        "### Question: Write a Python program that writes to a log file when an error occurs during file handling.\n",
        "\n",
        "Answer + Code:\n",
        "Use logging in except blocks to record errors.\n"
      ]
    },
    {
      "cell_type": "code",
      "execution_count": 24,
      "id": "1d340adb",
      "metadata": {
        "colab": {
          "base_uri": "https://localhost:8080/"
        },
        "id": "1d340adb",
        "outputId": "c5156011-3c9a-42a5-d844-6d9ceb351cf7"
      },
      "outputs": [
        {
          "output_type": "stream",
          "name": "stderr",
          "text": [
            "ERROR:root:Error while opening file /mnt/data/nonexistent_for_log.txt: [Errno 2] No such file or directory: '/mnt/data/nonexistent_for_log.txt'\n"
          ]
        },
        {
          "output_type": "stream",
          "name": "stdout",
          "text": [
            "Logged error to /mnt/data/file_errors.log\n"
          ]
        }
      ],
      "source": [
        "import logging\n",
        "logging.basicConfig(filename='/mnt/data/file_errors.log', level=logging.ERROR,\n",
        "                    format='%(asctime)s - %(levelname)s - %(message)s')\n",
        "path = '/mnt/data/nonexistent_for_log.txt'\n",
        "try:\n",
        "    with open(path, 'r') as f:\n",
        "        _ = f.read()\n",
        "except Exception as e:\n",
        "    logging.error('Error while opening file %s: %s', path, e)\n",
        "    print('Logged error to /mnt/data/file_errors.log')"
      ]
    }
  ],
  "metadata": {
    "language_info": {
      "name": "python"
    },
    "colab": {
      "provenance": []
    },
    "kernelspec": {
      "name": "python3",
      "display_name": "Python 3"
    }
  },
  "nbformat": 4,
  "nbformat_minor": 5
}