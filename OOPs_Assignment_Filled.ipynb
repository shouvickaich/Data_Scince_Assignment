{
  "cells": [
    {
      "cell_type": "markdown",
      "id": "ba90ad8e",
      "metadata": {
        "id": "ba90ad8e"
      },
      "source": [
        "# Python OOPS Questions\n",
        "\n",
        "---\n",
        "\n"
      ]
    },
    {
      "cell_type": "markdown",
      "source": [
        "### Q: What is Object-Oriented Programming (OOP)"
      ],
      "metadata": {
        "id": "A7_F6a72lna7"
      },
      "id": "A7_F6a72lna7"
    },
    {
      "cell_type": "markdown",
      "id": "df0c467f",
      "metadata": {
        "id": "df0c467f"
      },
      "source": [
        "**Answer:**  \n",
        "Object-Oriented Programming (OOP) is a programming paradigm that organizes software design around **objects**—bundles of *state* (data/attributes) and *behavior* (methods).  \n",
        "Core goals: **modularity**, **reusability**, **extensibility**, and **maintainability**.  \n",
        "Key principles (often remembered as *A PIE*): **Abstraction**, **Polymorphism**, **Inheritance**, **Encapsulation**.\n",
        "\n",
        "**Why it matters:** OOP maps well to real-world domains, reduces code duplication via reuse/extension, and encourages clean interfaces.\n"
      ]
    },
    {
      "cell_type": "code",
      "execution_count": null,
      "id": "d2159250",
      "metadata": {
        "id": "d2159250"
      },
      "outputs": [],
      "source": [
        "\n",
        "# Tiny demo: objects bundle state + behavior\n",
        "class Counter:\n",
        "    def __init__(self, start=0):\n",
        "        self.value = start  # state\n",
        "    def inc(self):         # behavior\n",
        "        self.value += 1\n",
        "    def __repr__(self):\n",
        "        return f\"Counter(value={self.value})\"\n",
        "\n",
        "c = Counter()\n",
        "c.inc(); c.inc()\n",
        "c\n"
      ]
    },
    {
      "cell_type": "markdown",
      "id": "d1371704",
      "metadata": {
        "id": "d1371704"
      },
      "source": [
        "### Q: What is a class in OOP"
      ]
    },
    {
      "cell_type": "markdown",
      "id": "c75bb924",
      "metadata": {
        "id": "c75bb924"
      },
      "source": [
        "**Answer:**  \n",
        "A **class** is a blueprint for creating objects. It defines the **attributes** (data) and **methods** (behaviors) shared by all its instances. Classes enable code organization, reuse, and type creation.\n"
      ]
    },
    {
      "cell_type": "code",
      "execution_count": null,
      "id": "25913c63",
      "metadata": {
        "id": "25913c63"
      },
      "outputs": [],
      "source": [
        "\n",
        "class Dog:\n",
        "    species = \"Canis familiaris\"  # class attribute (shared)\n",
        "    def __init__(self, name):\n",
        "        self.name = name           # instance attribute (per-object)\n",
        "    def bark(self):\n",
        "        return f\"{self.name} says: Woof!\"\n",
        "Dog(\"Buddy\").bark()\n"
      ]
    },
    {
      "cell_type": "markdown",
      "id": "12026014",
      "metadata": {
        "id": "12026014"
      },
      "source": [
        "### Q: What is an object in OOP"
      ]
    },
    {
      "cell_type": "markdown",
      "id": "e1b6b942",
      "metadata": {
        "id": "e1b6b942"
      },
      "source": [
        "**Answer:**  \n",
        "An **object** (or instance) is a concrete realization of a class—i.e., data stored in memory with methods bound to it. Each object has its own state but shares behavior defined by the class.\n"
      ]
    },
    {
      "cell_type": "code",
      "execution_count": null,
      "id": "333e7eeb",
      "metadata": {
        "id": "333e7eeb"
      },
      "outputs": [],
      "source": [
        "\n",
        "d1 = Dog(\"Milo\")\n",
        "d2 = Dog(\"Luna\")\n",
        "(d1.name, d2.name, d1 is d2)\n"
      ]
    },
    {
      "cell_type": "markdown",
      "id": "3ea2cf13",
      "metadata": {
        "id": "3ea2cf13"
      },
      "source": [
        "### Q: What is the difference between abstraction and encapsulation"
      ]
    },
    {
      "cell_type": "markdown",
      "id": "1554f1a3",
      "metadata": {
        "id": "1554f1a3"
      },
      "source": [
        "**Answer:**  \n",
        "- **Abstraction**: *Expose only what’s necessary*—provide simple interfaces while hiding complex internals (focus on **what**).  \n",
        "- **Encapsulation**: *Package data with the methods that operate on it* and **restrict direct access** to the internals (focus on **how to protect**).\n",
        "\n",
        "Abstraction is about designing clean APIs; encapsulation is about data protection and boundaries.\n"
      ]
    },
    {
      "cell_type": "code",
      "execution_count": null,
      "id": "49d14057",
      "metadata": {
        "id": "49d14057"
      },
      "outputs": [],
      "source": [
        "\n",
        "class Temperature:\n",
        "    # Encapsulation: keep _celsius \"internal\"\n",
        "    def __init__(self, celsius):\n",
        "        self._celsius = float(celsius)\n",
        "    # Abstraction: simple property interface\n",
        "    @property\n",
        "    def celsius(self):\n",
        "        return self._celsius\n",
        "    @celsius.setter\n",
        "    def celsius(self, value):\n",
        "        if value < -273.15:\n",
        "            raise ValueError(\"Below absolute zero\")\n",
        "        self._celsius = float(value)\n",
        "    @property\n",
        "    def fahrenheit(self):\n",
        "        return self._celsius * 9/5 + 32\n",
        "\n",
        "t = Temperature(25)\n",
        "(t.celsius, round(t.fahrenheit, 2))\n"
      ]
    },
    {
      "cell_type": "markdown",
      "id": "cbbfe803",
      "metadata": {
        "id": "cbbfe803"
      },
      "source": [
        "### Q: What are dunder methods in Python"
      ]
    },
    {
      "cell_type": "markdown",
      "id": "adb5226f",
      "metadata": {
        "id": "adb5226f"
      },
      "source": [
        "**Answer:**  \n",
        "**Dunder methods** (double-underscore methods) customize built‑in behavior (construction, printing, arithmetic, iteration, context management, etc.). Examples: `__init__`, `__repr__`, `__str__`, `__len__`, `__add__`, `__iter__`, `__enter__`, `__exit__`, `__call__`.\n",
        "\n",
        "They let objects integrate naturally with Python syntax and protocols.\n"
      ]
    },
    {
      "cell_type": "code",
      "execution_count": null,
      "id": "1a96e7b9",
      "metadata": {
        "id": "1a96e7b9"
      },
      "outputs": [],
      "source": [
        "\n",
        "class Vector2D:\n",
        "    def __init__(self, x, y):\n",
        "        self.x, self.y = x, y\n",
        "    def __add__(self, other):\n",
        "        return Vector2D(self.x + other.x, self.y + other.y)\n",
        "    def __repr__(self):\n",
        "        return f\"Vector2D({self.x}, {self.y})\"\n",
        "\n",
        "Vector2D(1, 2) + Vector2D(3, 4)\n"
      ]
    },
    {
      "cell_type": "markdown",
      "id": "3d0317cf",
      "metadata": {
        "id": "3d0317cf"
      },
      "source": [
        "### Q: Explain the concept of inheritance in OOP"
      ]
    },
    {
      "cell_type": "markdown",
      "id": "7bbfb189",
      "metadata": {
        "id": "7bbfb189"
      },
      "source": [
        "**Answer:**  \n",
        "**Inheritance** lets a class (**child/subclass**) reuse and extend another class (**parent/superclass**). It promotes code reuse and polymorphism.\n",
        "\n",
        "Types in Python: single, multiple, multilevel, hierarchical.\n"
      ]
    },
    {
      "cell_type": "code",
      "execution_count": null,
      "id": "490b7f54",
      "metadata": {
        "id": "490b7f54"
      },
      "outputs": [],
      "source": [
        "\n",
        "class Animal:\n",
        "    def speak(self): return \"Some sound\"\n",
        "\n",
        "class Dog(Animal):\n",
        "    def speak(self): return \"Bark!\"  # override\n",
        "\n",
        "(Animal().speak(), Dog().speak())\n"
      ]
    },
    {
      "cell_type": "markdown",
      "id": "3427e3ef",
      "metadata": {
        "id": "3427e3ef"
      },
      "source": [
        "### Q: What is polymorphism in OOP"
      ]
    },
    {
      "cell_type": "markdown",
      "id": "a54c25a9",
      "metadata": {
        "id": "a54c25a9"
      },
      "source": [
        "**Answer:**  \n",
        "**Polymorphism** means *same interface, different implementations*. Functions can work with objects of different types as long as they support the expected behavior (Pythonic **duck typing**).\n"
      ]
    },
    {
      "cell_type": "code",
      "execution_count": null,
      "id": "5c48f57f",
      "metadata": {
        "id": "5c48f57f"
      },
      "outputs": [],
      "source": [
        "\n",
        "def make_it_speak(creature):\n",
        "    # Works for any object that has .speak()\n",
        "    return creature.speak()\n",
        "\n",
        "class Cat:\n",
        "    def speak(self): return \"Meow\"\n",
        "make_it_speak(Dog()) , make_it_speak(Cat())\n"
      ]
    },
    {
      "cell_type": "markdown",
      "id": "2aa2e723",
      "metadata": {
        "id": "2aa2e723"
      },
      "source": [
        "### Q: How is encapsulation achieved in Python"
      ]
    },
    {
      "cell_type": "markdown",
      "id": "cb167d82",
      "metadata": {
        "id": "cb167d82"
      },
      "source": [
        "**Answer:**  \n",
        "Python uses conventions and name mangling to discourage direct access:\n",
        "- Prefix with `_name` (protected-by-convention).\n",
        "- Use `__name` (name-mangled) for stronger avoidance.\n",
        "- Provide **properties**/methods to control access, validation, and invariants.\n"
      ]
    },
    {
      "cell_type": "code",
      "execution_count": null,
      "id": "21d58a0d",
      "metadata": {
        "id": "21d58a0d"
      },
      "outputs": [],
      "source": [
        "\n",
        "class BankAccount:\n",
        "    def __init__(self, balance=0):\n",
        "        self.__balance = balance  # name-mangled\n",
        "    def deposit(self, amount):\n",
        "        if amount <= 0: raise ValueError(\"amount must be +\")\n",
        "        self.__balance += amount\n",
        "    def withdraw(self, amount):\n",
        "        if amount <= 0 or amount > self.__balance:\n",
        "            raise ValueError(\"invalid withdraw\")\n",
        "        self.__balance -= amount\n",
        "    @property\n",
        "    def balance(self):\n",
        "        return self.__balance\n",
        "\n",
        "acct = BankAccount(100); acct.deposit(50); acct.withdraw(20); acct.balance\n"
      ]
    },
    {
      "cell_type": "markdown",
      "id": "f86e8f17",
      "metadata": {
        "id": "f86e8f17"
      },
      "source": [
        "### Q: What is a constructor in Python"
      ]
    },
    {
      "cell_type": "markdown",
      "id": "55d9b332",
      "metadata": {
        "id": "55d9b332"
      },
      "source": [
        "**Answer:**  \n",
        "A **constructor** initializes a new object’s state. In Python, the initializer is `__init__(self, ...)`, called after memory is allocated by `__new__`. Use it to set attributes and enforce invariants.\n"
      ]
    },
    {
      "cell_type": "code",
      "execution_count": null,
      "id": "22ed320a",
      "metadata": {
        "id": "22ed320a"
      },
      "outputs": [],
      "source": [
        "\n",
        "class User:\n",
        "    def __init__(self, username, email):\n",
        "        if \"@\" not in email:\n",
        "            raise ValueError(\"invalid email\")\n",
        "        self.username = username\n",
        "        self.email = email\n",
        "\n",
        "User(\"alice\", \"alice@example.com\").__dict__\n"
      ]
    },
    {
      "cell_type": "markdown",
      "id": "0ca6f5d5",
      "metadata": {
        "id": "0ca6f5d5"
      },
      "source": [
        "### Q: What are class and static methods in Python"
      ]
    },
    {
      "cell_type": "markdown",
      "id": "61fe4da4",
      "metadata": {
        "id": "61fe4da4"
      },
      "source": [
        "**Answer:**  \n",
        "- `@classmethod`: receives the class as first arg (`cls`). Used for **alternative constructors**, **class-wide state**, or behaviors tied to the type.\n",
        "- `@staticmethod`: no auto `self/cls`. A namespaced utility function residing on the class for organization.\n"
      ]
    },
    {
      "cell_type": "code",
      "execution_count": null,
      "id": "a727ea07",
      "metadata": {
        "id": "a727ea07"
      },
      "outputs": [],
      "source": [
        "\n",
        "class Date:\n",
        "    def __init__(self, y, m, d): self.y, self.m, self.d = y, m, d\n",
        "    @classmethod\n",
        "    def from_string(cls, s):\n",
        "        y, m, d = map(int, s.split(\"-\")); return cls(y, m, d)\n",
        "    @staticmethod\n",
        "    def is_leap(year):\n",
        "        return (year % 4 == 0 and year % 100 != 0) or (year % 400 == 0)\n",
        "\n",
        "Date.is_leap(2000), Date.from_string(\"2024-02-29\").__dict__\n"
      ]
    },
    {
      "cell_type": "markdown",
      "id": "f3638731",
      "metadata": {
        "id": "f3638731"
      },
      "source": [
        "### Q: What is method overloading in Python"
      ]
    },
    {
      "cell_type": "markdown",
      "id": "4fc3dcf5",
      "metadata": {
        "id": "4fc3dcf5"
      },
      "source": [
        "**Answer:**  \n",
        "Classic **compile-time overloading** (same name, different signatures) isn’t native in Python. Instead, we use:\n",
        "- **Default args/`*args`/`**kwargs`** to accept variants,\n",
        "- **`functools.singledispatch`** for type-based generic functions,\n",
        "- or conditional logic inside the method.\n"
      ]
    },
    {
      "cell_type": "code",
      "execution_count": null,
      "id": "075519a4",
      "metadata": {
        "id": "075519a4"
      },
      "outputs": [],
      "source": [
        "\n",
        "from functools import singledispatch\n",
        "\n",
        "@singledispatch\n",
        "def area(shape):\n",
        "    raise TypeError(\"unsupported type\")\n",
        "@area.register\n",
        "def _(r: float):\n",
        "    # treat float as radius of a circle\n",
        "    import math; return math.pi * r * r\n",
        "@area.register\n",
        "def _(s: tuple):\n",
        "    # treat tuple as rectangle (w, h)\n",
        "    w, h = s; return w * h\n",
        "\n",
        "area(2.0), area((3,4))\n"
      ]
    },
    {
      "cell_type": "markdown",
      "id": "8fef6dce",
      "metadata": {
        "id": "8fef6dce"
      },
      "source": [
        "### Q: What is method overriding in OOP"
      ]
    },
    {
      "cell_type": "markdown",
      "id": "d241f8eb",
      "metadata": {
        "id": "d241f8eb"
      },
      "source": [
        "**Answer:**  \n",
        "**Overriding** occurs when a subclass provides a new implementation of a method defined in its superclass. Calls on subclass instances resolve to the overridden method via **dynamic dispatch**.\n"
      ]
    },
    {
      "cell_type": "code",
      "execution_count": null,
      "id": "3d68c284",
      "metadata": {
        "id": "3d68c284"
      },
      "outputs": [],
      "source": [
        "\n",
        "class Parent:\n",
        "    def greet(self): return \"Hello from Parent\"\n",
        "class Child(Parent):\n",
        "    def greet(self): return \"Hello from Child\"\n",
        "\n",
        "Parent().greet(), Child().greet()\n"
      ]
    },
    {
      "cell_type": "markdown",
      "id": "0a0307da",
      "metadata": {
        "id": "0a0307da"
      },
      "source": [
        "### Q: What is a property decorator in Python"
      ]
    },
    {
      "cell_type": "markdown",
      "id": "9852fe35",
      "metadata": {
        "id": "9852fe35"
      },
      "source": [
        "**Answer:**  \n",
        "`@property` turns a method into a **managed attribute**. It enables controlled access with optional validation via a setter and computed read-only or read‑write attributes, without changing the attribute access syntax.\n"
      ]
    },
    {
      "cell_type": "code",
      "execution_count": null,
      "id": "0daab86c",
      "metadata": {
        "id": "0daab86c"
      },
      "outputs": [],
      "source": [
        "\n",
        "class Person:\n",
        "    def __init__(self, age): self._age = age\n",
        "    @property\n",
        "    def age(self): return self._age\n",
        "    @age.setter\n",
        "    def age(self, value):\n",
        "        if value < 0: raise ValueError(\"age must be >= 0\")\n",
        "        self._age = value\n",
        "\n",
        "p = Person(20); p.age = 21; p.age\n"
      ]
    },
    {
      "cell_type": "markdown",
      "id": "a0b6540f",
      "metadata": {
        "id": "a0b6540f"
      },
      "source": [
        "### Q: Why is polymorphism important in OOP"
      ]
    },
    {
      "cell_type": "markdown",
      "id": "a4a80e63",
      "metadata": {
        "id": "a4a80e63"
      },
      "source": [
        "**Answer:**  \n",
        "Polymorphism decouples *what* you do from *how* it’s done, enabling **flexible, extensible, testable** designs. New types can plug into existing code as long as they honor the expected interface (Liskov Substitution Principle).\n"
      ]
    },
    {
      "cell_type": "markdown",
      "id": "44d00f7c",
      "metadata": {
        "id": "44d00f7c"
      },
      "source": [
        "### Q: What is an abstract class in Python"
      ]
    },
    {
      "cell_type": "markdown",
      "id": "fc55d660",
      "metadata": {
        "id": "fc55d660"
      },
      "source": [
        "**Answer:**  \n",
        "An **abstract class** defines an interface and possibly shared behavior, but cannot be instantiated. Use `abc.ABC` and `@abstractmethod` to force subclasses to implement required methods.\n"
      ]
    },
    {
      "cell_type": "code",
      "execution_count": null,
      "id": "26093b32",
      "metadata": {
        "id": "26093b32"
      },
      "outputs": [],
      "source": [
        "\n",
        "from abc import ABC, abstractmethod\n",
        "\n",
        "class Shape(ABC):\n",
        "    @abstractmethod\n",
        "    def area(self): ...\n",
        "class Square(Shape):\n",
        "    def __init__(self, side): self.side = side\n",
        "    def area(self): return self.side * self.side\n",
        "\n",
        "Square(3).area()\n"
      ]
    },
    {
      "cell_type": "markdown",
      "id": "f1b54c76",
      "metadata": {
        "id": "f1b54c76"
      },
      "source": [
        "### Q: What are the advantages of OOP"
      ]
    },
    {
      "cell_type": "markdown",
      "id": "cb1aaa97",
      "metadata": {
        "id": "cb1aaa97"
      },
      "source": [
        "**Answer:**  \n",
        "- **Modularity** and separation of concerns  \n",
        "- **Reusability** via inheritance/composition  \n",
        "- **Extensibility** through polymorphism  \n",
        "- **Maintainability** with encapsulation and clear interfaces  \n",
        "- **Testability** with small, coherent units\n"
      ]
    },
    {
      "cell_type": "markdown",
      "id": "ecd45879",
      "metadata": {
        "id": "ecd45879"
      },
      "source": [
        "### Q: What is the difference between a class variable and an instance variable"
      ]
    },
    {
      "cell_type": "markdown",
      "id": "0836d109",
      "metadata": {
        "id": "0836d109"
      },
      "source": [
        "**Answer:**  \n",
        "- **Class variable**: shared by all instances (defined at class level).  \n",
        "- **Instance variable**: unique per object (usually set in `__init__`).\n",
        "\n",
        "Be careful not to mutate shared mutable class variables unexpectedly.\n"
      ]
    },
    {
      "cell_type": "code",
      "execution_count": null,
      "id": "850a113a",
      "metadata": {
        "id": "850a113a"
      },
      "outputs": [],
      "source": [
        "\n",
        "class Bag:\n",
        "    label = \"GENERIC\"        # class variable\n",
        "    def __init__(self, size):\n",
        "        self.size = size     # instance variable\n",
        "\n",
        "b1, b2 = Bag(10), Bag(20)\n",
        "(b1.label, b2.label, b1.size, b2.size)\n"
      ]
    },
    {
      "cell_type": "markdown",
      "id": "1c7de2f1",
      "metadata": {
        "id": "1c7de2f1"
      },
      "source": [
        "### Q: What is multiple inheritance in Python"
      ]
    },
    {
      "cell_type": "markdown",
      "id": "1ce003b5",
      "metadata": {
        "id": "1ce003b5"
      },
      "source": [
        "**Answer:**  \n",
        "**Multiple inheritance** lets a class inherit from multiple bases. Python uses **MRO (C3 linearization)** to resolve method lookup order.\n",
        "\n",
        "Prefer **mixins** and keep hierarchies simple to avoid the *diamond problem* pitfalls.\n"
      ]
    },
    {
      "cell_type": "code",
      "execution_count": null,
      "id": "1df42257",
      "metadata": {
        "id": "1df42257"
      },
      "outputs": [],
      "source": [
        "\n",
        "class Flyer:\n",
        "    def move(self): return \"flying\"\n",
        "class Swimmer:\n",
        "    def move(self): return \"swimming\"\n",
        "class Duck(Flyer, Swimmer):\n",
        "    pass\n",
        "\n",
        "Duck().move(), Duck.__mro__\n"
      ]
    },
    {
      "cell_type": "markdown",
      "id": "e1822d03",
      "metadata": {
        "id": "e1822d03"
      },
      "source": [
        "### Q: Explain the purpose of ‘__str__’ and ‘__repr__’ methods in Python"
      ]
    },
    {
      "cell_type": "markdown",
      "id": "14efedd3",
      "metadata": {
        "id": "14efedd3"
      },
      "source": [
        "**Answer:**  \n",
        "- `__repr__`: unambiguous, often a *developer-facing* representation; aim to be valid Python or detailed. Used by `repr()` and interactive consoles.\n",
        "- `__str__`: readable, *user-facing* string. Used by `print()`.\n",
        "If only `__repr__` is defined, Python may fall back to it for `str()`.\n"
      ]
    },
    {
      "cell_type": "code",
      "execution_count": null,
      "id": "97a0cee1",
      "metadata": {
        "id": "97a0cee1"
      },
      "outputs": [],
      "source": [
        "\n",
        "class Item:\n",
        "    def __init__(self, name, price):\n",
        "        self.name, self.price = name, price\n",
        "    def __repr__(self):\n",
        "        return f\"Item(name={self.name!r}, price={self.price!r})\"\n",
        "    def __str__(self):\n",
        "        return f\"{self.name} - ${self.price:.2f}\"\n",
        "\n",
        "repr(Item(\"Pen\", 1.5)), str(Item(\"Pen\", 1.5))\n"
      ]
    },
    {
      "cell_type": "markdown",
      "id": "204f6902",
      "metadata": {
        "id": "204f6902"
      },
      "source": [
        "### Q: What is the significance of the ‘super()’ function in Python"
      ]
    },
    {
      "cell_type": "markdown",
      "id": "ed3f9fd2",
      "metadata": {
        "id": "ed3f9fd2"
      },
      "source": [
        "**Answer:**  \n",
        "`super()` returns a proxy to delegate method calls to the next class in the **MRO**. It ensures correct cooperative multiple inheritance and avoids hard-coding parent names.\n"
      ]
    },
    {
      "cell_type": "code",
      "execution_count": null,
      "id": "cc43bbe5",
      "metadata": {
        "id": "cc43bbe5"
      },
      "outputs": [],
      "source": [
        "\n",
        "class A:\n",
        "    def greet(self): return \"A\"\n",
        "class B(A):\n",
        "    def greet(self):\n",
        "        return super().greet() + \" -> B\"\n",
        "class C(B):\n",
        "    def greet(self):\n",
        "        return super().greet() + \" -> C\"\n",
        "\n",
        "C().greet()\n"
      ]
    },
    {
      "cell_type": "markdown",
      "id": "a41cae77",
      "metadata": {
        "id": "a41cae77"
      },
      "source": [
        "### Q: What is the significance of the __del__ method in Python"
      ]
    },
    {
      "cell_type": "markdown",
      "id": "6d43d6e4",
      "metadata": {
        "id": "6d43d6e4"
      },
      "source": [
        "**Answer:**  \n",
        "`__del__` is a **finalizer** called when an object is about to be garbage-collected. Use sparingly: timing isn’t guaranteed, exceptions are ignored, and cycles can prevent calls. Prefer **context managers** (`with`) and `__enter__/__exit__` for resource management.\n"
      ]
    },
    {
      "cell_type": "code",
      "execution_count": null,
      "id": "0ddac7c6",
      "metadata": {
        "id": "0ddac7c6"
      },
      "outputs": [],
      "source": [
        "\n",
        "class FileHolder:\n",
        "    def __init__(self, path):\n",
        "        self.path = path\n",
        "        self.f = open(path, \"w\")\n",
        "    def __del__(self):\n",
        "        try:\n",
        "            self.f.close()\n",
        "        except Exception:\n",
        "            pass\n",
        "\n",
        "# Better: use context managers instead of relying on __del__\n"
      ]
    },
    {
      "cell_type": "markdown",
      "id": "6988a8b9",
      "metadata": {
        "id": "6988a8b9"
      },
      "source": [
        "### Q: What is the difference between @staticmethod and @classmethod in Python"
      ]
    },
    {
      "cell_type": "markdown",
      "id": "1bfc2dd2",
      "metadata": {
        "id": "1bfc2dd2"
      },
      "source": [
        "**Answer:**  \n",
        "- `@classmethod(cls, ...)` gets the **class**; good for alt constructors and class-level behavior.\n",
        "- `@staticmethod(...)` gets **no implicit first arg**; good for utility helpers colocated with the class.\n"
      ]
    },
    {
      "cell_type": "code",
      "execution_count": null,
      "id": "d195e98d",
      "metadata": {
        "id": "d195e98d"
      },
      "outputs": [],
      "source": [
        "\n",
        "class MathOps:\n",
        "    factor = 10\n",
        "    @classmethod\n",
        "    def scaled_sum(cls, a, b):\n",
        "        return cls.factor * (a + b)\n",
        "    @staticmethod\n",
        "    def diff(a, b):\n",
        "        return a - b\n",
        "\n",
        "MathOps.scaled_sum(2,3), MathOps.diff(9,4)\n"
      ]
    },
    {
      "cell_type": "markdown",
      "id": "431376ed",
      "metadata": {
        "id": "431376ed"
      },
      "source": [
        "### Q: How does polymorphism work in Python with inheritance"
      ]
    },
    {
      "cell_type": "markdown",
      "id": "10cfe710",
      "metadata": {
        "id": "10cfe710"
      },
      "source": [
        "**Answer:**  \n",
        "Through **dynamic dispatch**: method calls are resolved at runtime based on the object’s actual type. Subclasses override methods; base-type references can point to subclass objects, and the overridden method is invoked.\n"
      ]
    },
    {
      "cell_type": "code",
      "execution_count": null,
      "id": "1a940afa",
      "metadata": {
        "id": "1a940afa"
      },
      "outputs": [],
      "source": [
        "\n",
        "class Bird:\n",
        "    def fly(self): return \"Bird flying\"\n",
        "class Penguin(Bird):\n",
        "    def fly(self): return \"Penguins don't fly; they waddle!\"\n",
        "\n",
        "def takeoff(bird: Bird):\n",
        "    return bird.fly()\n",
        "\n",
        "takeoff(Bird()), takeoff(Penguin())\n"
      ]
    },
    {
      "cell_type": "markdown",
      "id": "67a72221",
      "metadata": {
        "id": "67a72221"
      },
      "source": [
        "### Q: What is method chaining in Python OOP"
      ]
    },
    {
      "cell_type": "markdown",
      "id": "5236140c",
      "metadata": {
        "id": "5236140c"
      },
      "source": [
        "**Answer:**  \n",
        "**Method chaining** returns `self` (or another object) from methods so calls can be **chained** in a single expression. Improves fluency for builder/DSL‑style APIs.\n"
      ]
    },
    {
      "cell_type": "code",
      "execution_count": null,
      "id": "0c4ca069",
      "metadata": {
        "id": "0c4ca069"
      },
      "outputs": [],
      "source": [
        "\n",
        "class Query:\n",
        "    def __init__(self):\n",
        "        self.filters = []\n",
        "    def where(self, cond):\n",
        "        self.filters.append(cond); return self\n",
        "    def limit(self, n):\n",
        "        self.n = n; return self\n",
        "    def build(self):\n",
        "        return {\"filters\": self.filters, \"limit\": getattr(self, \"n\", None)}\n",
        "\n",
        "Query().where(\"age>18\").where(\"country='IN'\").limit(10).build()\n"
      ]
    },
    {
      "cell_type": "markdown",
      "id": "0c7cdc74",
      "metadata": {
        "id": "0c7cdc74"
      },
      "source": [
        "### Q: What is the purpose of the __call__ method in Python?"
      ]
    },
    {
      "cell_type": "markdown",
      "id": "8fd8758d",
      "metadata": {
        "id": "8fd8758d"
      },
      "source": [
        "**Answer:**  \n",
        "`__call__` makes an object **callable like a function**. Useful for function objects, configurable processors, and stateful strategies.\n"
      ]
    },
    {
      "cell_type": "code",
      "execution_count": null,
      "id": "d1b3700a",
      "metadata": {
        "id": "d1b3700a"
      },
      "outputs": [],
      "source": [
        "\n",
        "class Multiplier:\n",
        "    def __init__(self, k): self.k = k\n",
        "    def __call__(self, x): return self.k * x\n",
        "\n",
        "times3 = Multiplier(3)\n",
        "times3(7)\n"
      ]
    },
    {
      "cell_type": "markdown",
      "source": [
        "# Practical Questions\n",
        "\n",
        "---\n",
        "\n"
      ],
      "metadata": {
        "id": "2vO6t9ODlZAH"
      },
      "id": "2vO6t9ODlZAH"
    },
    {
      "cell_type": "markdown",
      "id": "97e786b3",
      "metadata": {
        "id": "97e786b3"
      },
      "source": [
        "### Q: Create a parent class Animal with a method speak() that prints a generic message. Create a child class Dog that overrides the speak() method to print 'Bark!'."
      ]
    },
    {
      "cell_type": "code",
      "execution_count": null,
      "id": "63a0848c",
      "metadata": {
        "id": "63a0848c"
      },
      "outputs": [],
      "source": [
        "\n",
        "class Animal:\n",
        "    def speak(self):\n",
        "        print(\"Some generic animal sound\")\n",
        "\n",
        "class Dog(Animal):\n",
        "    def speak(self):\n",
        "        print(\"Bark!\")\n",
        "\n",
        "Animal().speak()\n",
        "Dog().speak()\n"
      ]
    },
    {
      "cell_type": "markdown",
      "id": "6e277207",
      "metadata": {
        "id": "6e277207"
      },
      "source": [
        "### Q: Write a program to create an abstract class Shape with a method area(). Derive classes Circle and Rectangle from it and implement the area() method in both."
      ]
    },
    {
      "cell_type": "code",
      "execution_count": null,
      "id": "3549956c",
      "metadata": {
        "id": "3549956c"
      },
      "outputs": [],
      "source": [
        "\n",
        "from abc import ABC, abstractmethod\n",
        "import math\n",
        "\n",
        "class Shape(ABC):\n",
        "    @abstractmethod\n",
        "    def area(self):\n",
        "        pass\n",
        "\n",
        "class Circle(Shape):\n",
        "    def __init__(self, radius):\n",
        "        self.radius = radius\n",
        "    def area(self):\n",
        "        return math.pi * self.radius ** 2\n",
        "\n",
        "class Rectangle(Shape):\n",
        "    def __init__(self, width, height):\n",
        "        self.width, self.height = width, height\n",
        "    def area(self):\n",
        "        return self.width * self.height\n",
        "\n",
        "Circle(3).area(), Rectangle(4, 5).area()\n"
      ]
    },
    {
      "cell_type": "markdown",
      "id": "99489549",
      "metadata": {
        "id": "99489549"
      },
      "source": [
        "### Q: Implement a multi-level inheritance scenario where a class Vehicle has an attribute type. Derive a class Car and further derive a class ElectricCar that adds a battery attribute."
      ]
    },
    {
      "cell_type": "code",
      "execution_count": null,
      "id": "20ad01a0",
      "metadata": {
        "id": "20ad01a0"
      },
      "outputs": [],
      "source": [
        "\n",
        "class Vehicle:\n",
        "    def __init__(self, type_):\n",
        "        self.type = type_\n",
        "\n",
        "class Car(Vehicle):\n",
        "    def __init__(self, brand):\n",
        "        super().__init__(type_=\"Car\")\n",
        "        self.brand = brand\n",
        "\n",
        "class ElectricCar(Car):\n",
        "    def __init__(self, brand, battery_kwh):\n",
        "        super().__init__(brand)\n",
        "        self.battery_kwh = battery_kwh\n",
        "\n",
        "ec = ElectricCar(\"Tesla\", 75)\n",
        "(ec.type, ec.brand, ec.battery_kwh)\n"
      ]
    },
    {
      "cell_type": "markdown",
      "id": "657a6755",
      "metadata": {
        "id": "657a6755"
      },
      "source": [
        "### Q: Demonstrate polymorphism by creating a base class Bird with a method fly(). Create two derived classes Sparrow and Penguin that override the fly() method."
      ]
    },
    {
      "cell_type": "code",
      "execution_count": null,
      "id": "673bed4c",
      "metadata": {
        "id": "673bed4c"
      },
      "outputs": [],
      "source": [
        "\n",
        "class Bird:\n",
        "    def fly(self):\n",
        "        return \"Bird flying...\"\n",
        "\n",
        "class Sparrow(Bird):\n",
        "    def fly(self):\n",
        "        return \"Sparrow flies swiftly!\"\n",
        "\n",
        "class Penguin(Bird):\n",
        "    def fly(self):\n",
        "        return \"Penguin cannot fly; it swims!\"\n",
        "\n",
        "[cls().fly() for cls in (Bird, Sparrow, Penguin)]\n"
      ]
    },
    {
      "cell_type": "markdown",
      "id": "5397ccac",
      "metadata": {
        "id": "5397ccac"
      },
      "source": [
        "### Q: Write a program to demonstrate encapsulation by creating a class BankAccount with private attributes balance and methods to deposit, withdraw, and check balance."
      ]
    },
    {
      "cell_type": "code",
      "execution_count": null,
      "id": "f08258cf",
      "metadata": {
        "id": "f08258cf"
      },
      "outputs": [],
      "source": [
        "\n",
        "class BankAccount:\n",
        "    def __init__(self, balance=0):\n",
        "        self.__balance = balance\n",
        "    def deposit(self, amount):\n",
        "        if amount <= 0: raise ValueError(\"amount must be positive\")\n",
        "        self.__balance += amount\n",
        "    def withdraw(self, amount):\n",
        "        if amount <= 0 or amount > self.__balance:\n",
        "            raise ValueError(\"invalid withdraw\")\n",
        "        self.__balance -= amount\n",
        "    def get_balance(self):\n",
        "        return self.__balance\n",
        "\n",
        "acct = BankAccount(1000)\n",
        "acct.deposit(250)\n",
        "acct.withdraw(300)\n",
        "acct.get_balance()\n"
      ]
    },
    {
      "cell_type": "markdown",
      "id": "16cf840c",
      "metadata": {
        "id": "16cf840c"
      },
      "source": [
        "### Q: Demonstrate runtime polymorphism using a method play() in a base class Instrument. Derive classes Guitar and Piano that implement their own version of play()."
      ]
    },
    {
      "cell_type": "code",
      "execution_count": null,
      "id": "52c891be",
      "metadata": {
        "id": "52c891be"
      },
      "outputs": [],
      "source": [
        "\n",
        "class Instrument:\n",
        "    def play(self):\n",
        "        return \"Instrument playing...\"\n",
        "\n",
        "class Guitar(Instrument):\n",
        "    def play(self):\n",
        "        return \"Strumming guitar chords\"\n",
        "\n",
        "class Piano(Instrument):\n",
        "    def play(self):\n",
        "        return \"Playing piano melody\"\n",
        "\n",
        "def concert(instrument: Instrument):\n",
        "    return instrument.play()\n",
        "\n",
        "concert(Guitar()), concert(Piano())\n"
      ]
    },
    {
      "cell_type": "markdown",
      "id": "51e0538d",
      "metadata": {
        "id": "51e0538d"
      },
      "source": [
        "### Q: Create a class MathOperations with a class method add_numbers() to add two numbers and a static method subtract_numbers() to subtract two numbers."
      ]
    },
    {
      "cell_type": "code",
      "execution_count": null,
      "id": "7cfbda4b",
      "metadata": {
        "id": "7cfbda4b"
      },
      "outputs": [],
      "source": [
        "\n",
        "class MathOperations:\n",
        "    @classmethod\n",
        "    def add_numbers(cls, a, b):\n",
        "        return a + b\n",
        "    @staticmethod\n",
        "    def subtract_numbers(a, b):\n",
        "        return a - b\n",
        "\n",
        "MathOperations.add_numbers(10, 7), MathOperations.subtract_numbers(10, 7)\n"
      ]
    },
    {
      "cell_type": "markdown",
      "id": "d4e3d81a",
      "metadata": {
        "id": "d4e3d81a"
      },
      "source": [
        "### Q: Implement a class Person with a class method to count the total number of persons created."
      ]
    },
    {
      "cell_type": "code",
      "execution_count": null,
      "id": "e236ac1e",
      "metadata": {
        "id": "e236ac1e"
      },
      "outputs": [],
      "source": [
        "\n",
        "class Person:\n",
        "    _count = 0\n",
        "    def __init__(self, name):\n",
        "        self.name = name\n",
        "        Person._count += 1\n",
        "    @classmethod\n",
        "    def count(cls):\n",
        "        return cls._count\n",
        "\n",
        "p1, p2, p3 = Person(\"A\"), Person(\"B\"), Person(\"C\")\n",
        "Person.count()\n"
      ]
    },
    {
      "cell_type": "markdown",
      "id": "85baf39a",
      "metadata": {
        "id": "85baf39a"
      },
      "source": [
        "### Q: Write a class Fraction with attributes numerator and denominator. Override the str method to display the fraction as 'numerator/denominator'."
      ]
    },
    {
      "cell_type": "code",
      "execution_count": null,
      "id": "4e553620",
      "metadata": {
        "id": "4e553620"
      },
      "outputs": [],
      "source": [
        "\n",
        "from math import gcd\n",
        "\n",
        "class Fraction:\n",
        "    def __init__(self, numerator, denominator):\n",
        "        if denominator == 0:\n",
        "            raise ZeroDivisionError(\"denominator cannot be zero\")\n",
        "        g = gcd(numerator, denominator)\n",
        "        self.numerator = numerator // g\n",
        "        self.denominator = denominator // g\n",
        "    def __str__(self):\n",
        "        return f\"{self.numerator}/{self.denominator}\"\n",
        "\n",
        "print(str(Fraction(6, 8)))\n"
      ]
    },
    {
      "cell_type": "markdown",
      "id": "7eb62dff",
      "metadata": {
        "id": "7eb62dff"
      },
      "source": [
        "### Q: Demonstrate operator overloading by creating a class Vector and overriding the add method to add two vectors."
      ]
    },
    {
      "cell_type": "code",
      "execution_count": null,
      "id": "4792afb1",
      "metadata": {
        "id": "4792afb1"
      },
      "outputs": [],
      "source": [
        "\n",
        "class Vector:\n",
        "    def __init__(self, *components):\n",
        "        self.components = tuple(components)\n",
        "    def __add__(self, other):\n",
        "        if len(self.components) != len(other.components):\n",
        "            raise ValueError(\"dimension mismatch\")\n",
        "        return Vector(*[a+b for a,b in zip(self.components, other.components)])\n",
        "    def __repr__(self):\n",
        "        return f\"Vector{self.components}\"\n",
        "\n",
        "Vector(1,2,3) + Vector(4,5,6)\n"
      ]
    },
    {
      "cell_type": "markdown",
      "id": "9db2d6f7",
      "metadata": {
        "id": "9db2d6f7"
      },
      "source": [
        "### Q: Create a class Person with attributes name and age. Add a method greet() that prints 'Hello, my name is {name} and I am {age} years old.'"
      ]
    },
    {
      "cell_type": "code",
      "execution_count": null,
      "id": "9f0c18ed",
      "metadata": {
        "id": "9f0c18ed"
      },
      "outputs": [],
      "source": [
        "\n",
        "class Person:\n",
        "    def __init__(self, name, age):\n",
        "        self.name, self.age = name, age\n",
        "    def greet(self):\n",
        "        print(f\"Hello, my name is {self.name} and I am {self.age} years old.\")\n",
        "\n",
        "Person(\"Ishita\", 29).greet()\n"
      ]
    },
    {
      "cell_type": "markdown",
      "id": "016696db",
      "metadata": {
        "id": "016696db"
      },
      "source": [
        "### Q: Implement a class Student with attributes name and grades. Create a method average_grade() to compute the average of the grades."
      ]
    },
    {
      "cell_type": "code",
      "execution_count": null,
      "id": "bee1a87e",
      "metadata": {
        "id": "bee1a87e"
      },
      "outputs": [],
      "source": [
        "\n",
        "class Student:\n",
        "    def __init__(self, name, grades):\n",
        "        self.name = name\n",
        "        self.grades = list(grades)\n",
        "    def average_grade(self):\n",
        "        return sum(self.grades)/len(self.grades) if self.grades else 0.0\n",
        "\n",
        "Student(\"Vikram\", [85, 90, 78]).average_grade()\n"
      ]
    },
    {
      "cell_type": "markdown",
      "id": "40d3b003",
      "metadata": {
        "id": "40d3b003"
      },
      "source": [
        "### Q: Create a class Rectangle with methods set_dimensions() to set the dimensions and area() to calculate the area."
      ]
    },
    {
      "cell_type": "code",
      "execution_count": null,
      "id": "ff3ae074",
      "metadata": {
        "id": "ff3ae074"
      },
      "outputs": [],
      "source": [
        "\n",
        "class Rectangle:\n",
        "    def __init__(self, width=0, height=0):\n",
        "        self.width, self.height = width, height\n",
        "    def set_dimensions(self, width, height):\n",
        "        self.width, self.height = width, height\n",
        "    def area(self):\n",
        "        return self.width * self.height\n",
        "\n",
        "r = Rectangle(); r.set_dimensions(7, 3); r.area()\n"
      ]
    },
    {
      "cell_type": "markdown",
      "id": "93191b3e",
      "metadata": {
        "id": "93191b3e"
      },
      "source": [
        "### Q: Create a class Employee with a method calculate_salary() that computes the salary based on hours worked and hourly rate. Create a derived class Manager that adds a bonus to the salary."
      ]
    },
    {
      "cell_type": "code",
      "execution_count": null,
      "id": "7ccf1dd0",
      "metadata": {
        "id": "7ccf1dd0"
      },
      "outputs": [],
      "source": [
        "\n",
        "class Employee:\n",
        "    def calculate_salary(self, hours_worked, hourly_rate):\n",
        "        return hours_worked * hourly_rate\n",
        "\n",
        "class Manager(Employee):\n",
        "    def calculate_salary(self, hours_worked, hourly_rate, bonus=0):\n",
        "        base = super().calculate_salary(hours_worked, hourly_rate)\n",
        "        return base + bonus\n",
        "\n",
        "Employee().calculate_salary(160, 25), Manager().calculate_salary(160, 25, bonus=2000)\n"
      ]
    },
    {
      "cell_type": "markdown",
      "id": "5a447395",
      "metadata": {
        "id": "5a447395"
      },
      "source": [
        "### Q: Create a class Product with attributes name, price, and quantity. Implement a method total_price() that calculates the total price of the product."
      ]
    },
    {
      "cell_type": "code",
      "execution_count": null,
      "id": "0352d1b3",
      "metadata": {
        "id": "0352d1b3"
      },
      "outputs": [],
      "source": [
        "\n",
        "class Product:\n",
        "    def __init__(self, name, price, quantity):\n",
        "        self.name, self.price, self.quantity = name, float(price), int(quantity)\n",
        "    def total_price(self):\n",
        "        return self.price * self.quantity\n",
        "\n",
        "Product(\"USB Cable\", 199.0, 3).total_price()\n"
      ]
    },
    {
      "cell_type": "markdown",
      "id": "fb47d608",
      "metadata": {
        "id": "fb47d608"
      },
      "source": [
        "### Q: Create a class Animal with an abstract method sound(). Create two derived classes Cow and Sheep that implement the sound() method."
      ]
    },
    {
      "cell_type": "code",
      "execution_count": null,
      "id": "cdbc9345",
      "metadata": {
        "id": "cdbc9345"
      },
      "outputs": [],
      "source": [
        "\n",
        "from abc import ABC, abstractmethod\n",
        "\n",
        "class Animal(ABC):\n",
        "    @abstractmethod\n",
        "    def sound(self): ...\n",
        "class Cow(Animal):\n",
        "    def sound(self): return \"Moo\"\n",
        "class Sheep(Animal):\n",
        "    def sound(self): return \"Baa\"\n",
        "\n",
        "Cow().sound(), Sheep().sound()\n"
      ]
    },
    {
      "cell_type": "markdown",
      "id": "052965ea",
      "metadata": {
        "id": "052965ea"
      },
      "source": [
        "### Q: Create a class Book with attributes title, author, and year_published. Add a method get_book_info() that returns a formatted string with the book's details."
      ]
    },
    {
      "cell_type": "code",
      "execution_count": null,
      "id": "4ab3e639",
      "metadata": {
        "id": "4ab3e639"
      },
      "outputs": [],
      "source": [
        "\n",
        "class Book:\n",
        "    def __init__(self, title, author, year_published):\n",
        "        self.title, self.author, self.year_published = title, author, int(year_published)\n",
        "    def get_book_info(self):\n",
        "        return f\"'{self.title}' by {self.author} ({self.year_published})\"\n",
        "\n",
        "Book(\"Clean Code\", \"Robert C. Martin\", 2008).get_book_info()\n"
      ]
    },
    {
      "cell_type": "markdown",
      "id": "43acd7ed",
      "metadata": {
        "id": "43acd7ed"
      },
      "source": [
        "### Q: Create a class House with attributes address and price. Create a derived class Mansion that adds an attribute number_of_rooms."
      ]
    },
    {
      "cell_type": "code",
      "execution_count": null,
      "id": "92d37410",
      "metadata": {
        "id": "92d37410"
      },
      "outputs": [],
      "source": [
        "\n",
        "class House:\n",
        "    def __init__(self, address, price):\n",
        "        self.address, self.price = address, float(price)\n",
        "class Mansion(House):\n",
        "    def __init__(self, address, price, number_of_rooms):\n",
        "        super().__init__(address, price)\n",
        "        self.number_of_rooms = int(number_of_rooms)\n",
        "\n",
        "m = Mansion(\"123 Palm Drive\", 5_000_000, 12)\n",
        "(m.address, m.price, m.number_of_rooms)\n"
      ]
    }
  ],
  "metadata": {
    "colab": {
      "provenance": []
    }
  },
  "nbformat": 4,
  "nbformat_minor": 5
}