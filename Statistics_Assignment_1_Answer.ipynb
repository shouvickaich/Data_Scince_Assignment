{
  "cells": [
    {
      "cell_type": "markdown",
      "id": "3c8f4176",
      "metadata": {
        "id": "3c8f4176"
      },
      "source": [
        "\n",
        "# Statistics Assignment – Q&A with Code Execution\n",
        "\n",
        "---\n",
        "\n",
        "\n",
        "\n"
      ]
    },
    {
      "cell_type": "markdown",
      "id": "8b15fd5a",
      "metadata": {
        "id": "8b15fd5a"
      },
      "source": [
        "\n",
        "## Question 1  \n",
        "**What is the difference between descriptive statistics and inferential statistics? Explain with examples?**  \n",
        "\n",
        "\n"
      ]
    },
    {
      "cell_type": "markdown",
      "source": [
        "**Answer:**  \n",
        "- **Descriptive Statistics:** Summarizes and describes the main features of a dataset.  \n",
        "  - Example: Calculating the mean, median, and standard deviation of students’ test scores.  \n",
        "- **Inferential Statistics:** Makes predictions or inferences about a population based on a sample.  \n",
        "  - Example: Conducting a hypothesis test to infer whether a new drug is effective based on a clinical trial sample."
      ],
      "metadata": {
        "id": "1qDfoxJaPdKG"
      },
      "id": "1qDfoxJaPdKG"
    },
    {
      "cell_type": "markdown",
      "id": "f30d6b0e",
      "metadata": {
        "id": "f30d6b0e"
      },
      "source": [
        "\n",
        "## Question 2  \n",
        "**What is sampling in statistics? Explain the differences between random and stratified sampling?**  \n",
        "\n"
      ]
    },
    {
      "cell_type": "markdown",
      "source": [
        "\n",
        "**Answer:**  \n",
        "- **Sampling:** The process of selecting a subset of individuals from a population to estimate characteristics of the whole population.  \n",
        "- **Random Sampling:** Every individual has an equal chance of being selected.  \n",
        "  - Example: Picking 100 students at random from a university.  \n",
        "- **Stratified Sampling:** The population is divided into strata (groups) and random samples are drawn from each group proportionally.  \n",
        "  - Example: Sampling 50 male and 50 female students separately to maintain gender balance.  "
      ],
      "metadata": {
        "id": "YdHZYPiyPnP7"
      },
      "id": "YdHZYPiyPnP7"
    },
    {
      "cell_type": "markdown",
      "id": "9c6f1bb1",
      "metadata": {
        "id": "9c6f1bb1"
      },
      "source": [
        "\n",
        "## Question 3  \n",
        "**Define mean, median, and mode. Explain why these measures of central tendency are important?**  \n",
        "\n"
      ]
    },
    {
      "cell_type": "markdown",
      "source": [
        "**Answer:**  \n",
        "- **Mean:** Arithmetic average of the data.  \n",
        "- **Median:** Middle value when the data is sorted.  \n",
        "- **Mode:** Most frequently occurring value.  \n",
        "- **Importance:** These measures summarize the dataset into a single central value, helping understand the \"typical\" case in the data.  \n"
      ],
      "metadata": {
        "id": "7EDO0Z8EPsKL"
      },
      "id": "7EDO0Z8EPsKL"
    },
    {
      "cell_type": "markdown",
      "id": "286d0883",
      "metadata": {
        "id": "286d0883"
      },
      "source": [
        "\n",
        "## Question 4  \n",
        "**Explain skewness and kurtosis. What does a positive skew imply about the data?**  \n",
        "\n",
        "\n"
      ]
    },
    {
      "cell_type": "markdown",
      "source": [
        "**Answer:**  \n",
        "- **Skewness:** Measures asymmetry in data distribution.  \n",
        "  - Positive skew → long right tail (mean > median).  \n",
        "  - Negative skew → long left tail (mean < median).  \n",
        "- **Kurtosis:** Measures \"tailedness\" or how heavy/light the tails are compared to a normal distribution.  \n",
        "- **Positive Skew Example:** Income distribution, where most people earn low/moderate income but a few earn extremely high values."
      ],
      "metadata": {
        "id": "cnrn4DKNPy7c"
      },
      "id": "cnrn4DKNPy7c"
    },
    {
      "cell_type": "markdown",
      "id": "1ec20fad",
      "metadata": {
        "id": "1ec20fad"
      },
      "source": [
        "\n",
        "## Question 5  \n",
        "**Implement a Python program to compute the mean, median, and mode of a given list of numbers.**  \n",
        "**numbers = [12, 15, 12, 18, 19, 12, 20, 22, 19, 19, 24, 24, 24, 26, 28]**\n"
      ]
    },
    {
      "cell_type": "code",
      "execution_count": 1,
      "id": "dc27e59a",
      "metadata": {
        "execution": {
          "iopub.execute_input": "2025-09-27T18:22:53.472972Z",
          "iopub.status.busy": "2025-09-27T18:22:53.472379Z",
          "iopub.status.idle": "2025-09-27T18:22:53.505897Z",
          "shell.execute_reply": "2025-09-27T18:22:53.504401Z"
        },
        "colab": {
          "base_uri": "https://localhost:8080/"
        },
        "id": "dc27e59a",
        "outputId": "bb2f620f-3764-43c3-97cd-76faad16ff15"
      },
      "outputs": [
        {
          "output_type": "stream",
          "name": "stdout",
          "text": [
            "Numbers: [12, 15, 12, 18, 19, 12, 20, 22, 19, 19, 24, 24, 24, 26, 28]\n",
            "Mean: 19.6\n",
            "Median: 19\n",
            "Mode: 12\n"
          ]
        }
      ],
      "source": [
        "\n",
        "import statistics\n",
        "\n",
        "numbers = [12, 15, 12, 18, 19, 12, 20, 22, 19, 19, 24, 24, 24, 26, 28]\n",
        "\n",
        "mean_val = statistics.mean(numbers)\n",
        "median_val = statistics.median(numbers)\n",
        "mode_val = statistics.mode(numbers)\n",
        "\n",
        "print(\"Numbers:\", numbers)\n",
        "print(\"Mean:\", mean_val)\n",
        "print(\"Median:\", median_val)\n",
        "print(\"Mode:\", mode_val)\n"
      ]
    },
    {
      "cell_type": "markdown",
      "id": "54788676",
      "metadata": {
        "id": "54788676"
      },
      "source": [
        "\n",
        "## Question 6  \n",
        "**Compute the covariance and correlation coefficient between the following two datasets.**  \n",
        "\n",
        "**list_x = [10, 20, 30, 40, 50]**\n",
        "\n",
        "**list_y = [15, 25, 35, 45, 60]**\n"
      ]
    },
    {
      "cell_type": "code",
      "execution_count": 2,
      "id": "d8963874",
      "metadata": {
        "execution": {
          "iopub.execute_input": "2025-09-27T18:22:53.534840Z",
          "iopub.status.busy": "2025-09-27T18:22:53.534265Z",
          "iopub.status.idle": "2025-09-27T18:22:54.261341Z",
          "shell.execute_reply": "2025-09-27T18:22:54.260276Z"
        },
        "colab": {
          "base_uri": "https://localhost:8080/"
        },
        "id": "d8963874",
        "outputId": "05364b2f-4744-4e7a-c1d2-38fe43715bcd"
      },
      "outputs": [
        {
          "output_type": "stream",
          "name": "stdout",
          "text": [
            "List X: [10, 20, 30, 40, 50]\n",
            "List Y: [15, 25, 35, 45, 60]\n",
            "Covariance: 275.0\n",
            "Correlation Coefficient: 0.995893206467704\n"
          ]
        }
      ],
      "source": [
        "\n",
        "import numpy as np\n",
        "\n",
        "list_x = [10, 20, 30, 40, 50]\n",
        "list_y = [15, 25, 35, 45, 60]\n",
        "\n",
        "cov_matrix = np.cov(list_x, list_y, bias=False)\n",
        "covariance = cov_matrix[0,1]\n",
        "correlation = np.corrcoef(list_x, list_y)[0,1]\n",
        "\n",
        "print(\"List X:\", list_x)\n",
        "print(\"List Y:\", list_y)\n",
        "print(\"Covariance:\", covariance)\n",
        "print(\"Correlation Coefficient:\", correlation)\n"
      ]
    },
    {
      "cell_type": "markdown",
      "id": "e495996e",
      "metadata": {
        "id": "e495996e"
      },
      "source": [
        "\n",
        "## Question 7  \n",
        "**Write a Python script to draw a boxplot for the given list and identify its outliers. Explain the result.**  \n",
        "**data = [12, 14, 14, 15, 18, 19, 19, 21, 22, 22, 23, 23, 24, 26, 29, 35]**\n"
      ]
    },
    {
      "cell_type": "code",
      "execution_count": 3,
      "id": "a2629c40",
      "metadata": {
        "execution": {
          "iopub.execute_input": "2025-09-27T18:22:54.268160Z",
          "iopub.status.busy": "2025-09-27T18:22:54.267586Z",
          "iopub.status.idle": "2025-09-27T18:22:57.729622Z",
          "shell.execute_reply": "2025-09-27T18:22:57.727437Z"
        },
        "colab": {
          "base_uri": "https://localhost:8080/",
          "height": 452
        },
        "id": "a2629c40",
        "outputId": "5ce2d352-ce3f-43a0-fd82-2e452e40035f"
      },
      "outputs": [
        {
          "output_type": "display_data",
          "data": {
            "text/plain": [
              "<Figure size 640x480 with 1 Axes>"
            ],
            "image/png": "[encoded data removed]"
          },
          "metadata": {}
        }
      ],
      "source": [
        "\n",
        "import matplotlib.pyplot as plt\n",
        "\n",
        "data = [12, 14, 14, 15, 18, 19, 19, 21, 22, 22, 23, 23, 24, 26, 29, 35]\n",
        "\n",
        "plt.boxplot(data)\n",
        "plt.title(\"Boxplot of Data\")\n",
        "plt.ylabel(\"Values\")\n",
        "plt.show()\n"
      ]
    },
    {
      "cell_type": "markdown",
      "id": "f92fe824",
      "metadata": {
        "id": "f92fe824"
      },
      "source": [
        "\n",
        "**Explanation:**  \n",
        "- The boxplot shows the median, quartiles, and potential outliers (points beyond 1.5×IQR).  \n",
        "- In this dataset, `35` may be identified as an outlier since it lies far from the rest of the values.  \n"
      ]
    },
    {
      "cell_type": "markdown",
      "id": "8c3ebec7",
      "metadata": {
        "id": "8c3ebec7"
      },
      "source": [
        "\n",
        "## Question 8  \n",
        "**You are working as a data analyst in an e-commerce company. The marketing team wants to know if there is a relationship between advertising spend and daily sales.**\n",
        "\n",
        "● **Explain how you would use covariance and correlation to explore this relationship.**\n",
        "\n",
        "● **Write Python code to compute the correlation between the two lists:**\n",
        "\n",
        "**advertising_spend = [200, 250, 300, 400, 500]**\n",
        "\n",
        "**daily_sales = [2200, 2450, 2750, 3200, 4000]**\n"
      ]
    },
    {
      "cell_type": "code",
      "execution_count": 4,
      "id": "bd680013",
      "metadata": {
        "execution": {
          "iopub.execute_input": "2025-09-27T18:22:57.737457Z",
          "iopub.status.busy": "2025-09-27T18:22:57.736587Z",
          "iopub.status.idle": "2025-09-27T18:22:57.747719Z",
          "shell.execute_reply": "2025-09-27T18:22:57.745581Z"
        },
        "colab": {
          "base_uri": "https://localhost:8080/"
        },
        "id": "bd680013",
        "outputId": "7c62e47d-38b9-440c-b5ee-ea6ce0463065"
      },
      "outputs": [
        {
          "output_type": "stream",
          "name": "stdout",
          "text": [
            "Advertising Spend: [200, 250, 300, 400, 500]\n",
            "Daily Sales: [2200, 2450, 2750, 3200, 4000]\n",
            "Correlation Coefficient: 0.9935824101653329\n"
          ]
        }
      ],
      "source": [
        "\n",
        "advertising_spend = [200, 250, 300, 400, 500]\n",
        "daily_sales = [2200, 2450, 2750, 3200, 4000]\n",
        "\n",
        "correlation = np.corrcoef(advertising_spend, daily_sales)[0,1]\n",
        "\n",
        "print(\"Advertising Spend:\", advertising_spend)\n",
        "print(\"Daily Sales:\", daily_sales)\n",
        "print(\"Correlation Coefficient:\", correlation)\n"
      ]
    },
    {
      "cell_type": "markdown",
      "id": "84bfa4e8",
      "metadata": {
        "id": "84bfa4e8"
      },
      "source": [
        "\n",
        "## Question 9  \n",
        "**Your team has collected customer satisfaction survey data on a scale of 1-10 and wants to understand its distribution before launching a new product.**\n",
        "\n",
        "● **Explain which summary statistics and visualizations (e.g. mean, standard deviation, histogram) you’d use.**\n",
        "\n",
        "● **Write Python code to create a histogram using Matplotlib for the survey data:**\n",
        "\n",
        "**survey_scores = [7, 8, 5, 9, 6, 7, 8, 9, 10, 4, 7, 6, 9, 8, 7]**\n"
      ]
    },
    {
      "cell_type": "code",
      "execution_count": 5,
      "id": "ec31dfbe",
      "metadata": {
        "execution": {
          "iopub.execute_input": "2025-09-27T18:22:57.752926Z",
          "iopub.status.busy": "2025-09-27T18:22:57.752431Z",
          "iopub.status.idle": "2025-09-27T18:22:58.544514Z",
          "shell.execute_reply": "2025-09-27T18:22:58.542663Z"
        },
        "colab": {
          "base_uri": "https://localhost:8080/",
          "height": 541
        },
        "id": "ec31dfbe",
        "outputId": "eda4f436-d874-4e9f-afc4-fae8b36fc9bd"
      },
      "outputs": [
        {
          "output_type": "stream",
          "name": "stdout",
          "text": [
            "Survey Scores: [7, 8, 5, 9, 6, 7, 8, 9, 10, 4, 7, 6, 9, 8, 7]\n",
            "Mean: 7.333333333333333\n",
            "Median: 7\n",
            "Standard Deviation: 1.5776212754932308\n"
          ]
        },
        {
          "output_type": "display_data",
          "data": {
            "text/plain": [
              "<Figure size 640x480 with 1 Axes>"
            ],
            "image/png": "[encoded data removed]"
          },
          "metadata": {}
        }
      ],
      "source": [
        "\n",
        "survey_scores = [7, 8, 5, 9, 6, 7, 8, 9, 10, 4, 7, 6, 9, 8, 7]\n",
        "\n",
        "mean_score = statistics.mean(survey_scores)\n",
        "median_score = statistics.median(survey_scores)\n",
        "std_dev = statistics.pstdev(survey_scores)\n",
        "\n",
        "print(\"Survey Scores:\", survey_scores)\n",
        "print(\"Mean:\", mean_score)\n",
        "print(\"Median:\", median_score)\n",
        "print(\"Standard Deviation:\", std_dev)\n",
        "\n",
        "plt.hist(survey_scores, bins=6, color=\"skyblue\", edgecolor=\"black\")\n",
        "plt.title(\"Histogram of Survey Scores\")\n",
        "plt.xlabel(\"Scores\")\n",
        "plt.ylabel(\"Frequency\")\n",
        "plt.show()\n"
      ]
    }
  ],
  "metadata": {
    "language_info": {
      "name": "python"
    },
    "colab": {
      "provenance": []
    },
    "kernelspec": {
      "name": "python3",
      "display_name": "Python 3"
    }
  },
  "nbformat": 4,
  "nbformat_minor": 5
}