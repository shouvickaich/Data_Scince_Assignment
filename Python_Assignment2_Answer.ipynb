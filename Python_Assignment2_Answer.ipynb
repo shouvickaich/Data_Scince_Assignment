{
  "nbformat": 4,
  "nbformat_minor": 0,
  "metadata": {
    "colab": {
      "provenance": []
    },
    "kernelspec": {
      "name": "python3",
      "display_name": "Python 3"
    },
    "language_info": {
      "name": "python"
    }
  },
  "cells": [
    {
      "cell_type": "markdown",
      "source": [
        "# Data Types and Structures Questions\n",
        "\n",
        "---\n",
        "\n"
      ],
      "metadata": {
        "id": "XCd3uwL9DQYG"
      }
    },
    {
      "cell_type": "markdown",
      "source": [
        "1.  What are data structures, and why are they important3 ?\n",
        "    - Data structures are ways to organize and store data in a computer so that it can be accessed and modified efficiently. They are important because they enable efficient data management, retrieval, and manipulation, which is crucial for writing optimized and scalable programs."
      ],
      "metadata": {
        "id": "goJ8HO40DXbA"
      }
    },
    {
      "cell_type": "markdown",
      "source": [
        "2. Explain the difference between mutable and immutable data types with examples?\n",
        "\n",
        "   - Mutable: Data types that can be changed after creation. Example: Lists, dictionaries, sets.\n",
        "\n",
        "    Immutable: Data types that cannot be changed after creation. Example: Strings, tuples, integers."
      ],
      "metadata": {
        "id": "Dzjq3HIeDnJm"
      }
    },
    {
      "cell_type": "markdown",
      "source": [
        "3. What are the main differences between lists and tuples in Python?\n",
        "\n",
        "   - Lists are mutable, while tuples are immutable.\n",
        "\n",
        "     Lists use square brackets [ ], while tuples use parentheses ()."
      ],
      "metadata": {
        "id": "3jvyICEtD0rq"
      }
    },
    {
      "cell_type": "markdown",
      "source": [
        "4. Describe how dictionaries store data?\n",
        "   - Dictionaries store data as key-value pairs, where each key is unique and maps to a specific value."
      ],
      "metadata": {
        "id": "VraP3ki8EC5i"
      }
    },
    {
      "cell_type": "markdown",
      "source": [
        "5. Why might you use a set instead of a list in Python3?\n",
        "   - Sets are used when you need to store unique elements and perform operations like union, intersection, or difference.\n",
        "   "
      ],
      "metadata": {
        "id": "FAL-7A0MEMOi"
      }
    },
    {
      "cell_type": "markdown",
      "source": [
        "6. What is a string in Python, and how is it different from a list?\n",
        "   - A string is a sequence of characters and is immutable. A list is a sequence of elements of any type and is mutable."
      ],
      "metadata": {
        "id": "zzGWD2SKEY26"
      }
    },
    {
      "cell_type": "markdown",
      "source": [
        "7. How do tuples ensure data integrity in Python?\n",
        "   - Tuples are immutable, so their elements cannot be changed after creation, ensuring data integrity."
      ],
      "metadata": {
        "id": "PBDAhDlBEfMq"
      }
    },
    {
      "cell_type": "markdown",
      "source": [
        "8. What is a hash table, and how does it relate to dictionaries in Python?\n",
        "   - A hash table is a data structure that maps keys to values using a hash function. Python dictionaries are implemented using hash tables."
      ],
      "metadata": {
        "id": "7jaKChakEl_i"
      }
    },
    {
      "cell_type": "markdown",
      "source": [
        "9. Can lists contain different data types in Python?\n",
        "   - Yes, lists can contain elements of different data types."
      ],
      "metadata": {
        "id": "OItdiZkXEvTG"
      }
    },
    {
      "cell_type": "markdown",
      "source": [
        "10. Explain why strings are immutable in Python?\n",
        "   - Strings are immutable to ensure security, efficiency (e.g., for hashing), and thread safety."
      ],
      "metadata": {
        "id": "JoyfEqJTE0nb"
      }
    },
    {
      "cell_type": "markdown",
      "source": [
        "11. What advantages do dictionaries offer over lists for certain tasks?\n",
        "   - Dictionaries allow for faster lookups (O(1) time complexity) using keys, whereas lists require O(n) time for searching."
      ],
      "metadata": {
        "id": "0W1cGX9UE7Vd"
      }
    },
    {
      "cell_type": "markdown",
      "source": [
        "12. Describe a scenario where using a tuple would be preferable over a list?\n",
        "   - When storing data that should not be modified, such as coordinates (x, y) or days of the week."
      ],
      "metadata": {
        "id": "lDvJkYgZFAOe"
      }
    },
    {
      "cell_type": "markdown",
      "source": [
        "13. How do sets handle duplicate values in Python?\n",
        "   - Sets automatically remove duplicate values, storing only unique elements."
      ],
      "metadata": {
        "id": "bcRWyoF_FFEJ"
      }
    },
    {
      "cell_type": "markdown",
      "source": [
        "14. How does the “in” keyword work differently for lists and dictionaries?\n",
        "\n",
        "  - For lists, in checks for the presence of a value (O(n) time).\n",
        "\n",
        "   - For dictionaries, in checks for the presence of a key (O(1) time)."
      ],
      "metadata": {
        "id": "keR2zbFzFRvt"
      }
    },
    {
      "cell_type": "markdown",
      "source": [
        "15. Can you modify the elements of a tuple? Explain why or why not?\n",
        "   - No, tuples are immutable, so their elements cannot be modified after creation."
      ],
      "metadata": {
        "id": "ab8s1AvRFcx5"
      }
    },
    {
      "cell_type": "markdown",
      "source": [
        "16. What is a nested dictionary, and give an example of its use case?\n",
        "   - A nested dictionary is a dictionary that contains other dictionaries. Example:\n",
        "\n",
        "   \n",
        "\n",
        "```\n",
        "students = {\n",
        "    \"Alice\": {\"age\": 20, \"grade\": \"A\"},\n",
        "    \"Bob\": {\"age\": 22, \"grade\": \"B\"}\n",
        "}\n",
        "```\n",
        "\n"
      ],
      "metadata": {
        "id": "areoN3hUFlYl"
      }
    },
    {
      "cell_type": "markdown",
      "source": [
        "17. Describe the time complexity of accessing elements in a dictionary?\n",
        "   - Accessing elements in a dictionary has an average time complexity of O(1)."
      ],
      "metadata": {
        "id": "V8tJimPMF2St"
      }
    },
    {
      "cell_type": "markdown",
      "source": [
        "18. In what situations are lists preferred over dictionaries?\n",
        "   - Lists are preferred when the order of elements matters, or when you need to store a sequence of items that may contain duplicates."
      ],
      "metadata": {
        "id": "GzRu2oMwF_Ns"
      }
    },
    {
      "cell_type": "markdown",
      "source": [
        "19. Why are dictionaries considered unordered, and how does that affect data retrieval?\n",
        "   - Dictionaries were unordered in Python versions before 3.7. In Python 3.7+, they preserve insertion order, but the primary focus is still on key-based access."
      ],
      "metadata": {
        "id": "fSZJLaPEGF-5"
      }
    },
    {
      "cell_type": "markdown",
      "source": [
        "20. Explain the difference between a list and a dictionary in terms of data retrieval?\n",
        "   - Lists retrieve data by index (position), while dictionaries retrieve data by keys."
      ],
      "metadata": {
        "id": "f8h5hCIJGJ9U"
      }
    },
    {
      "cell_type": "markdown",
      "source": [
        "# Practical Questions\n",
        "\n",
        "---\n"
      ],
      "metadata": {
        "id": "7Rdo9vwjGSyv"
      }
    },
    {
      "cell_type": "markdown",
      "source": [
        "1. Write a code to create a string with your name and print itP?\n",
        "   -\n",
        "\n",
        "```\n",
        "name = \"Shouvick Aich\"\n",
        "print(name)\n",
        "```\n",
        "Output:- Shouvick Aich\n",
        "\n",
        "\n"
      ],
      "metadata": {
        "id": "oPkHctRvGsVp"
      }
    },
    {
      "cell_type": "markdown",
      "source": [
        "2. Write a code to find the length of the string \"Hello World\"?\n",
        "   -\n",
        "\n",
        "```\n",
        "print(len(\"Hello World\"))\n",
        "```\n",
        "output:- 11\n"
      ],
      "metadata": {
        "id": "1dduzYSrIzIO"
      }
    },
    {
      "cell_type": "markdown",
      "source": [
        "3. Write a code to slice the first 3 characters from the string \"Python Programming\"?\n",
        "   -\n",
        "\n",
        "```\n",
        "s = \"Python Programming\"\n",
        "print(s[:3])\n",
        "```\n",
        "Output:- Pyt\n"
      ],
      "metadata": {
        "id": "sgyXEZ5iJB1O"
      }
    },
    {
      "cell_type": "markdown",
      "source": [
        "4. Write a code to convert the string \"hello\" to uppercase?\n",
        "   -\n",
        "\n",
        "```\n",
        "print(\"hello\".upper())\n",
        "```\n",
        "Output:- HELLO\n"
      ],
      "metadata": {
        "id": "wcOXejLTJbdt"
      }
    },
    {
      "cell_type": "markdown",
      "source": [
        "5. Write a code to replace the word \"apple\" with \"orange\" in the string \"I like apple\"?\n",
        "   -\n",
        "\n",
        "```\n",
        "s = \"I like apple\"\n",
        "print(s.replace(\"apple\", \"orange\"))\n",
        "```\n",
        "oUTPUT:- I like orange\n"
      ],
      "metadata": {
        "id": "dhoB6dJ8JpnE"
      }
    },
    {
      "cell_type": "markdown",
      "source": [
        "6. Write a code to create a list with numbers 1 to 5 and print it?\n",
        "   -\n",
        "\n",
        "```\n",
        "numbers = [1, 2, 3, 4, 5]\n",
        "print(numbers)\n",
        "```\n",
        "Output:-  [1, 2, 3, 4, 5]\n",
        "\n"
      ],
      "metadata": {
        "id": "qlAaT5VyJ7U-"
      }
    },
    {
      "cell_type": "markdown",
      "source": [
        "7. Write a code to append the number 10 to the list [1, 2, 3, 4]?\n",
        "   -\n",
        "\n",
        "```\n",
        "lst = [1, 2, 3, 4]\n",
        "lst.append(10)\n",
        "print(lst)\n",
        "```\n",
        "Output:-[1, 2, 3, 4, 10]\n"
      ],
      "metadata": {
        "id": "Y0NSEFAWKP7J"
      }
    },
    {
      "cell_type": "markdown",
      "source": [
        "8. Write a code to remove the number 3 from the list [1, 2, 3, 4, 5]?\n",
        "   -\n",
        "\n",
        "```\n",
        "lst = [1, 2, 3, 4, 5]\n",
        "lst.remove(3)\n",
        "print(lst)\n",
        "```\n",
        "Output:- [1, 2, 4, 5]\n"
      ],
      "metadata": {
        "id": "-y_afckVKk5v"
      }
    },
    {
      "cell_type": "markdown",
      "source": [
        "9. Write a code to access the second element in the list ['a', 'b', 'c', 'd']?\n",
        "   -\n",
        "\n",
        "```\n",
        "lst = ['a', 'b', 'c', 'd']\n",
        "print(lst[1])\n",
        "```\n",
        "Output:- b\n"
      ],
      "metadata": {
        "id": "uRMHSXzkKyIV"
      }
    },
    {
      "cell_type": "markdown",
      "source": [
        "10. Write a code to reverse the list [10, 20, 30, 40, 50]?\n",
        "   -\n",
        "\n",
        "```\n",
        "lst = [10, 20, 30, 40, 50]\n",
        "lst.reverse()\n",
        "print(lst)\n",
        "```\n",
        "Output:- [50, 40, 30, 20, 10]\n"
      ],
      "metadata": {
        "id": "3ktwb6AXLLtv"
      }
    },
    {
      "cell_type": "markdown",
      "source": [
        "11. Write a code to create a tuple with the elements 100, 200, 300 and print it?\n",
        "   -\n",
        "\n",
        "```\n",
        "t = (100, 200, 300)\n",
        "print(t)\n",
        "```\n",
        "Output:- (100, 200, 300)\n"
      ],
      "metadata": {
        "id": "7Fjt41hALgSs"
      }
    },
    {
      "cell_type": "markdown",
      "source": [
        "12. Write a code to access the second-to-last element of the tuple ('red', 'green', 'blue', 'yellow')?\n",
        "   -\n",
        "\n",
        "```\n",
        "t = ('red', 'green', 'blue', 'yellow')\n",
        "print(t[-2])\n",
        "```\n",
        "Output:- blue\n"
      ],
      "metadata": {
        "id": "5wAuQZ0bLygA"
      }
    },
    {
      "cell_type": "markdown",
      "source": [
        "13.  Write a code to find the minimum number in the tuple (10, 20, 5, 15)?\n",
        "   -\n",
        "\n",
        "```\n",
        "t = (10, 20, 5, 15)\n",
        "print(min(t))\n",
        "```\n",
        "Output:- 5\n"
      ],
      "metadata": {
        "id": "D_zb5qpYMJLI"
      }
    },
    {
      "cell_type": "markdown",
      "source": [
        "14. Write a code to find the index of the element \"cat\" in the tuple ('dog', 'cat', 'rabbit')?\n",
        "   -\n",
        "\n",
        "```\n",
        "t = ('dog', 'cat', 'rabbit')\n",
        "print(t.index(\"cat\"))\n",
        "```\n",
        "Output:- 1\n"
      ],
      "metadata": {
        "id": "DOjJiZaoMWx8"
      }
    },
    {
      "cell_type": "markdown",
      "source": [
        "15. Write a code to create a tuple containing three different fruits and check if \"kiwi\" is in it?\n",
        "   -\n",
        "\n",
        "```\n",
        "fruits = ('apple', 'banana', 'orange')\n",
        "print(\"kiwi\" in fruits)\n",
        "```\n",
        "Output:- False\n"
      ],
      "metadata": {
        "id": "DdmPj4UyMqON"
      }
    },
    {
      "cell_type": "markdown",
      "source": [
        "16. Write a code to create a set with the elements 'a', 'b', 'c' and print it?\n",
        "   -\n",
        "\n",
        "```\n",
        "s = {'a', 'b', 'c'}\n",
        "print(s)\n",
        "```\n",
        "Output:- {'a', 'b', 'c'}\n"
      ],
      "metadata": {
        "id": "bK1-sp4mM2Yi"
      }
    },
    {
      "cell_type": "markdown",
      "source": [
        "17. Write a code to clear all elements from the set {1, 2, 3, 4, 5}?\n",
        "   -\n",
        "\n",
        "```\n",
        "s = {1, 2, 3, 4, 5}\n",
        "s.clear()\n",
        "print(s)\n",
        "```\n",
        "Output:- set()\n"
      ],
      "metadata": {
        "id": "CpyGWRNuNEeu"
      }
    },
    {
      "cell_type": "markdown",
      "source": [
        "18. Write a code to remove the element 4 from the set {1, 2, 3, 4}?\n",
        "   -\n",
        "\n",
        "```\n",
        "s = {1, 2, 3, 4}\n",
        "s.remove(4)\n",
        "print(s)\n",
        "```\n",
        "Output:- {1, 2, 3}\n"
      ],
      "metadata": {
        "id": "1QCGsHNYNdcC"
      }
    },
    {
      "cell_type": "markdown",
      "source": [
        "19. Write a code to find the union of two sets {1, 2, 3} and {3, 4, 5}?\n",
        "   -\n",
        "\n",
        "```\n",
        "s1 = {1, 2, 3}\n",
        "s2 = {3, 4, 5}\n",
        "print(s1.union(s2))\n",
        "```\n",
        "Output:- {1, 2, 3, 4, 5}\n"
      ],
      "metadata": {
        "id": "nxbH65mlNtvF"
      }
    },
    {
      "cell_type": "markdown",
      "source": [
        "20.  Write a code to find the intersection of two sets {1, 2, 3} and {2, 3, 4}?\n",
        "   -\n",
        "\n",
        "```\n",
        "s1 = {1, 2, 3}\n",
        "s2 = {2, 3, 4}\n",
        "print(s1.intersection(s2))\n",
        "```\n",
        "Output:- {2, 3}\n"
      ],
      "metadata": {
        "id": "zCR46-ZuN3fO"
      }
    },
    {
      "cell_type": "markdown",
      "source": [
        "21. Write a code to create a dictionary with the keys \"name\", \"age\", and \"city\", and print it ?\n",
        "   -\n",
        "\n",
        "```\n",
        "d = {\"name\": \"Shouvick\", \"age\": 35, \"city\": \"New Delhi\"}\n",
        "print(d)\n",
        "```\n",
        "Output:- {'name': 'Shouvick', 'age': 35, 'city': 'New Delhi'}\n"
      ],
      "metadata": {
        "id": "R3e3ZLgvOJbk"
      }
    },
    {
      "cell_type": "markdown",
      "source": [
        "22. Write a code to add a new key-value pair \"country\": \"USA\" to the dictionary {'name': 'John', 'age': 25} ?\n",
        "   -\n",
        "\n",
        "```\n",
        "d = {'name': 'John', 'age': '25'}\n",
        "d[\"country\"] = \"USA\"\n",
        "print(d)\n",
        "```\n",
        "Output:- {'name': 'John', 'age': '25', 'country': 'USA'}\n"
      ],
      "metadata": {
        "id": "_m82cLrQOvuo"
      }
    },
    {
      "cell_type": "markdown",
      "source": [
        "23. Write a code to access the value associated with the key \"name\" in the dictionary {'name': 'Alice', 'age': 30}?\n",
        "   -\n",
        "\n",
        "```\n",
        "d = {'name': 'Alice', 'age': '30'}\n",
        "print(d[\"name\"])\n",
        "```\n",
        "Output:- Alice\n"
      ],
      "metadata": {
        "id": "XDb-pQnEPDor"
      }
    },
    {
      "cell_type": "markdown",
      "source": [
        "24. Write a code to remove the key \"age\" from the dictionary {'name': 'Bob', 'age': 22, 'city': 'New York'}?\n",
        "   -\n",
        "\n",
        "```\n",
        "d = {'name': 'Bob', 'age': '22', 'city': 'New York'}\n",
        "del d[\"age\"]\n",
        "print(d)\n",
        "```\n",
        "Output:- {'name': 'Bob', 'city': 'New York'}\n"
      ],
      "metadata": {
        "id": "LOZaKOZTPQRY"
      }
    },
    {
      "cell_type": "markdown",
      "source": [
        "25.  Write a code to check if the key \"city\" exists in the dictionary {'name': 'Alice', 'city': 'Paris'}?\n",
        "   -\n",
        "\n",
        "```\n",
        "d = {'name': 'Alice', 'city': 'Paris'}\n",
        "print(\"city\" in d)\n",
        "```\n",
        "Output:- True\n"
      ],
      "metadata": {
        "id": "pM5C_CRgPgRE"
      }
    },
    {
      "cell_type": "markdown",
      "source": [
        "26. Write a code to create a list, a tuple, and a dictionary, and print them all ?\n",
        "   -\n",
        "\n",
        "```\n",
        "lst = [1, 2, 3]\n",
        "t = (4, 5, 6)\n",
        "d = {\"a\": 1, \"b\": 2}\n",
        "print(lst, t, d)\n",
        "```\n",
        "Output:- [1, 2, 3] (4, 5, 6) {'a': 1, 'b': 2}\n"
      ],
      "metadata": {
        "id": "TsmeMxf0PtSu"
      }
    },
    {
      "cell_type": "markdown",
      "source": [
        "27.  Write a code to create a list of 5 random numbers between 1 and 100, sort it in ascending order, and print the\n",
        "result.(replaced) ?\n",
        "   -\n",
        "\n",
        "```\n",
        "import random\n",
        "numbers = [random.randint(1, 100) for _ in range(5)]\n",
        "numbers.sort()\n",
        "print(numbers)\n",
        "```\n",
        "Output:- [1, 16, 33, 78, 91]\n"
      ],
      "metadata": {
        "id": "g2gjg_vkP-oP"
      }
    },
    {
      "cell_type": "markdown",
      "source": [
        "28. Write a code to create a list with strings and print the element at the third index?\n",
        "   -\n",
        "\n",
        "```\n",
        "lst = [\"apple\", \"banana\", \"cherry\", \"date\"]\n",
        "print(lst[2])  # Third index is 2 (0-based)\n",
        "```\n",
        "Output:- cherry\n"
      ],
      "metadata": {
        "id": "Bm3z-fXnQJWV"
      }
    },
    {
      "cell_type": "markdown",
      "source": [
        "29. Write a code to combine two dictionaries into one and print the result?\n",
        "   -\n",
        "\n",
        "```\n",
        "d1 = {'a': 1, 'b': 2}\n",
        "d2 = {'c': 3, 'd': 4}\n",
        "combined = {**d1, **d2}\n",
        "print(combined)\n",
        "```\n",
        "Output:- {'a': 1, 'b': 2, 'c': 3, 'd': 4}\n"
      ],
      "metadata": {
        "id": "0wu7dPMaQWyf"
      }
    },
    {
      "cell_type": "markdown",
      "source": [
        "30. Write a code to convert a list of strings into a set?\n",
        "   -\n",
        "\n",
        "```\n",
        "lst = [\"apple\", \"banana\", \"apple\", \"cherry\"]\n",
        "s = set(lst)\n",
        "print(s)\n",
        "```\n",
        "Output:- {'cherry', 'apple', 'banana'}\n"
      ],
      "metadata": {
        "id": "_Cj9FhQSQk_L"
      }
    }
  ]
}